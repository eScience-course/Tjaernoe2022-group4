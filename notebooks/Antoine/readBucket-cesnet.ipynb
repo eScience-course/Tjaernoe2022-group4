{
 "cells": [
  {
   "cell_type": "code",
   "execution_count": 1,
   "id": "9791b031-37c5-4512-92fd-0043457e1c47",
   "metadata": {},
   "outputs": [],
   "source": [
    "import os\n",
    "import pathlib\n",
    "import s3fs\n",
    "import xarray as xr\n",
    "\n",
    "target = s3fs.S3FileSystem(anon=False,\n",
    "      client_kwargs={\n",
    "         'endpoint_url': 'https://object-store.cloud.muni.cz'\n",
    "      })"
   ]
  },
  {
   "cell_type": "code",
   "execution_count": 2,
   "id": "1d8441c5-5d2b-45e8-916c-f61b5aae14f2",
   "metadata": {},
   "outputs": [
    {
     "data": {
      "text/plain": [
       "[]"
      ]
     },
     "execution_count": 2,
     "metadata": {},
     "output_type": "execute_result"
    }
   ],
   "source": [
    "remote_path ='escience/AntoineH'\n",
    "target.ls(remote_path)"
   ]
  },
  {
   "cell_type": "code",
   "execution_count": null,
   "id": "80dae0cc-858e-4e3e-8101-eea7fac55a25",
   "metadata": {},
   "outputs": [],
   "source": []
  }
 ],
 "metadata": {
  "kernelspec": {
   "display_name": "Python 3 (ipykernel)",
   "language": "python",
   "name": "python3"
  },
  "language_info": {
   "codemirror_mode": {
    "name": "ipython",
    "version": 3
   },
   "file_extension": ".py",
   "mimetype": "text/x-python",
   "name": "python",
   "nbconvert_exporter": "python",
   "pygments_lexer": "ipython3",
   "version": "3.9.13"
  }
 },
 "nbformat": 4,
 "nbformat_minor": 5
}
