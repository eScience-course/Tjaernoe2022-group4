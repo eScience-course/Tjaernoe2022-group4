{
 "cells": [
  {
   "cell_type": "code",
   "execution_count": 1,
   "id": "40443cc2-bd0c-4834-8c30-d5ee883c765b",
   "metadata": {},
   "outputs": [],
   "source": [
    "import xarray as xr\n",
    "import s3fs\n",
    "import matplotlib.pyplot as plt\n",
    "import pandas as pd\n",
    "import cartopy.crs as ccrs\n",
    "from datetime import datetime\n",
    "import numpy as np\n",
    "\n",
    "from dask.diagnostics import ProgressBar\n",
    "\n",
    "# from dask.distributed import Client, LocalCluster"
   ]
  },
  {
   "cell_type": "code",
   "execution_count": 2,
   "id": "be7b7c25-b29d-4183-a021-f3d677a8607e",
   "metadata": {},
   "outputs": [],
   "source": [
    "s3 = s3fs.S3FileSystem(key=\"K1CQ7M1DMTLUFK182APD\", secret=\"3JuZAQm5I03jtpijCpHOdkAsJDNLNfZxBpM15Pi0\", client_kwargs=dict(endpoint_url=\"https://rgw.met.no\"))"
   ]
  },
  {
   "cell_type": "markdown",
   "id": "9e8dd9a2-6cea-4b4b-bc75-bab0be69a0e8",
   "metadata": {
    "jp-MarkdownHeadingCollapsed": true,
    "tags": []
   },
   "source": [
    "## Dask with gateway"
   ]
  },
  {
   "cell_type": "code",
   "execution_count": 5,
   "id": "14743cbb-c74e-4595-974b-2d9115d5bdbe",
   "metadata": {},
   "outputs": [],
   "source": [
    "from dask.distributed import Client\n",
    "from dask_gateway import Gateway\n",
    "gateway = Gateway()"
   ]
  },
  {
   "cell_type": "code",
   "execution_count": 6,
   "id": "255d8748-8b9c-48dd-82d9-fe47614f6701",
   "metadata": {},
   "outputs": [
    {
     "data": {
      "application/vnd.jupyter.widget-view+json": {
       "model_id": "079c2c59e79f4225888ec0323028289b",
       "version_major": 2,
       "version_minor": 0
      },
      "text/plain": [
       "VBox(children=(HTML(value='<h2>GatewayCluster</h2>'), HBox(children=(HTML(value='\\n<div>\\n<style scoped>\\n    …"
      ]
     },
     "metadata": {},
     "output_type": "display_data"
    }
   ],
   "source": [
    "cluster = gateway.new_cluster(worker_memory=4, worker_cores=1)\n",
    "cluster.scale(4)\n",
    "client = Client(cluster) # create a dask Gateway cluster\n",
    "cluster"
   ]
  },
  {
   "cell_type": "code",
   "execution_count": 7,
   "id": "c788d932-3cea-4b71-97a2-e5b7e07fd919",
   "metadata": {},
   "outputs": [
    {
     "data": {
      "text/html": [
       "<div>\n",
       "    <div style=\"width: 24px; height: 24px; background-color: #e1e1e1; border: 3px solid #9D9D9D; border-radius: 5px; position: absolute;\"> </div>\n",
       "    <div style=\"margin-left: 48px;\">\n",
       "        <h3 style=\"margin-bottom: 0px;\">Client</h3>\n",
       "        <p style=\"color: #9D9D9D; margin-bottom: 0px;\">Client-2ce84902-5f4a-11ed-85b2-22e00f8585ea</p>\n",
       "        <table style=\"width: 100%; text-align: left;\">\n",
       "\n",
       "        <tr>\n",
       "        \n",
       "            <td style=\"text-align: left;\"><strong>Connection method:</strong> Cluster object</td>\n",
       "            <td style=\"text-align: left;\"><strong>Cluster type:</strong> dask_gateway.GatewayCluster</td>\n",
       "        \n",
       "        </tr>\n",
       "\n",
       "        \n",
       "            <tr>\n",
       "                <td style=\"text-align: left;\">\n",
       "                    <strong>Dashboard: </strong> <a href=\"/jupyterhub/services/dask-gateway/clusters/daskhub.9c4d9196fee44ed5a7fc0b9c130e71c1/status\" target=\"_blank\">/jupyterhub/services/dask-gateway/clusters/daskhub.9c4d9196fee44ed5a7fc0b9c130e71c1/status</a>\n",
       "                </td>\n",
       "                <td style=\"text-align: left;\"></td>\n",
       "            </tr>\n",
       "        \n",
       "\n",
       "        </table>\n",
       "\n",
       "        \n",
       "            <details>\n",
       "            <summary style=\"margin-bottom: 20px;\"><h3 style=\"display: inline;\">Cluster Info</h3></summary>\n",
       "            <div style='background-color: #f2f2f2; display: inline-block; padding: 10px; border: 1px solid #999999;'>\n",
       "  <h3>GatewayCluster</h3>\n",
       "  <ul>\n",
       "    <li><b>Name: </b>daskhub.9c4d9196fee44ed5a7fc0b9c130e71c1\n",
       "    <li><b>Dashboard: </b><a href='/jupyterhub/services/dask-gateway/clusters/daskhub.9c4d9196fee44ed5a7fc0b9c130e71c1/status' target='_blank'>/jupyterhub/services/dask-gateway/clusters/daskhub.9c4d9196fee44ed5a7fc0b9c130e71c1/status</a>\n",
       "  </ul>\n",
       "</div>\n",
       "\n",
       "            </details>\n",
       "        \n",
       "\n",
       "    </div>\n",
       "</div>"
      ],
      "text/plain": [
       "<Client: 'tls://10.244.13.16:8786' processes=0 threads=0, memory=0 B>"
      ]
     },
     "execution_count": 7,
     "metadata": {},
     "output_type": "execute_result"
    }
   ],
   "source": [
    "if cluster:\n",
    "    client = Client(cluster) # create a dask Gateway cluster\n",
    "else:\n",
    "    client = Client()   # create a local dask cluster on the machine.\n",
    "client"
   ]
  },
  {
   "cell_type": "code",
   "execution_count": 4,
   "id": "a8f5c6ab-5556-4352-9d0c-3d42e1bdaa38",
   "metadata": {},
   "outputs": [],
   "source": [
    "#closing open \n",
    "# clusters=gateway.list_clusters()\n",
    "# print(clusters )\n",
    "# for cluster in clusters :\n",
    "#     cluster= gateway.connect(cluster.name)\n",
    "#     print(cluster)\n",
    "#     client = Client(cluster)\n",
    "#     client.close()\n",
    "#     cluster.shutdown()"
   ]
  },
  {
   "cell_type": "code",
   "execution_count": 6,
   "id": "51300479-f3a9-4f9e-b945-98ff264d378b",
   "metadata": {},
   "outputs": [],
   "source": [
    "# To close at end of session\n",
    "client.close()"
   ]
  },
  {
   "cell_type": "code",
   "execution_count": 7,
   "id": "de2c75eb-7e12-449c-9b3b-985671eca018",
   "metadata": {},
   "outputs": [],
   "source": [
    "cluster.shutdown()"
   ]
  },
  {
   "cell_type": "markdown",
   "id": "da25b685-9452-41ac-beec-bc6464928c3f",
   "metadata": {
    "tags": []
   },
   "source": [
    "## List files"
   ]
  },
  {
   "cell_type": "code",
   "execution_count": 8,
   "id": "43f3707b-2283-46bc-9377-9f6a58a5fcf0",
   "metadata": {},
   "outputs": [
    {
     "data": {
      "text/plain": [
       "['escience2022/Antoine/AMSR-E_ASI_sea_ice_concentration/asi-n6250-20111001-v5.4.nc',\n",
       " 'escience2022/Antoine/AMSR-E_ASI_sea_ice_concentration/asi-n6250-20111002-v5.4.nc',\n",
       " 'escience2022/Antoine/AMSR-E_ASI_sea_ice_concentration/asi-n6250-20111003-v5.4.nc',\n",
       " 'escience2022/Antoine/AMSR-E_ASI_sea_ice_concentration/asi-n6250-20111004-v5.4.nc',\n",
       " 'escience2022/Antoine/AMSR-E_ASI_sea_ice_concentration/zip']"
      ]
     },
     "execution_count": 8,
     "metadata": {},
     "output_type": "execute_result"
    }
   ],
   "source": [
    "s3.ls('escience2022/Antoine/AMSR-E_ASI_sea_ice_concentration')[-5:]"
   ]
  },
  {
   "cell_type": "code",
   "execution_count": 8,
   "id": "79386c23-f19b-4b46-981c-679a76608cc2",
   "metadata": {},
   "outputs": [
    {
     "data": {
      "text/plain": [
       "['escience2022/Antoine/AMSR2_ASI_sea_ice_concentration/asi-AMSR2-n6250-20191227-v5.4.nc',\n",
       " 'escience2022/Antoine/AMSR2_ASI_sea_ice_concentration/asi-AMSR2-n6250-20191228-v5.4.nc',\n",
       " 'escience2022/Antoine/AMSR2_ASI_sea_ice_concentration/asi-AMSR2-n6250-20191229-v5.4.nc',\n",
       " 'escience2022/Antoine/AMSR2_ASI_sea_ice_concentration/asi-AMSR2-n6250-20191230-v5.4.nc',\n",
       " 'escience2022/Antoine/AMSR2_ASI_sea_ice_concentration/asi-AMSR2-n6250-20191231-v5.4.nc']"
      ]
     },
     "execution_count": 8,
     "metadata": {},
     "output_type": "execute_result"
    }
   ],
   "source": [
    "s3.ls('escience2022/Antoine/AMSR2_ASI_sea_ice_concentration')[-5:]"
   ]
  },
  {
   "cell_type": "markdown",
   "id": "a2de8abf-a40a-4545-b2da-00aa719226fd",
   "metadata": {
    "tags": []
   },
   "source": [
    "## Join files into yearly files"
   ]
  },
  {
   "cell_type": "code",
   "execution_count": 3,
   "id": "c0993ef9-aa79-438a-843c-e3b94846abca",
   "metadata": {},
   "outputs": [],
   "source": [
    "bucket = 's3://escience2022/Antoine/'\n"
   ]
  },
  {
   "cell_type": "code",
   "execution_count": null,
   "id": "e4109a19-781d-40d4-92d8-0d0e9af3e277",
   "metadata": {},
   "outputs": [
    {
     "name": "stdout",
     "output_type": "stream",
     "text": [
      "year 2002\n",
      "\t saving to data/SIC/AMSR-E_ASI_sic_2002.nc\n",
      "[######                                  ] | 17% Completed | 192.13 s"
     ]
    },
    {
     "name": "stderr",
     "output_type": "stream",
     "text": [
      "IOStream.flush timed out\n"
     ]
    },
    {
     "name": "stdout",
     "output_type": "stream",
     "text": [
      "[#######                                 ] | 19% Completed | 240.07 s"
     ]
    }
   ],
   "source": [
    "with ProgressBar():\n",
    "    for y in range(2002,2012):\n",
    "        print('year '+ str(y))\n",
    "        fE = bucket +'AMSR-E_ASI_sea_ice_concentration/asi-n6250-%i*.nc'%(y) \n",
    "        fileset = [s3.open(file) for file in s3.glob(fE)]\n",
    "        dset =xr.open_mfdataset(fileset, concat_dim=\"time\", combine = \"nested\")\n",
    "        # one file per day : read the time from the path\n",
    "        time_var = xr.Variable('time', \n",
    "                [datetime.strptime(date.split('/')[-1].split('-')[2], '%Y%m%d') for date in s3.glob(fE)]              \n",
    "                              )\n",
    "        dset = dset.assign_coords(time=time_var)\n",
    "        # saving\n",
    "        sf = 'data/SIC/AMSR-E_ASI_sic_%i.nc'%(y)\n",
    "        print('\\t saving to '+ sf)\n",
    "        dset.to_netcdf(sf)\n",
    "        del dset, time_var\n"
   ]
  },
  {
   "cell_type": "code",
   "execution_count": null,
   "id": "d3e63e85-d40f-4cf8-a6e0-d5af939fc8e4",
   "metadata": {},
   "outputs": [],
   "source": []
  },
  {
   "cell_type": "code",
   "execution_count": 19,
   "id": "112f9a11-3702-4566-99e7-5dc412dc63e6",
   "metadata": {},
   "outputs": [],
   "source": [
    "AMSR2files = [bucket +'AMSR2_ASI_sea_ice_concentration/asi-AMSR2-n6250-%i*.nc'%(y) for y in range(2012,2020)]"
   ]
  },
  {
   "cell_type": "code",
   "execution_count": null,
   "id": "352ca213-501b-442d-b830-043efda28cdc",
   "metadata": {},
   "outputs": [],
   "source": [
    "## "
   ]
  },
  {
   "cell_type": "code",
   "execution_count": null,
   "id": "e85973a3-98be-483f-832b-69ace10ad4ac",
   "metadata": {},
   "outputs": [],
   "source": []
  }
 ],
 "metadata": {
  "kernelspec": {
   "display_name": "Python [conda env:notebook] *",
   "language": "python",
   "name": "conda-env-notebook-py"
  },
  "language_info": {
   "codemirror_mode": {
    "name": "ipython",
    "version": 3
   },
   "file_extension": ".py",
   "mimetype": "text/x-python",
   "name": "python",
   "nbconvert_exporter": "python",
   "pygments_lexer": "ipython3",
   "version": "3.9.13"
  }
 },
 "nbformat": 4,
 "nbformat_minor": 5
}
