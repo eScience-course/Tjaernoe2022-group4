{
 "cells": [
  {
   "cell_type": "markdown",
   "id": "several-banking",
   "metadata": {},
   "source": [
    "# Save netCDF files to EOSC (CESNET) bucket"
   ]
  },
  {
   "cell_type": "code",
   "execution_count": 9,
   "id": "another-shelf",
   "metadata": {
    "tags": []
   },
   "outputs": [],
   "source": [
    "import os\n",
    "import pathlib\n",
    "import s3fs\n",
    "import xarray as xr"
   ]
  },
  {
   "cell_type": "markdown",
   "id": "quick-style",
   "metadata": {},
   "source": [
    "## Save your results to Remote object storage\n",
    "- If not done, create your credentials by follwoing [this link](../EOSC_to_bucket.md)\n",
    "- Verify your credentials in `/home/jovyan/.aws/credentials` \n",
    "It should look like \n",
    "\n",
    "```\n",
    "[default]\n",
    "aws_access_key_id=xxxxx\n",
    "aws_secret_access_key=yyyy\n",
    "```\n"
   ]
  },
  {
   "cell_type": "code",
   "execution_count": 10,
   "id": "distributed-plaza",
   "metadata": {},
   "outputs": [],
   "source": [
    "target = s3fs.S3FileSystem(anon=False,\n",
    "      client_kwargs={\n",
    "         'endpoint_url': 'https://object-store.cloud.muni.cz'\n",
    "      })"
   ]
  },
  {
   "cell_type": "markdown",
   "id": "0f8e176e-f3b9-4ff3-a69d-47d2b308abaa",
   "metadata": {},
   "source": [
    "Set the bucket and place where you'll copy your data to "
   ]
  },
  {
   "cell_type": "code",
   "execution_count": 11,
   "id": "eight-coach",
   "metadata": {},
   "outputs": [
    {
     "name": "stdout",
     "output_type": "stream",
     "text": [
      "s3://escience/AntoineH\n"
     ]
    }
   ],
   "source": [
    "s3_prefix =  \"s3://escience/AntoineH\"\n",
    "print(s3_prefix)"
   ]
  },
  {
   "cell_type": "markdown",
   "id": "48e45a49-597d-4567-ba41-f44e5440dc85",
   "metadata": {},
   "source": [
    "List files you want to copy"
   ]
  },
  {
   "cell_type": "code",
   "execution_count": 12,
   "id": "social-demographic",
   "metadata": {},
   "outputs": [
    {
     "data": {
      "text/plain": [
       "['dms2010.nc']"
      ]
     },
     "execution_count": 12,
     "metadata": {},
     "output_type": "execute_result"
    }
   ],
   "source": [
    "import glob\n",
    "list_files = glob.glob(\"*.nc\")\n",
    "list_files"
   ]
  },
  {
   "cell_type": "markdown",
   "id": "536f7ff6-df10-4efd-9644-a53df3eddb5e",
   "metadata": {},
   "source": [
    "Put them to s3 storage"
   ]
  },
  {
   "cell_type": "code",
   "execution_count": 13,
   "id": "chubby-price",
   "metadata": {},
   "outputs": [
    {
     "name": "stdout",
     "output_type": "stream",
     "text": [
      "dms2010.nc s3://escience/AntoineH/dms2010.nc\n"
     ]
    }
   ],
   "source": [
    "for file in list_files:\n",
    "    s3_path_file = os.path.join(s3_prefix, os.path.basename(file))\n",
    "    print(file, s3_path_file)\n",
    "    target.put(file, s3_path_file)"
   ]
  },
  {
   "cell_type": "markdown",
   "id": "statewide-arbitration",
   "metadata": {},
   "source": [
    "## You can now use the remote file"
   ]
  },
  {
   "cell_type": "code",
   "execution_count": 14,
   "id": "standing-blackjack",
   "metadata": {},
   "outputs": [
    {
     "data": {
      "text/plain": [
       "['escience/AntoineH/dms2010.nc']"
      ]
     },
     "execution_count": 14,
     "metadata": {},
     "output_type": "execute_result"
    }
   ],
   "source": [
    "remote_path ='escience/'+your_name\n",
    "target.ls(remote_path)"
   ]
  },
  {
   "cell_type": "code",
   "execution_count": null,
   "id": "5c94c226-0f3e-467b-8fd0-b0bda0cf1754",
   "metadata": {},
   "outputs": [],
   "source": []
  }
 ],
 "metadata": {
  "kernelspec": {
   "display_name": "Python 3 (ipykernel)",
   "language": "python",
   "name": "python3"
  },
  "language_info": {
   "codemirror_mode": {
    "name": "ipython",
    "version": 3
   },
   "file_extension": ".py",
   "mimetype": "text/x-python",
   "name": "python",
   "nbconvert_exporter": "python",
   "pygments_lexer": "ipython3",
   "version": "3.9.13"
  }
 },
 "nbformat": 4,
 "nbformat_minor": 5
}
