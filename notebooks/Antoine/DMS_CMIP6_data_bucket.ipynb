{
 "cells": [
  {
   "cell_type": "markdown",
   "id": "fcf8d76b-8e25-47a7-a353-5dcbdd49a057",
   "metadata": {},
   "source": [
    "## DMS - CMIP6 data"
   ]
  },
  {
   "cell_type": "code",
   "execution_count": 1,
   "id": "d734a409-06bd-4503-ac23-927ce32dd2a0",
   "metadata": {},
   "outputs": [],
   "source": [
    "import xarray as xr\n",
    "import cftime\n",
    "import matplotlib.pyplot as plt\n",
    "import cartopy.crs as ccrs\n",
    "%matplotlib inline\n",
    "from dask.diagnostics import ProgressBar"
   ]
  },
  {
   "cell_type": "markdown",
   "id": "09bfb657-17c3-412e-a559-dc29eeccb8c6",
   "metadata": {},
   "source": [
    "## Dask local"
   ]
  },
  {
   "cell_type": "code",
   "execution_count": 2,
   "id": "2056dbb4-83b0-4659-b175-f9065dc9aa45",
   "metadata": {},
   "outputs": [],
   "source": [
    "from dask.distributed import Client\n",
    "client = Client()   # create a local dask cluster on the local machine.\n"
   ]
  },
  {
   "cell_type": "markdown",
   "id": "533d8bc4-a97b-4239-bdc4-db7dc85526df",
   "metadata": {},
   "source": [
    "### Dask with gateway"
   ]
  },
  {
   "cell_type": "code",
   "execution_count": 2,
   "id": "204eaa89-e4e7-4438-a064-e81fcf639c5d",
   "metadata": {},
   "outputs": [],
   "source": [
    "from dask.distributed import Client\n",
    "from dask_gateway import Gateway\n",
    "gateway = Gateway()"
   ]
  },
  {
   "cell_type": "code",
   "execution_count": 4,
   "id": "39d38ef9-e404-4f11-9ab6-cae0c10e7f7e",
   "metadata": {},
   "outputs": [],
   "source": [
    "#closing open \n",
    "# clusters=gateway.list_clusters()\n",
    "# print(clusters )\n",
    "# for cluster in clusters :\n",
    "#     cluster= gateway.connect(cluster.name)\n",
    "#     print(cluster)\n",
    "#     client = Client(cluster)\n",
    "#     client.close()\n",
    "#     cluster.shutdown()"
   ]
  },
  {
   "cell_type": "code",
   "execution_count": 6,
   "id": "1282ae5f-3648-4837-b542-5f08fb0e216e",
   "metadata": {},
   "outputs": [
    {
     "data": {
      "application/vnd.jupyter.widget-view+json": {
       "model_id": "b0f0751b6a814f77b0c60a10fd8df496",
       "version_major": 2,
       "version_minor": 0
      },
      "text/plain": [
       "VBox(children=(HTML(value='<h2>GatewayCluster</h2>'), HBox(children=(HTML(value='\\n<div>\\n<style scoped>\\n    …"
      ]
     },
     "metadata": {},
     "output_type": "display_data"
    }
   ],
   "source": [
    "cluster = gateway.new_cluster(worker_memory=2, worker_cores=1)\n",
    "cluster.scale(8)\n",
    "client = Client(cluster) # create a dask Gateway cluster\n",
    "cluster"
   ]
  },
  {
   "cell_type": "code",
   "execution_count": 7,
   "id": "6a7665f4-d609-4f23-a09e-591572ec27b1",
   "metadata": {},
   "outputs": [
    {
     "data": {
      "text/html": [
       "<div>\n",
       "    <div style=\"width: 24px; height: 24px; background-color: #e1e1e1; border: 3px solid #9D9D9D; border-radius: 5px; position: absolute;\"> </div>\n",
       "    <div style=\"margin-left: 48px;\">\n",
       "        <h3 style=\"margin-bottom: 0px;\">Client</h3>\n",
       "        <p style=\"color: #9D9D9D; margin-bottom: 0px;\">Client-607e3125-5c77-11ed-abd4-d686b8b3c10f</p>\n",
       "        <table style=\"width: 100%; text-align: left;\">\n",
       "\n",
       "        <tr>\n",
       "        \n",
       "            <td style=\"text-align: left;\"><strong>Connection method:</strong> Cluster object</td>\n",
       "            <td style=\"text-align: left;\"><strong>Cluster type:</strong> dask_gateway.GatewayCluster</td>\n",
       "        \n",
       "        </tr>\n",
       "\n",
       "        \n",
       "            <tr>\n",
       "                <td style=\"text-align: left;\">\n",
       "                    <strong>Dashboard: </strong> <a href=\"/jupyterhub/services/dask-gateway/clusters/daskhub.14da8a320aef49428581259c223b5bab/status\" target=\"_blank\">/jupyterhub/services/dask-gateway/clusters/daskhub.14da8a320aef49428581259c223b5bab/status</a>\n",
       "                </td>\n",
       "                <td style=\"text-align: left;\"></td>\n",
       "            </tr>\n",
       "        \n",
       "\n",
       "        </table>\n",
       "\n",
       "        \n",
       "            <details>\n",
       "            <summary style=\"margin-bottom: 20px;\"><h3 style=\"display: inline;\">Cluster Info</h3></summary>\n",
       "            <div style='background-color: #f2f2f2; display: inline-block; padding: 10px; border: 1px solid #999999;'>\n",
       "  <h3>GatewayCluster</h3>\n",
       "  <ul>\n",
       "    <li><b>Name: </b>daskhub.14da8a320aef49428581259c223b5bab\n",
       "    <li><b>Dashboard: </b><a href='/jupyterhub/services/dask-gateway/clusters/daskhub.14da8a320aef49428581259c223b5bab/status' target='_blank'>/jupyterhub/services/dask-gateway/clusters/daskhub.14da8a320aef49428581259c223b5bab/status</a>\n",
       "  </ul>\n",
       "</div>\n",
       "\n",
       "            </details>\n",
       "        \n",
       "\n",
       "    </div>\n",
       "</div>"
      ],
      "text/plain": [
       "<Client: 'tls://10.244.6.13:8786' processes=0 threads=0, memory=0 B>"
      ]
     },
     "execution_count": 7,
     "metadata": {},
     "output_type": "execute_result"
    }
   ],
   "source": [
    "if cluster:\n",
    "    client = Client(cluster) # create a dask Gateway cluster\n",
    "else:\n",
    "    client = Client()   # create a local dask cluster on the machine.\n",
    "client"
   ]
  },
  {
   "cell_type": "code",
   "execution_count": 6,
   "id": "3d8a5764-e54c-4b92-b179-d2f58e1e2d27",
   "metadata": {},
   "outputs": [],
   "source": [
    "# To close at end of session\n",
    "client.close()"
   ]
  },
  {
   "cell_type": "code",
   "execution_count": 7,
   "id": "6d22add1-1a3d-48d8-b2bb-bccc46e82598",
   "metadata": {},
   "outputs": [],
   "source": [
    "cluster.shutdown()"
   ]
  },
  {
   "cell_type": "markdown",
   "id": "21a04aa4-289c-4e1f-ac19-c9e999458d15",
   "metadata": {},
   "source": [
    "### data from CMIP6 of DMS "
   ]
  },
  {
   "cell_type": "code",
   "execution_count": 2,
   "id": "db4e193b-0e99-40d5-8926-22ab7269857c",
   "metadata": {},
   "outputs": [
    {
     "data": {
      "text/plain": [
       "['escience2022/Ada/monthly/dmsos_Omon_CNRM-ESM2-1_esm-hist_r1i1p1f2_gn_185001-201412.nc',\n",
       " 'escience2022/Ada/monthly/dmsos_Omon_CNRM-ESM2-1_historical_r1i1p1f2_gn_185001-201412.nc',\n",
       " 'escience2022/Ada/monthly/dmsos_Omon_CNRM-ESM2-1_omip1_r1i1p1f2_gn_170001-194912.nc',\n",
       " 'escience2022/Ada/monthly/dmsos_Omon_CNRM-ESM2-1_omip1_r1i1p1f2_gn_195001-200912.nc',\n",
       " 'escience2022/Ada/monthly/dmsos_Omon_NorESM2-LM_esm-hist_r1i1p1f1_gn_185001-185912.nc',\n",
       " 'escience2022/Ada/monthly/dmsos_Omon_NorESM2-LM_esm-hist_r1i1p1f1_gn_186001-186912.nc',\n",
       " 'escience2022/Ada/monthly/dmsos_Omon_NorESM2-LM_esm-hist_r1i1p1f1_gn_187001-187912.nc',\n",
       " 'escience2022/Ada/monthly/dmsos_Omon_NorESM2-LM_esm-hist_r1i1p1f1_gn_188001-188912.nc',\n",
       " 'escience2022/Ada/monthly/dmsos_Omon_NorESM2-LM_esm-hist_r1i1p1f1_gn_189001-189912.nc',\n",
       " 'escience2022/Ada/monthly/dmsos_Omon_NorESM2-LM_esm-hist_r1i1p1f1_gn_190001-190912.nc',\n",
       " 'escience2022/Ada/monthly/dmsos_Omon_NorESM2-LM_esm-hist_r1i1p1f1_gn_191001-191912.nc',\n",
       " 'escience2022/Ada/monthly/dmsos_Omon_NorESM2-LM_esm-hist_r1i1p1f1_gn_192001-192912.nc',\n",
       " 'escience2022/Ada/monthly/dmsos_Omon_NorESM2-LM_esm-hist_r1i1p1f1_gn_193001-193912.nc',\n",
       " 'escience2022/Ada/monthly/dmsos_Omon_NorESM2-LM_esm-hist_r1i1p1f1_gn_194001-194912.nc',\n",
       " 'escience2022/Ada/monthly/dmsos_Omon_NorESM2-LM_esm-hist_r1i1p1f1_gn_195001-195912.nc',\n",
       " 'escience2022/Ada/monthly/dmsos_Omon_NorESM2-LM_esm-hist_r1i1p1f1_gn_196001-196912.nc',\n",
       " 'escience2022/Ada/monthly/dmsos_Omon_NorESM2-LM_esm-hist_r1i1p1f1_gn_197001-197912.nc',\n",
       " 'escience2022/Ada/monthly/dmsos_Omon_NorESM2-LM_esm-hist_r1i1p1f1_gn_198001-198912.nc',\n",
       " 'escience2022/Ada/monthly/dmsos_Omon_NorESM2-LM_esm-hist_r1i1p1f1_gn_199001-199912.nc',\n",
       " 'escience2022/Ada/monthly/dmsos_Omon_NorESM2-LM_esm-hist_r1i1p1f1_gn_200001-200912.nc',\n",
       " 'escience2022/Ada/monthly/dmsos_Omon_NorESM2-LM_esm-hist_r1i1p1f1_gn_201001-201412.nc',\n",
       " 'escience2022/Ada/monthly/dmsos_Omon_NorESM2-LM_historical_r1i1p1f1_gn_185001-185912.nc',\n",
       " 'escience2022/Ada/monthly/dmsos_Omon_NorESM2-LM_historical_r1i1p1f1_gn_186001-186912.nc',\n",
       " 'escience2022/Ada/monthly/dmsos_Omon_NorESM2-LM_historical_r1i1p1f1_gn_187001-187912.nc',\n",
       " 'escience2022/Ada/monthly/dmsos_Omon_NorESM2-LM_historical_r1i1p1f1_gn_188001-188912.nc',\n",
       " 'escience2022/Ada/monthly/dmsos_Omon_NorESM2-LM_historical_r1i1p1f1_gn_189001-189912.nc',\n",
       " 'escience2022/Ada/monthly/dmsos_Omon_NorESM2-LM_historical_r1i1p1f1_gn_190001-190912.nc',\n",
       " 'escience2022/Ada/monthly/dmsos_Omon_NorESM2-LM_historical_r1i1p1f1_gn_191001-191912.nc',\n",
       " 'escience2022/Ada/monthly/dmsos_Omon_NorESM2-LM_historical_r1i1p1f1_gn_192001-192912.nc',\n",
       " 'escience2022/Ada/monthly/dmsos_Omon_NorESM2-LM_historical_r1i1p1f1_gn_193001-193912.nc',\n",
       " 'escience2022/Ada/monthly/dmsos_Omon_NorESM2-LM_historical_r1i1p1f1_gn_194001-194912.nc',\n",
       " 'escience2022/Ada/monthly/dmsos_Omon_NorESM2-LM_historical_r1i1p1f1_gn_195001-195912.nc',\n",
       " 'escience2022/Ada/monthly/dmsos_Omon_NorESM2-LM_historical_r1i1p1f1_gn_196001-196912.nc',\n",
       " 'escience2022/Ada/monthly/dmsos_Omon_NorESM2-LM_historical_r1i1p1f1_gn_197001-197912.nc',\n",
       " 'escience2022/Ada/monthly/dmsos_Omon_NorESM2-LM_historical_r1i1p1f1_gn_198001-198912.nc',\n",
       " 'escience2022/Ada/monthly/dmsos_Omon_NorESM2-LM_historical_r1i1p1f1_gn_199001-199912.nc',\n",
       " 'escience2022/Ada/monthly/dmsos_Omon_NorESM2-LM_historical_r1i1p1f1_gn_200001-200912.nc',\n",
       " 'escience2022/Ada/monthly/dmsos_Omon_NorESM2-LM_historical_r1i1p1f1_gn_201001-201412.nc',\n",
       " 'escience2022/Ada/monthly/dmsos_Omon_NorESM2-LM_omip1_r1i1p1f1_gn_170001-170912.nc',\n",
       " 'escience2022/Ada/monthly/dmsos_Omon_NorESM2-LM_omip1_r1i1p1f1_gn_171001-171912.nc',\n",
       " 'escience2022/Ada/monthly/dmsos_Omon_NorESM2-LM_omip1_r1i1p1f1_gn_172001-172912.nc',\n",
       " 'escience2022/Ada/monthly/dmsos_Omon_NorESM2-LM_omip1_r1i1p1f1_gn_173001-173912.nc',\n",
       " 'escience2022/Ada/monthly/dmsos_Omon_NorESM2-LM_omip1_r1i1p1f1_gn_174001-174912.nc',\n",
       " 'escience2022/Ada/monthly/dmsos_Omon_NorESM2-LM_omip1_r1i1p1f1_gn_175001-175912.nc',\n",
       " 'escience2022/Ada/monthly/dmsos_Omon_NorESM2-LM_omip1_r1i1p1f1_gn_176001-176912.nc',\n",
       " 'escience2022/Ada/monthly/dmsos_Omon_NorESM2-LM_omip1_r1i1p1f1_gn_177001-177912.nc',\n",
       " 'escience2022/Ada/monthly/dmsos_Omon_NorESM2-LM_omip1_r1i1p1f1_gn_178001-178912.nc',\n",
       " 'escience2022/Ada/monthly/dmsos_Omon_NorESM2-LM_omip1_r1i1p1f1_gn_179001-179912.nc',\n",
       " 'escience2022/Ada/monthly/dmsos_Omon_NorESM2-LM_omip1_r1i1p1f1_gn_180001-180912.nc',\n",
       " 'escience2022/Ada/monthly/dmsos_Omon_NorESM2-LM_omip1_r1i1p1f1_gn_181001-181912.nc',\n",
       " 'escience2022/Ada/monthly/dmsos_Omon_NorESM2-LM_omip1_r1i1p1f1_gn_182001-182912.nc',\n",
       " 'escience2022/Ada/monthly/dmsos_Omon_NorESM2-LM_omip1_r1i1p1f1_gn_183001-183912.nc',\n",
       " 'escience2022/Ada/monthly/dmsos_Omon_NorESM2-LM_omip1_r1i1p1f1_gn_184001-184912.nc',\n",
       " 'escience2022/Ada/monthly/dmsos_Omon_NorESM2-LM_omip1_r1i1p1f1_gn_185001-185912.nc',\n",
       " 'escience2022/Ada/monthly/dmsos_Omon_NorESM2-LM_omip1_r1i1p1f1_gn_186001-186912.nc',\n",
       " 'escience2022/Ada/monthly/dmsos_Omon_NorESM2-LM_omip1_r1i1p1f1_gn_187001-187912.nc',\n",
       " 'escience2022/Ada/monthly/dmsos_Omon_NorESM2-LM_omip1_r1i1p1f1_gn_188001-188912.nc',\n",
       " 'escience2022/Ada/monthly/dmsos_Omon_NorESM2-LM_omip1_r1i1p1f1_gn_189001-189912.nc',\n",
       " 'escience2022/Ada/monthly/dmsos_Omon_NorESM2-LM_omip1_r1i1p1f1_gn_190001-190912.nc',\n",
       " 'escience2022/Ada/monthly/dmsos_Omon_NorESM2-LM_omip1_r1i1p1f1_gn_191001-191912.nc',\n",
       " 'escience2022/Ada/monthly/dmsos_Omon_NorESM2-LM_omip1_r1i1p1f1_gn_192001-192912.nc',\n",
       " 'escience2022/Ada/monthly/dmsos_Omon_NorESM2-LM_omip1_r1i1p1f1_gn_193001-193912.nc',\n",
       " 'escience2022/Ada/monthly/dmsos_Omon_NorESM2-LM_omip1_r1i1p1f1_gn_194001-194912.nc',\n",
       " 'escience2022/Ada/monthly/dmsos_Omon_NorESM2-LM_omip1_r1i1p1f1_gn_195001-195912.nc',\n",
       " 'escience2022/Ada/monthly/dmsos_Omon_NorESM2-LM_omip1_r1i1p1f1_gn_196001-196912.nc',\n",
       " 'escience2022/Ada/monthly/dmsos_Omon_NorESM2-LM_omip1_r1i1p1f1_gn_197001-197912.nc',\n",
       " 'escience2022/Ada/monthly/dmsos_Omon_NorESM2-LM_omip1_r1i1p1f1_gn_198001-198912.nc',\n",
       " 'escience2022/Ada/monthly/dmsos_Omon_NorESM2-LM_omip1_r1i1p1f1_gn_199001-199912.nc',\n",
       " 'escience2022/Ada/monthly/dmsos_Omon_NorESM2-LM_omip1_r1i1p1f1_gn_200001-200912.nc',\n",
       " 'escience2022/Ada/monthly/dmsos_Omon_NorESM2-LM_omip1_r1i1p1f1_gn_201001-201912.nc',\n",
       " 'escience2022/Ada/monthly/dmsos_Omon_NorESM2-LM_omip1_r1i1p1f1_gn_202001-202912.nc',\n",
       " 'escience2022/Ada/monthly/dmsos_Omon_NorESM2-LM_omip1_r1i1p1f1_gn_203001-203912.nc',\n",
       " 'escience2022/Ada/monthly/dmsos_Omon_NorESM2-LM_omip1_r1i1p1f1_gn_204001-204912.nc',\n",
       " 'escience2022/Ada/monthly/dmsos_Omon_NorESM2-LM_omip1_r1i1p1f1_gn_205001-205912.nc',\n",
       " 'escience2022/Ada/monthly/dmsos_Omon_NorESM2-LM_omip1_r1i1p1f1_gn_206001-206912.nc',\n",
       " 'escience2022/Ada/monthly/dmsos_Omon_NorESM2-LM_omip1_r1i1p1f1_gn_207001-207112.nc',\n",
       " 'escience2022/Ada/monthly/dmsos_Omon_UKESM1-0-LL_historical_r1i1p1f2_gn_185001-194912.nc',\n",
       " 'escience2022/Ada/monthly/dmsos_Omon_UKESM1-0-LL_historical_r1i1p1f2_gn_195001-201412.nc',\n",
       " 'escience2022/Ada/monthly/emidms_AERmon_NorESM2-LM_esm-hist_r1i1p1f1_gn_185001-185912.nc',\n",
       " 'escience2022/Ada/monthly/emidms_AERmon_NorESM2-LM_esm-hist_r1i1p1f1_gn_186001-186912.nc',\n",
       " 'escience2022/Ada/monthly/emidms_AERmon_NorESM2-LM_esm-hist_r1i1p1f1_gn_187001-187912.nc',\n",
       " 'escience2022/Ada/monthly/emidms_AERmon_NorESM2-LM_esm-hist_r1i1p1f1_gn_188001-188912.nc',\n",
       " 'escience2022/Ada/monthly/emidms_AERmon_NorESM2-LM_esm-hist_r1i1p1f1_gn_189001-189912.nc',\n",
       " 'escience2022/Ada/monthly/emidms_AERmon_NorESM2-LM_esm-hist_r1i1p1f1_gn_190001-190912.nc',\n",
       " 'escience2022/Ada/monthly/emidms_AERmon_NorESM2-LM_esm-hist_r1i1p1f1_gn_191001-191912.nc',\n",
       " 'escience2022/Ada/monthly/emidms_AERmon_NorESM2-LM_esm-hist_r1i1p1f1_gn_192001-192912.nc',\n",
       " 'escience2022/Ada/monthly/emidms_AERmon_NorESM2-LM_esm-hist_r1i1p1f1_gn_193001-193912.nc',\n",
       " 'escience2022/Ada/monthly/emidms_AERmon_NorESM2-LM_esm-hist_r1i1p1f1_gn_194001-194912.nc',\n",
       " 'escience2022/Ada/monthly/emidms_AERmon_NorESM2-LM_esm-hist_r1i1p1f1_gn_195001-195912.nc',\n",
       " 'escience2022/Ada/monthly/emidms_AERmon_NorESM2-LM_esm-hist_r1i1p1f1_gn_196001-196912.nc',\n",
       " 'escience2022/Ada/monthly/emidms_AERmon_NorESM2-LM_esm-hist_r1i1p1f1_gn_197001-197912.nc',\n",
       " 'escience2022/Ada/monthly/emidms_AERmon_NorESM2-LM_esm-hist_r1i1p1f1_gn_198001-198912.nc',\n",
       " 'escience2022/Ada/monthly/emidms_AERmon_NorESM2-LM_esm-hist_r1i1p1f1_gn_199001-199912.nc',\n",
       " 'escience2022/Ada/monthly/emidms_AERmon_NorESM2-LM_esm-hist_r1i1p1f1_gn_200001-200912.nc',\n",
       " 'escience2022/Ada/monthly/emidms_AERmon_NorESM2-LM_esm-hist_r1i1p1f1_gn_201001-201412.nc',\n",
       " 'escience2022/Ada/monthly/emidms_AERmon_NorESM2-LM_esm-ssp585_r1i1p1f1_gn_201501-202012.nc',\n",
       " 'escience2022/Ada/monthly/emidms_AERmon_NorESM2-LM_esm-ssp585_r1i1p1f1_gn_202101-203012.nc',\n",
       " 'escience2022/Ada/monthly/emidms_AERmon_NorESM2-LM_esm-ssp585_r1i1p1f1_gn_203101-204012.nc',\n",
       " 'escience2022/Ada/monthly/emidms_AERmon_NorESM2-LM_esm-ssp585_r1i1p1f1_gn_204101-205012.nc',\n",
       " 'escience2022/Ada/monthly/emidms_AERmon_NorESM2-LM_esm-ssp585_r1i1p1f1_gn_205101-206012.nc',\n",
       " 'escience2022/Ada/monthly/emidms_AERmon_NorESM2-LM_esm-ssp585_r1i1p1f1_gn_206101-207012.nc',\n",
       " 'escience2022/Ada/monthly/emidms_AERmon_NorESM2-LM_esm-ssp585_r1i1p1f1_gn_207101-208012.nc',\n",
       " 'escience2022/Ada/monthly/emidms_AERmon_NorESM2-LM_esm-ssp585_r1i1p1f1_gn_208101-209012.nc',\n",
       " 'escience2022/Ada/monthly/emidms_AERmon_NorESM2-LM_esm-ssp585_r1i1p1f1_gn_209101-210012.nc',\n",
       " 'escience2022/Ada/monthly/emidms_AERmon_NorESM2-LM_historical_r1i1p1f1_gn_185001-185912.nc',\n",
       " 'escience2022/Ada/monthly/emidms_AERmon_NorESM2-LM_historical_r1i1p1f1_gn_186001-186912.nc',\n",
       " 'escience2022/Ada/monthly/emidms_AERmon_NorESM2-LM_historical_r1i1p1f1_gn_187001-187912.nc',\n",
       " 'escience2022/Ada/monthly/emidms_AERmon_NorESM2-LM_historical_r1i1p1f1_gn_188001-188912.nc',\n",
       " 'escience2022/Ada/monthly/emidms_AERmon_NorESM2-LM_historical_r1i1p1f1_gn_189001-189912.nc',\n",
       " 'escience2022/Ada/monthly/emidms_AERmon_NorESM2-LM_historical_r1i1p1f1_gn_190001-190912.nc',\n",
       " 'escience2022/Ada/monthly/emidms_AERmon_NorESM2-LM_historical_r1i1p1f1_gn_191001-191912.nc',\n",
       " 'escience2022/Ada/monthly/emidms_AERmon_NorESM2-LM_historical_r1i1p1f1_gn_192001-192912.nc',\n",
       " 'escience2022/Ada/monthly/emidms_AERmon_NorESM2-LM_historical_r1i1p1f1_gn_193001-193912.nc',\n",
       " 'escience2022/Ada/monthly/emidms_AERmon_NorESM2-LM_historical_r1i1p1f1_gn_194001-194912.nc',\n",
       " 'escience2022/Ada/monthly/emidms_AERmon_NorESM2-LM_historical_r1i1p1f1_gn_195001-195912.nc',\n",
       " 'escience2022/Ada/monthly/emidms_AERmon_NorESM2-LM_historical_r1i1p1f1_gn_196001-196912.nc',\n",
       " 'escience2022/Ada/monthly/emidms_AERmon_NorESM2-LM_historical_r1i1p1f1_gn_197001-197912.nc',\n",
       " 'escience2022/Ada/monthly/emidms_AERmon_NorESM2-LM_historical_r1i1p1f1_gn_198001-198912.nc',\n",
       " 'escience2022/Ada/monthly/emidms_AERmon_NorESM2-LM_historical_r1i1p1f1_gn_199001-199912.nc',\n",
       " 'escience2022/Ada/monthly/emidms_AERmon_NorESM2-LM_historical_r1i1p1f1_gn_200001-200912.nc',\n",
       " 'escience2022/Ada/monthly/emidms_AERmon_NorESM2-LM_historical_r1i1p1f1_gn_201001-201412.nc',\n",
       " 'escience2022/Ada/monthly/emidms_AERmon_NorESM2-LM_ssp585_r1i1p1f1_gn_201501-202012.nc',\n",
       " 'escience2022/Ada/monthly/emidms_AERmon_NorESM2-LM_ssp585_r1i1p1f1_gn_202101-203012.nc',\n",
       " 'escience2022/Ada/monthly/emidms_AERmon_NorESM2-LM_ssp585_r1i1p1f1_gn_203101-204012.nc',\n",
       " 'escience2022/Ada/monthly/emidms_AERmon_NorESM2-LM_ssp585_r1i1p1f1_gn_204101-205012.nc',\n",
       " 'escience2022/Ada/monthly/emidms_AERmon_NorESM2-LM_ssp585_r1i1p1f1_gn_205101-206012.nc',\n",
       " 'escience2022/Ada/monthly/emidms_AERmon_NorESM2-LM_ssp585_r1i1p1f1_gn_206101-207012.nc',\n",
       " 'escience2022/Ada/monthly/emidms_AERmon_NorESM2-LM_ssp585_r1i1p1f1_gn_207101-208012.nc',\n",
       " 'escience2022/Ada/monthly/emidms_AERmon_NorESM2-LM_ssp585_r1i1p1f1_gn_208101-209012.nc',\n",
       " 'escience2022/Ada/monthly/emidms_AERmon_NorESM2-LM_ssp585_r1i1p1f1_gn_209101-210012.nc',\n",
       " 'escience2022/Ada/monthly/emidms_AERmon_UKESM1-0-LL_esm-hist_r1i1p1f2_gn_185001-194912.nc',\n",
       " 'escience2022/Ada/monthly/emidms_AERmon_UKESM1-0-LL_esm-hist_r1i1p1f2_gn_195001-201412.nc',\n",
       " 'escience2022/Ada/monthly/emidms_AERmon_UKESM1-0-LL_historical_r1i1p1f2_gn_185001-194912.nc',\n",
       " 'escience2022/Ada/monthly/emidms_AERmon_UKESM1-0-LL_historical_r1i1p1f2_gn_195001-201412.nc',\n",
       " 'escience2022/Ada/monthly/fgdms_Omon_CNRM-ESM2-1_esm-hist_r1i1p1f2_gn_185001-201412.nc',\n",
       " 'escience2022/Ada/monthly/fgdms_Omon_CNRM-ESM2-1_historical_r1i1p1f2_gn_185001-201412.nc']"
      ]
     },
     "execution_count": 2,
     "metadata": {},
     "output_type": "execute_result"
    }
   ],
   "source": [
    "import s3fs\n",
    "s3 = s3fs.S3FileSystem(key=\"K1CQ7M1DMTLUFK182APD\", secret=\"3JuZAQm5I03jtpijCpHOdkAsJDNLNfZxBpM15Pi0\", client_kwargs=dict(endpoint_url=\"https://rgw.met.no\"))\n",
    "# list avilable data in the bucket\n",
    "s3.ls('escience2022/Ada/monthly')\n",
    "dir = 'escience2022/Ada/monthly'\n",
    "files = [file for file in s3.ls(dir) if 'dms' in file ]\n",
    "files"
   ]
  },
  {
   "cell_type": "code",
   "execution_count": 3,
   "id": "f7c335ac-58cb-4fb8-a8d5-30ca035aaf64",
   "metadata": {},
   "outputs": [
    {
     "ename": "ValueError",
     "evalue": "did not find a match in any of xarray's currently installed IO backends ['netcdf4', 'h5netcdf', 'scipy', 'cfgrib', 'pydap', 'rasterio', 'zarr']. Consider explicitly selecting one of the installed engines via the ``engine`` parameter, or installing additional IO dependencies, see:\nhttps://docs.xarray.dev/en/stable/getting-started-guide/installing.html\nhttps://docs.xarray.dev/en/stable/user-guide/io.html",
     "output_type": "error",
     "traceback": [
      "\u001b[0;31m---------------------------------------------------------------------------\u001b[0m",
      "\u001b[0;31mValueError\u001b[0m                                Traceback (most recent call last)",
      "File \u001b[0;32m<timed exec>:10\u001b[0m, in \u001b[0;36m<module>\u001b[0;34m\u001b[0m\n",
      "File \u001b[0;32m/srv/conda/envs/notebook/lib/python3.9/site-packages/xarray/backends/api.py:972\u001b[0m, in \u001b[0;36mopen_mfdataset\u001b[0;34m(paths, chunks, concat_dim, compat, preprocess, engine, data_vars, coords, combine, parallel, join, attrs_file, combine_attrs, **kwargs)\u001b[0m\n\u001b[1;32m    969\u001b[0m     open_ \u001b[38;5;241m=\u001b[39m open_dataset\n\u001b[1;32m    970\u001b[0m     getattr_ \u001b[38;5;241m=\u001b[39m \u001b[38;5;28mgetattr\u001b[39m\n\u001b[0;32m--> 972\u001b[0m datasets \u001b[38;5;241m=\u001b[39m [open_(p, \u001b[38;5;241m*\u001b[39m\u001b[38;5;241m*\u001b[39mopen_kwargs) \u001b[38;5;28;01mfor\u001b[39;00m p \u001b[38;5;129;01min\u001b[39;00m paths]\n\u001b[1;32m    973\u001b[0m closers \u001b[38;5;241m=\u001b[39m [getattr_(ds, \u001b[38;5;124m\"\u001b[39m\u001b[38;5;124m_close\u001b[39m\u001b[38;5;124m\"\u001b[39m) \u001b[38;5;28;01mfor\u001b[39;00m ds \u001b[38;5;129;01min\u001b[39;00m datasets]\n\u001b[1;32m    974\u001b[0m \u001b[38;5;28;01mif\u001b[39;00m preprocess \u001b[38;5;129;01mis\u001b[39;00m \u001b[38;5;129;01mnot\u001b[39;00m \u001b[38;5;28;01mNone\u001b[39;00m:\n",
      "File \u001b[0;32m/srv/conda/envs/notebook/lib/python3.9/site-packages/xarray/backends/api.py:972\u001b[0m, in \u001b[0;36m<listcomp>\u001b[0;34m(.0)\u001b[0m\n\u001b[1;32m    969\u001b[0m     open_ \u001b[38;5;241m=\u001b[39m open_dataset\n\u001b[1;32m    970\u001b[0m     getattr_ \u001b[38;5;241m=\u001b[39m \u001b[38;5;28mgetattr\u001b[39m\n\u001b[0;32m--> 972\u001b[0m datasets \u001b[38;5;241m=\u001b[39m [\u001b[43mopen_\u001b[49m\u001b[43m(\u001b[49m\u001b[43mp\u001b[49m\u001b[43m,\u001b[49m\u001b[43m \u001b[49m\u001b[38;5;241;43m*\u001b[39;49m\u001b[38;5;241;43m*\u001b[39;49m\u001b[43mopen_kwargs\u001b[49m\u001b[43m)\u001b[49m \u001b[38;5;28;01mfor\u001b[39;00m p \u001b[38;5;129;01min\u001b[39;00m paths]\n\u001b[1;32m    973\u001b[0m closers \u001b[38;5;241m=\u001b[39m [getattr_(ds, \u001b[38;5;124m\"\u001b[39m\u001b[38;5;124m_close\u001b[39m\u001b[38;5;124m\"\u001b[39m) \u001b[38;5;28;01mfor\u001b[39;00m ds \u001b[38;5;129;01min\u001b[39;00m datasets]\n\u001b[1;32m    974\u001b[0m \u001b[38;5;28;01mif\u001b[39;00m preprocess \u001b[38;5;129;01mis\u001b[39;00m \u001b[38;5;129;01mnot\u001b[39;00m \u001b[38;5;28;01mNone\u001b[39;00m:\n",
      "File \u001b[0;32m/srv/conda/envs/notebook/lib/python3.9/site-packages/xarray/backends/api.py:515\u001b[0m, in \u001b[0;36mopen_dataset\u001b[0;34m(filename_or_obj, engine, chunks, cache, decode_cf, mask_and_scale, decode_times, decode_timedelta, use_cftime, concat_characters, decode_coords, drop_variables, inline_array, backend_kwargs, **kwargs)\u001b[0m\n\u001b[1;32m    512\u001b[0m     kwargs\u001b[38;5;241m.\u001b[39mupdate(backend_kwargs)\n\u001b[1;32m    514\u001b[0m \u001b[38;5;28;01mif\u001b[39;00m engine \u001b[38;5;129;01mis\u001b[39;00m \u001b[38;5;28;01mNone\u001b[39;00m:\n\u001b[0;32m--> 515\u001b[0m     engine \u001b[38;5;241m=\u001b[39m \u001b[43mplugins\u001b[49m\u001b[38;5;241;43m.\u001b[39;49m\u001b[43mguess_engine\u001b[49m\u001b[43m(\u001b[49m\u001b[43mfilename_or_obj\u001b[49m\u001b[43m)\u001b[49m\n\u001b[1;32m    517\u001b[0m backend \u001b[38;5;241m=\u001b[39m plugins\u001b[38;5;241m.\u001b[39mget_backend(engine)\n\u001b[1;32m    519\u001b[0m decoders \u001b[38;5;241m=\u001b[39m _resolve_decoders_kwargs(\n\u001b[1;32m    520\u001b[0m     decode_cf,\n\u001b[1;32m    521\u001b[0m     open_backend_dataset_parameters\u001b[38;5;241m=\u001b[39mbackend\u001b[38;5;241m.\u001b[39mopen_dataset_parameters,\n\u001b[0;32m   (...)\u001b[0m\n\u001b[1;32m    527\u001b[0m     decode_coords\u001b[38;5;241m=\u001b[39mdecode_coords,\n\u001b[1;32m    528\u001b[0m )\n",
      "File \u001b[0;32m/srv/conda/envs/notebook/lib/python3.9/site-packages/xarray/backends/plugins.py:155\u001b[0m, in \u001b[0;36mguess_engine\u001b[0;34m(store_spec)\u001b[0m\n\u001b[1;32m    147\u001b[0m \u001b[38;5;28;01melse\u001b[39;00m:\n\u001b[1;32m    148\u001b[0m     error_msg \u001b[38;5;241m=\u001b[39m (\n\u001b[1;32m    149\u001b[0m         \u001b[38;5;124m\"\u001b[39m\u001b[38;5;124mfound the following matches with the input file in xarray\u001b[39m\u001b[38;5;124m'\u001b[39m\u001b[38;5;124ms IO \u001b[39m\u001b[38;5;124m\"\u001b[39m\n\u001b[1;32m    150\u001b[0m         \u001b[38;5;124mf\u001b[39m\u001b[38;5;124m\"\u001b[39m\u001b[38;5;124mbackends: \u001b[39m\u001b[38;5;132;01m{\u001b[39;00mcompatible_engines\u001b[38;5;132;01m}\u001b[39;00m\u001b[38;5;124m. But their dependencies may not be installed, see:\u001b[39m\u001b[38;5;130;01m\\n\u001b[39;00m\u001b[38;5;124m\"\u001b[39m\n\u001b[1;32m    151\u001b[0m         \u001b[38;5;124m\"\u001b[39m\u001b[38;5;124mhttps://docs.xarray.dev/en/stable/user-guide/io.html \u001b[39m\u001b[38;5;130;01m\\n\u001b[39;00m\u001b[38;5;124m\"\u001b[39m\n\u001b[1;32m    152\u001b[0m         \u001b[38;5;124m\"\u001b[39m\u001b[38;5;124mhttps://docs.xarray.dev/en/stable/getting-started-guide/installing.html\u001b[39m\u001b[38;5;124m\"\u001b[39m\n\u001b[1;32m    153\u001b[0m     )\n\u001b[0;32m--> 155\u001b[0m \u001b[38;5;28;01mraise\u001b[39;00m \u001b[38;5;167;01mValueError\u001b[39;00m(error_msg)\n",
      "\u001b[0;31mValueError\u001b[0m: did not find a match in any of xarray's currently installed IO backends ['netcdf4', 'h5netcdf', 'scipy', 'cfgrib', 'pydap', 'rasterio', 'zarr']. Consider explicitly selecting one of the installed engines via the ``engine`` parameter, or installing additional IO dependencies, see:\nhttps://docs.xarray.dev/en/stable/getting-started-guide/installing.html\nhttps://docs.xarray.dev/en/stable/user-guide/io.html"
     ]
    }
   ],
   "source": [
    "%%time\n",
    "# yi,yf=2000,2020\n",
    "# remote_files = [\n",
    "#     's3://escience2022/Ada/monthly/dmsos_Omon_NorESM2-LM_omip1_r1i1p1f1_gn_'+str(y)+'01-'+str(y+9)+'12.nc' \n",
    "#     for y in range(yi,yf,10)]\n",
    "# fileset = [s3.open(file) for file in remote_files]\n",
    "# ds = xr.open_mfdataset(fileset, combine='by_coords')\n",
    "\n",
    "fileset = 's3://escience2022/Ada/monthly/fgdms_Omon_CNRM-ESM2-1_historical_r1i1p1f2_gn_185001-201412.nc'\n",
    "with ProgressBar():\n",
    "    ds = xr.open_mfdataset(s3.open(fileset),)\n",
    "ds=ds.where(ds.latitude>60,drop=True).isel(time=4)\n",
    "ds"
   ]
  },
  {
   "cell_type": "code",
   "execution_count": null,
   "id": "e24196ba-1fc8-4e2b-b836-e1ec91da0ff8",
   "metadata": {},
   "outputs": [],
   "source": []
  },
  {
   "cell_type": "code",
   "execution_count": null,
   "id": "b68a0b57-1799-45a6-a2d4-282f139e9fa6",
   "metadata": {},
   "outputs": [],
   "source": []
  }
 ],
 "metadata": {
  "kernelspec": {
   "display_name": "Python 3 (ipykernel)",
   "language": "python",
   "name": "python3"
  },
  "language_info": {
   "codemirror_mode": {
    "name": "ipython",
    "version": 3
   },
   "file_extension": ".py",
   "mimetype": "text/x-python",
   "name": "python",
   "nbconvert_exporter": "python",
   "pygments_lexer": "ipython3",
   "version": "3.9.13"
  }
 },
 "nbformat": 4,
 "nbformat_minor": 5
}
