{
 "cells": [
  {
   "cell_type": "code",
   "execution_count": 1,
   "id": "6624c486-7282-4a3a-83ef-1b299a1b4b71",
   "metadata": {},
   "outputs": [],
   "source": [
    "import xarray as xr\n",
    "import s3fs\n",
    "import matplotlib.pyplot as plt\n",
    "import pandas as pd\n",
    "import cartopy.crs as ccrs\n",
    "from datetime import datetime\n",
    "import numpy as np\n",
    "\n",
    "from dask.diagnostics import ProgressBar\n",
    "\n",
    "# from dask.distributed import Client, LocalCluster"
   ]
  },
  {
   "cell_type": "code",
   "execution_count": 2,
   "id": "2155f17d-6072-421e-916c-9fa77b1df3f7",
   "metadata": {},
   "outputs": [],
   "source": [
    "s3 = s3fs.S3FileSystem(key=\"K1CQ7M1DMTLUFK182APD\", secret=\"3JuZAQm5I03jtpijCpHOdkAsJDNLNfZxBpM15Pi0\", client_kwargs=dict(endpoint_url=\"https://rgw.met.no\"))"
   ]
  },
  {
   "cell_type": "markdown",
   "id": "b5cdc6b5-14f1-4259-91e8-ec9400be90de",
   "metadata": {
    "tags": []
   },
   "source": [
    "## Dask with gateway"
   ]
  },
  {
   "cell_type": "code",
   "execution_count": 13,
   "id": "301ea232-2cb6-4553-8bf2-09f7931b3b77",
   "metadata": {},
   "outputs": [],
   "source": [
    "from dask.distributed import Client\n",
    "from dask_gateway import Gateway\n",
    "gateway = Gateway()"
   ]
  },
  {
   "cell_type": "code",
   "execution_count": 14,
   "id": "050bb085-9238-4143-907b-7c745a018bcc",
   "metadata": {},
   "outputs": [
    {
     "data": {
      "application/vnd.jupyter.widget-view+json": {
       "model_id": "e76551f0a6c14d55b8d7f9fe5af2a529",
       "version_major": 2,
       "version_minor": 0
      },
      "text/plain": [
       "VBox(children=(HTML(value='<h2>GatewayCluster</h2>'), HBox(children=(HTML(value='\\n<div>\\n<style scoped>\\n    …"
      ]
     },
     "metadata": {},
     "output_type": "display_data"
    }
   ],
   "source": [
    "cluster = gateway.new_cluster(worker_memory=4, worker_cores=1)\n",
    "cluster.scale(4)\n",
    "client = Client(cluster) # create a dask Gateway cluster\n",
    "cluster"
   ]
  },
  {
   "cell_type": "code",
   "execution_count": 15,
   "id": "dcf5c260-3cdf-41e1-ae12-c3da45b683f6",
   "metadata": {},
   "outputs": [
    {
     "data": {
      "text/html": [
       "<div>\n",
       "    <div style=\"width: 24px; height: 24px; background-color: #e1e1e1; border: 3px solid #9D9D9D; border-radius: 5px; position: absolute;\"> </div>\n",
       "    <div style=\"margin-left: 48px;\">\n",
       "        <h3 style=\"margin-bottom: 0px;\">Client</h3>\n",
       "        <p style=\"color: #9D9D9D; margin-bottom: 0px;\">Client-cbd641c2-5f63-11ed-8b24-22e00f8585ea</p>\n",
       "        <table style=\"width: 100%; text-align: left;\">\n",
       "\n",
       "        <tr>\n",
       "        \n",
       "            <td style=\"text-align: left;\"><strong>Connection method:</strong> Cluster object</td>\n",
       "            <td style=\"text-align: left;\"><strong>Cluster type:</strong> dask_gateway.GatewayCluster</td>\n",
       "        \n",
       "        </tr>\n",
       "\n",
       "        \n",
       "            <tr>\n",
       "                <td style=\"text-align: left;\">\n",
       "                    <strong>Dashboard: </strong> <a href=\"/jupyterhub/services/dask-gateway/clusters/daskhub.b8d8ada755c349c08f4cb8cb36d26f24/status\" target=\"_blank\">/jupyterhub/services/dask-gateway/clusters/daskhub.b8d8ada755c349c08f4cb8cb36d26f24/status</a>\n",
       "                </td>\n",
       "                <td style=\"text-align: left;\"></td>\n",
       "            </tr>\n",
       "        \n",
       "\n",
       "        </table>\n",
       "\n",
       "        \n",
       "            <details>\n",
       "            <summary style=\"margin-bottom: 20px;\"><h3 style=\"display: inline;\">Cluster Info</h3></summary>\n",
       "            <div style='background-color: #f2f2f2; display: inline-block; padding: 10px; border: 1px solid #999999;'>\n",
       "  <h3>GatewayCluster</h3>\n",
       "  <ul>\n",
       "    <li><b>Name: </b>daskhub.b8d8ada755c349c08f4cb8cb36d26f24\n",
       "    <li><b>Dashboard: </b><a href='/jupyterhub/services/dask-gateway/clusters/daskhub.b8d8ada755c349c08f4cb8cb36d26f24/status' target='_blank'>/jupyterhub/services/dask-gateway/clusters/daskhub.b8d8ada755c349c08f4cb8cb36d26f24/status</a>\n",
       "  </ul>\n",
       "</div>\n",
       "\n",
       "            </details>\n",
       "        \n",
       "\n",
       "    </div>\n",
       "</div>"
      ],
      "text/plain": [
       "<Client: 'tls://10.244.11.22:8786' processes=0 threads=0, memory=0 B>"
      ]
     },
     "execution_count": 15,
     "metadata": {},
     "output_type": "execute_result"
    }
   ],
   "source": [
    "if cluster:\n",
    "    client = Client(cluster) # create a dask Gateway cluster\n",
    "else:\n",
    "    client = Client()   # create a local dask cluster on the machine.\n",
    "client"
   ]
  },
  {
   "cell_type": "code",
   "execution_count": 12,
   "id": "d02a10cc-6eeb-490b-a855-b41b584ed914",
   "metadata": {},
   "outputs": [
    {
     "name": "stdout",
     "output_type": "stream",
     "text": [
      "[]\n"
     ]
    }
   ],
   "source": [
    "#closing open \n",
    "clusters=gateway.list_clusters()\n",
    "print(clusters )\n",
    "for cluster in clusters :\n",
    "    cluster= gateway.connect(cluster.name)\n",
    "    print(cluster)\n",
    "    client = Client(cluster)\n",
    "    client.close()\n",
    "    cluster.shutdown()"
   ]
  },
  {
   "cell_type": "code",
   "execution_count": 14,
   "id": "9dad69d6-5dfa-45df-b66f-dc3c24cb0b5d",
   "metadata": {},
   "outputs": [],
   "source": [
    "# To close at end of session\n",
    "client.close()"
   ]
  },
  {
   "cell_type": "code",
   "execution_count": null,
   "id": "aa84f2f5-076b-4b47-aa42-eda3998ed0e6",
   "metadata": {},
   "outputs": [],
   "source": [
    "cluster.shutdown()"
   ]
  },
  {
   "cell_type": "markdown",
   "id": "0b7db75c-a3c6-467b-847b-aaa20ba5f3a2",
   "metadata": {
    "tags": []
   },
   "source": [
    "## List files"
   ]
  },
  {
   "cell_type": "code",
   "execution_count": 5,
   "id": "be93018d-b860-4599-a3de-861485c2fdaf",
   "metadata": {},
   "outputs": [
    {
     "name": "stdout",
     "output_type": "stream",
     "text": [
      "escience2022/Antoine/AMSR-E_ASI_sea_ice_concentration/asi-n6250-20020601-v5.4.nc\n",
      "escience2022/Antoine/AMSR-E_ASI_sea_ice_concentration/asi-n6250-20111004-v5.4.nc\n"
     ]
    }
   ],
   "source": [
    "print(s3.ls('escience2022/Antoine/AMSR-E_ASI_sea_ice_concentration')[1])\n",
    "print(s3.ls('escience2022/Antoine/AMSR-E_ASI_sea_ice_concentration')[-2])"
   ]
  },
  {
   "cell_type": "code",
   "execution_count": 6,
   "id": "7c5395f5-c4d0-406e-a862-2a58b701f7db",
   "metadata": {},
   "outputs": [
    {
     "name": "stdout",
     "output_type": "stream",
     "text": [
      "escience2022/Antoine/AMSR2_ASI_sea_ice_concentration/asi-AMSR2-n6250-20120703-v5.4.nc\n",
      "escience2022/Antoine/AMSR2_ASI_sea_ice_concentration/asi-AMSR2-n6250-20191230-v5.4.nc\n"
     ]
    }
   ],
   "source": [
    "print(s3.ls('escience2022/Antoine/AMSR2_ASI_sea_ice_concentration')[1])\n",
    "print(s3.ls('escience2022/Antoine/AMSR2_ASI_sea_ice_concentration')[-2])"
   ]
  },
  {
   "cell_type": "markdown",
   "id": "f1f587a5-2aa6-4dd6-a941-10f8daa4278c",
   "metadata": {},
   "source": [
    "## Write Monthly files : AMSR2"
   ]
  },
  {
   "cell_type": "code",
   "execution_count": 6,
   "id": "112f9a11-3702-4566-99e7-5dc412dc63e6",
   "metadata": {},
   "outputs": [],
   "source": [
    "def paths_to_datetimeindex(paths):\n",
    "    return  [datetime.strptime(date.split('/')[-1].split('-')[3], '%Y%m%d') for date in paths]"
   ]
  },
  {
   "cell_type": "code",
   "execution_count": 7,
   "id": "93f86272-77e1-46ed-a6a7-ac0db3523d66",
   "metadata": {
    "tags": []
   },
   "outputs": [],
   "source": [
    "def read_daily_files(year):\n",
    "    print('year '+ str(year))\n",
    "    for month in range (1,13):\n",
    "        print('month '+ str(month))\n",
    "        remote_files = 's3://escience2022/Antoine/AMSR2_ASI_sea_ice_concentration/asi-AMSR2-n6250-%i%s*.nc'%(year,str(month).zfill(2))\n",
    "        remote_files = s3.glob(remote_files)\n",
    "        fileset = [s3.open(file) for file in remote_files]\n",
    "        time_var = xr.Variable('time', paths_to_datetimeindex(remote_files))\n",
    "        try:\n",
    "            dset =xr.open_mfdataset(fileset, concat_dim=\"time\", combine = \"nested\")\n",
    "            dset = dset.assign_coords(time=time_var)\n",
    "            sf = 'data/SIC/AMSR2_ASI_sea_ice_concentration_%i%s.nc'%(year,str(month).zfill(2))\n",
    "            print('\\t saving to '+ sf)\n",
    "            dset.to_netcdf(sf)\n",
    "            del remote_files, dset, time_var\n",
    "        except OSError: \n",
    "            del time_var\n",
    "            pass\n",
    "        "
   ]
  },
  {
   "cell_type": "code",
   "execution_count": null,
   "id": "e93652b3-697e-483e-8017-a2066f970a8f",
   "metadata": {},
   "outputs": [],
   "source": [
    "with ProgressBar():\n",
    "    [read_daily_files(year) for year in range(2018,2020)]"
   ]
  },
  {
   "cell_type": "markdown",
   "id": "b1b1448f-ff4f-4f69-801d-42fb0b0f3734",
   "metadata": {},
   "source": [
    "## Write Monthly files : AMSR-E"
   ]
  },
  {
   "cell_type": "code",
   "execution_count": 9,
   "id": "44c09810-3680-46f2-ab7c-7cdfcb6f282e",
   "metadata": {},
   "outputs": [],
   "source": [
    "def paths_to_datetimeindex(paths):\n",
    "    return  [datetime.strptime(date.split('/')[-1].split('-')[2], '%Y%m%d') for date in paths]"
   ]
  },
  {
   "cell_type": "code",
   "execution_count": 10,
   "id": "fa78c3c9-d9f1-4d73-b490-2f9945dc13de",
   "metadata": {
    "tags": []
   },
   "outputs": [],
   "source": [
    "def read_daily_files(year):\n",
    "    print('year '+ str(year))\n",
    "    for month in range (1,13):\n",
    "        print('month '+ str(month))\n",
    "        remote_files = 's3://escience2022/Antoine/AMSR-E_ASI_sea_ice_concentration/asi-n6250-%i%s*.nc'%(year,str(month).zfill(2))\n",
    "        remote_files = s3.glob(remote_files)\n",
    "        fileset = [s3.open(file) for file in remote_files]\n",
    "        time_var = xr.Variable('time', paths_to_datetimeindex(remote_files))\n",
    "        try:\n",
    "            dset =xr.open_mfdataset(fileset, concat_dim=\"time\", combine = \"nested\")\n",
    "            dset = dset.assign_coords(time=time_var)\n",
    "            sf = 'data/SIC/AMSR-E_ASI_sea_ice_concentration_%i%s.nc'%(year,str(month).zfill(2))\n",
    "            print('\\t saving to '+ sf)\n",
    "            dset.to_netcdf(sf)\n",
    "            del remote_files, dset, time_var\n",
    "        except OSError: \n",
    "            del time_var\n",
    "            pass\n",
    "        "
   ]
  },
  {
   "cell_type": "code",
   "execution_count": 16,
   "id": "880dc71f-2555-426a-93e4-d683aeab6563",
   "metadata": {},
   "outputs": [
    {
     "name": "stdout",
     "output_type": "stream",
     "text": [
      "year 2006\n",
      "month 1\n",
      "\t saving to data/SIC/AMSR-E_ASI_sea_ice_concentration_200601.nc\n",
      "month 2\n",
      "\t saving to data/SIC/AMSR-E_ASI_sea_ice_concentration_200602.nc\n",
      "month 3\n",
      "\t saving to data/SIC/AMSR-E_ASI_sea_ice_concentration_200603.nc\n",
      "month 4\n",
      "\t saving to data/SIC/AMSR-E_ASI_sea_ice_concentration_200604.nc\n",
      "month 5\n",
      "\t saving to data/SIC/AMSR-E_ASI_sea_ice_concentration_200605.nc\n",
      "month 6\n",
      "\t saving to data/SIC/AMSR-E_ASI_sea_ice_concentration_200606.nc\n",
      "month 7\n",
      "\t saving to data/SIC/AMSR-E_ASI_sea_ice_concentration_200607.nc\n",
      "month 8\n",
      "\t saving to data/SIC/AMSR-E_ASI_sea_ice_concentration_200608.nc\n",
      "month 9\n",
      "\t saving to data/SIC/AMSR-E_ASI_sea_ice_concentration_200609.nc\n",
      "month 10\n",
      "\t saving to data/SIC/AMSR-E_ASI_sea_ice_concentration_200610.nc\n",
      "month 11\n",
      "\t saving to data/SIC/AMSR-E_ASI_sea_ice_concentration_200611.nc\n",
      "month 12\n",
      "\t saving to data/SIC/AMSR-E_ASI_sea_ice_concentration_200612.nc\n",
      "year 2007\n",
      "month 1\n",
      "\t saving to data/SIC/AMSR-E_ASI_sea_ice_concentration_200701.nc\n",
      "month 2\n",
      "\t saving to data/SIC/AMSR-E_ASI_sea_ice_concentration_200702.nc\n",
      "month 3\n",
      "\t saving to data/SIC/AMSR-E_ASI_sea_ice_concentration_200703.nc\n",
      "month 4\n",
      "\t saving to data/SIC/AMSR-E_ASI_sea_ice_concentration_200704.nc\n",
      "month 5\n",
      "\t saving to data/SIC/AMSR-E_ASI_sea_ice_concentration_200705.nc\n",
      "month 6\n",
      "\t saving to data/SIC/AMSR-E_ASI_sea_ice_concentration_200706.nc\n",
      "month 7\n",
      "\t saving to data/SIC/AMSR-E_ASI_sea_ice_concentration_200707.nc\n",
      "month 8\n",
      "\t saving to data/SIC/AMSR-E_ASI_sea_ice_concentration_200708.nc\n",
      "month 9\n",
      "\t saving to data/SIC/AMSR-E_ASI_sea_ice_concentration_200709.nc\n",
      "month 10\n",
      "\t saving to data/SIC/AMSR-E_ASI_sea_ice_concentration_200710.nc\n",
      "month 11\n",
      "\t saving to data/SIC/AMSR-E_ASI_sea_ice_concentration_200711.nc\n",
      "month 12\n",
      "\t saving to data/SIC/AMSR-E_ASI_sea_ice_concentration_200712.nc\n",
      "year 2008\n",
      "month 1\n",
      "\t saving to data/SIC/AMSR-E_ASI_sea_ice_concentration_200801.nc\n",
      "month 2\n",
      "\t saving to data/SIC/AMSR-E_ASI_sea_ice_concentration_200802.nc\n",
      "month 3\n",
      "\t saving to data/SIC/AMSR-E_ASI_sea_ice_concentration_200803.nc\n",
      "month 4\n",
      "\t saving to data/SIC/AMSR-E_ASI_sea_ice_concentration_200804.nc\n",
      "month 5\n",
      "\t saving to data/SIC/AMSR-E_ASI_sea_ice_concentration_200805.nc\n",
      "month 6\n",
      "\t saving to data/SIC/AMSR-E_ASI_sea_ice_concentration_200806.nc\n",
      "month 7\n",
      "\t saving to data/SIC/AMSR-E_ASI_sea_ice_concentration_200807.nc\n",
      "month 8\n",
      "\t saving to data/SIC/AMSR-E_ASI_sea_ice_concentration_200808.nc\n",
      "month 9\n",
      "\t saving to data/SIC/AMSR-E_ASI_sea_ice_concentration_200809.nc\n",
      "month 10\n",
      "\t saving to data/SIC/AMSR-E_ASI_sea_ice_concentration_200810.nc\n",
      "month 11\n",
      "\t saving to data/SIC/AMSR-E_ASI_sea_ice_concentration_200811.nc\n",
      "month 12\n",
      "\t saving to data/SIC/AMSR-E_ASI_sea_ice_concentration_200812.nc\n",
      "year 2009\n",
      "month 1\n",
      "\t saving to data/SIC/AMSR-E_ASI_sea_ice_concentration_200901.nc\n",
      "month 2\n",
      "\t saving to data/SIC/AMSR-E_ASI_sea_ice_concentration_200902.nc\n",
      "month 3\n",
      "\t saving to data/SIC/AMSR-E_ASI_sea_ice_concentration_200903.nc\n",
      "month 4\n",
      "\t saving to data/SIC/AMSR-E_ASI_sea_ice_concentration_200904.nc\n",
      "month 5\n",
      "\t saving to data/SIC/AMSR-E_ASI_sea_ice_concentration_200905.nc\n",
      "month 6\n",
      "\t saving to data/SIC/AMSR-E_ASI_sea_ice_concentration_200906.nc\n",
      "month 7\n",
      "\t saving to data/SIC/AMSR-E_ASI_sea_ice_concentration_200907.nc\n",
      "month 8\n",
      "\t saving to data/SIC/AMSR-E_ASI_sea_ice_concentration_200908.nc\n",
      "month 9\n",
      "\t saving to data/SIC/AMSR-E_ASI_sea_ice_concentration_200909.nc\n",
      "month 10\n",
      "\t saving to data/SIC/AMSR-E_ASI_sea_ice_concentration_200910.nc\n",
      "month 11\n",
      "\t saving to data/SIC/AMSR-E_ASI_sea_ice_concentration_200911.nc\n",
      "month 12\n",
      "\t saving to data/SIC/AMSR-E_ASI_sea_ice_concentration_200912.nc\n",
      "year 2010\n",
      "month 1\n",
      "\t saving to data/SIC/AMSR-E_ASI_sea_ice_concentration_201001.nc\n",
      "month 2\n",
      "\t saving to data/SIC/AMSR-E_ASI_sea_ice_concentration_201002.nc\n",
      "month 3\n",
      "\t saving to data/SIC/AMSR-E_ASI_sea_ice_concentration_201003.nc\n",
      "month 4\n",
      "\t saving to data/SIC/AMSR-E_ASI_sea_ice_concentration_201004.nc\n",
      "month 5\n",
      "\t saving to data/SIC/AMSR-E_ASI_sea_ice_concentration_201005.nc\n",
      "month 6\n",
      "\t saving to data/SIC/AMSR-E_ASI_sea_ice_concentration_201006.nc\n",
      "month 7\n",
      "\t saving to data/SIC/AMSR-E_ASI_sea_ice_concentration_201007.nc\n",
      "month 8\n",
      "\t saving to data/SIC/AMSR-E_ASI_sea_ice_concentration_201008.nc\n",
      "month 9\n",
      "\t saving to data/SIC/AMSR-E_ASI_sea_ice_concentration_201009.nc\n",
      "month 10\n",
      "\t saving to data/SIC/AMSR-E_ASI_sea_ice_concentration_201010.nc\n",
      "month 11\n",
      "\t saving to data/SIC/AMSR-E_ASI_sea_ice_concentration_201011.nc\n",
      "month 12\n",
      "\t saving to data/SIC/AMSR-E_ASI_sea_ice_concentration_201012.nc\n",
      "year 2011\n",
      "month 1\n",
      "\t saving to data/SIC/AMSR-E_ASI_sea_ice_concentration_201101.nc\n",
      "month 2\n",
      "\t saving to data/SIC/AMSR-E_ASI_sea_ice_concentration_201102.nc\n",
      "month 3\n",
      "\t saving to data/SIC/AMSR-E_ASI_sea_ice_concentration_201103.nc\n",
      "month 4\n",
      "\t saving to data/SIC/AMSR-E_ASI_sea_ice_concentration_201104.nc\n",
      "month 5\n",
      "\t saving to data/SIC/AMSR-E_ASI_sea_ice_concentration_201105.nc\n",
      "month 6\n",
      "\t saving to data/SIC/AMSR-E_ASI_sea_ice_concentration_201106.nc\n",
      "month 7\n",
      "\t saving to data/SIC/AMSR-E_ASI_sea_ice_concentration_201107.nc\n",
      "month 8\n",
      "\t saving to data/SIC/AMSR-E_ASI_sea_ice_concentration_201108.nc\n",
      "month 9\n",
      "\t saving to data/SIC/AMSR-E_ASI_sea_ice_concentration_201109.nc\n",
      "month 10\n",
      "\t saving to data/SIC/AMSR-E_ASI_sea_ice_concentration_201110.nc\n",
      "month 11\n",
      "month 12\n"
     ]
    },
    {
     "data": {
      "text/plain": [
       "[None, None, None, None, None, None]"
      ]
     },
     "execution_count": 16,
     "metadata": {},
     "output_type": "execute_result"
    }
   ],
   "source": [
    "[read_daily_files(year) for year in range(2006,2012)]"
   ]
  },
  {
   "cell_type": "code",
   "execution_count": null,
   "id": "d1ef4d9d-cf4c-4afc-90cd-408611feda15",
   "metadata": {},
   "outputs": [],
   "source": []
  }
 ],
 "metadata": {
  "kernelspec": {
   "display_name": "Python [conda env:notebook] *",
   "language": "python",
   "name": "conda-env-notebook-py"
  },
  "language_info": {
   "codemirror_mode": {
    "name": "ipython",
    "version": 3
   },
   "file_extension": ".py",
   "mimetype": "text/x-python",
   "name": "python",
   "nbconvert_exporter": "python",
   "pygments_lexer": "ipython3",
   "version": "3.9.13"
  }
 },
 "nbformat": 4,
 "nbformat_minor": 5
}
