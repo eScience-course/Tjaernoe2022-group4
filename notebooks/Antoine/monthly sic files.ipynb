{
 "cells": [
  {
   "cell_type": "code",
   "execution_count": 6,
   "id": "6624c486-7282-4a3a-83ef-1b299a1b4b71",
   "metadata": {},
   "outputs": [],
   "source": [
    "import xarray as xr\n",
    "import s3fs\n",
    "import matplotlib.pyplot as plt\n",
    "import pandas as pd\n",
    "import cartopy.crs as ccrs\n",
    "from datetime import datetime\n",
    "import numpy as np\n",
    "\n",
    "from dask.diagnostics import ProgressBar\n",
    "\n",
    "import os.path\n"
   ]
  },
  {
   "cell_type": "code",
   "execution_count": 7,
   "id": "2155f17d-6072-421e-916c-9fa77b1df3f7",
   "metadata": {},
   "outputs": [],
   "source": [
    "s3 = s3fs.S3FileSystem(key=\"K1CQ7M1DMTLUFK182APD\", secret=\"3JuZAQm5I03jtpijCpHOdkAsJDNLNfZxBpM15Pi0\", client_kwargs=dict(endpoint_url=\"https://rgw.met.no\"))"
   ]
  },
  {
   "cell_type": "markdown",
   "id": "3677aed5-c698-46a6-b4a4-786de312b118",
   "metadata": {
    "jp-MarkdownHeadingCollapsed": true,
    "tags": []
   },
   "source": [
    "## Local dask"
   ]
  },
  {
   "cell_type": "code",
   "execution_count": null,
   "id": "2bc5ee04-7113-413d-9d3a-799c4b23dc6f",
   "metadata": {},
   "outputs": [],
   "source": [
    "from dask.distributed import Client\n",
    "client = Client()   # create a local dask cluster on the local machine.\n",
    "client"
   ]
  },
  {
   "cell_type": "code",
   "execution_count": null,
   "id": "e1dbb75e-3b11-431d-8dfa-7f7f713c68a3",
   "metadata": {},
   "outputs": [],
   "source": [
    "# To close at end of session\n",
    "client.close()"
   ]
  },
  {
   "cell_type": "markdown",
   "id": "b5cdc6b5-14f1-4259-91e8-ec9400be90de",
   "metadata": {
    "jp-MarkdownHeadingCollapsed": true,
    "tags": []
   },
   "source": [
    "## Dask with gateway"
   ]
  },
  {
   "cell_type": "code",
   "execution_count": 13,
   "id": "301ea232-2cb6-4553-8bf2-09f7931b3b77",
   "metadata": {},
   "outputs": [],
   "source": [
    "from dask.distributed import Client\n",
    "from dask_gateway import Gateway\n",
    "gateway = Gateway()"
   ]
  },
  {
   "cell_type": "code",
   "execution_count": 14,
   "id": "050bb085-9238-4143-907b-7c745a018bcc",
   "metadata": {},
   "outputs": [
    {
     "data": {
      "application/vnd.jupyter.widget-view+json": {
       "model_id": "e76551f0a6c14d55b8d7f9fe5af2a529",
       "version_major": 2,
       "version_minor": 0
      },
      "text/plain": [
       "VBox(children=(HTML(value='<h2>GatewayCluster</h2>'), HBox(children=(HTML(value='\\n<div>\\n<style scoped>\\n    …"
      ]
     },
     "metadata": {},
     "output_type": "display_data"
    }
   ],
   "source": [
    "cluster = gateway.new_cluster(worker_memory=4, worker_cores=1)\n",
    "cluster.scale(4)\n",
    "client = Client(cluster) # create a dask Gateway cluster\n",
    "cluster"
   ]
  },
  {
   "cell_type": "code",
   "execution_count": 15,
   "id": "dcf5c260-3cdf-41e1-ae12-c3da45b683f6",
   "metadata": {},
   "outputs": [
    {
     "data": {
      "text/html": [
       "<div>\n",
       "    <div style=\"width: 24px; height: 24px; background-color: #e1e1e1; border: 3px solid #9D9D9D; border-radius: 5px; position: absolute;\"> </div>\n",
       "    <div style=\"margin-left: 48px;\">\n",
       "        <h3 style=\"margin-bottom: 0px;\">Client</h3>\n",
       "        <p style=\"color: #9D9D9D; margin-bottom: 0px;\">Client-cbd641c2-5f63-11ed-8b24-22e00f8585ea</p>\n",
       "        <table style=\"width: 100%; text-align: left;\">\n",
       "\n",
       "        <tr>\n",
       "        \n",
       "            <td style=\"text-align: left;\"><strong>Connection method:</strong> Cluster object</td>\n",
       "            <td style=\"text-align: left;\"><strong>Cluster type:</strong> dask_gateway.GatewayCluster</td>\n",
       "        \n",
       "        </tr>\n",
       "\n",
       "        \n",
       "            <tr>\n",
       "                <td style=\"text-align: left;\">\n",
       "                    <strong>Dashboard: </strong> <a href=\"/jupyterhub/services/dask-gateway/clusters/daskhub.b8d8ada755c349c08f4cb8cb36d26f24/status\" target=\"_blank\">/jupyterhub/services/dask-gateway/clusters/daskhub.b8d8ada755c349c08f4cb8cb36d26f24/status</a>\n",
       "                </td>\n",
       "                <td style=\"text-align: left;\"></td>\n",
       "            </tr>\n",
       "        \n",
       "\n",
       "        </table>\n",
       "\n",
       "        \n",
       "            <details>\n",
       "            <summary style=\"margin-bottom: 20px;\"><h3 style=\"display: inline;\">Cluster Info</h3></summary>\n",
       "            <div style='background-color: #f2f2f2; display: inline-block; padding: 10px; border: 1px solid #999999;'>\n",
       "  <h3>GatewayCluster</h3>\n",
       "  <ul>\n",
       "    <li><b>Name: </b>daskhub.b8d8ada755c349c08f4cb8cb36d26f24\n",
       "    <li><b>Dashboard: </b><a href='/jupyterhub/services/dask-gateway/clusters/daskhub.b8d8ada755c349c08f4cb8cb36d26f24/status' target='_blank'>/jupyterhub/services/dask-gateway/clusters/daskhub.b8d8ada755c349c08f4cb8cb36d26f24/status</a>\n",
       "  </ul>\n",
       "</div>\n",
       "\n",
       "            </details>\n",
       "        \n",
       "\n",
       "    </div>\n",
       "</div>"
      ],
      "text/plain": [
       "<Client: 'tls://10.244.11.22:8786' processes=0 threads=0, memory=0 B>"
      ]
     },
     "execution_count": 15,
     "metadata": {},
     "output_type": "execute_result"
    }
   ],
   "source": [
    "if cluster:\n",
    "    client = Client(cluster) # create a dask Gateway cluster\n",
    "else:\n",
    "    client = Client()   # create a local dask cluster on the machine.\n",
    "client"
   ]
  },
  {
   "cell_type": "code",
   "execution_count": 5,
   "id": "b6f3430e-e0bf-4d68-bce6-f3789fd400b3",
   "metadata": {},
   "outputs": [
    {
     "name": "stderr",
     "output_type": "stream",
     "text": [
      "2022-11-09 06:32:02,871 - distributed.worker - WARNING - Heartbeat to scheduler failed\n",
      "Traceback (most recent call last):\n",
      "  File \"/srv/conda/envs/notebook/lib/python3.9/site-packages/distributed/comm/tcp.py\", line 223, in read\n",
      "    frames_nbytes = await stream.read_bytes(fmt_size)\n",
      "tornado.iostream.StreamClosedError: Stream is closed\n",
      "\n",
      "The above exception was the direct cause of the following exception:\n",
      "\n",
      "Traceback (most recent call last):\n",
      "  File \"/srv/conda/envs/notebook/lib/python3.9/site-packages/distributed/worker.py\", line 1159, in heartbeat\n",
      "    response = await retry_operation(\n",
      "  File \"/srv/conda/envs/notebook/lib/python3.9/site-packages/distributed/utils_comm.py\", line 383, in retry_operation\n",
      "    return await retry(\n",
      "  File \"/srv/conda/envs/notebook/lib/python3.9/site-packages/distributed/utils_comm.py\", line 368, in retry\n",
      "    return await coro()\n",
      "  File \"/srv/conda/envs/notebook/lib/python3.9/site-packages/distributed/core.py\", line 1154, in send_recv_from_rpc\n",
      "    return await send_recv(comm=comm, op=key, **kwargs)\n",
      "  File \"/srv/conda/envs/notebook/lib/python3.9/site-packages/distributed/core.py\", line 919, in send_recv\n",
      "    response = await comm.read(deserializers=deserializers)\n",
      "  File \"/srv/conda/envs/notebook/lib/python3.9/site-packages/distributed/comm/tcp.py\", line 239, in read\n",
      "    convert_stream_closed_error(self, e)\n",
      "  File \"/srv/conda/envs/notebook/lib/python3.9/site-packages/distributed/comm/tcp.py\", line 144, in convert_stream_closed_error\n",
      "    raise CommClosedError(f\"in {obj}: {exc}\") from exc\n",
      "distributed.comm.core.CommClosedError: in <TCP (closed) ConnectionPool.heartbeat_worker local=tcp://127.0.0.1:40270 remote=tcp://127.0.0.1:34651>: Stream is closed\n",
      "2022-11-09 06:32:02,873 - distributed.worker - WARNING - Heartbeat to scheduler failed\n",
      "Traceback (most recent call last):\n",
      "  File \"/srv/conda/envs/notebook/lib/python3.9/site-packages/distributed/comm/tcp.py\", line 223, in read\n",
      "    frames_nbytes = await stream.read_bytes(fmt_size)\n",
      "tornado.iostream.StreamClosedError: Stream is closed\n",
      "\n",
      "The above exception was the direct cause of the following exception:\n",
      "\n",
      "Traceback (most recent call last):\n",
      "  File \"/srv/conda/envs/notebook/lib/python3.9/site-packages/distributed/worker.py\", line 1159, in heartbeat\n",
      "    response = await retry_operation(\n",
      "  File \"/srv/conda/envs/notebook/lib/python3.9/site-packages/distributed/utils_comm.py\", line 383, in retry_operation\n",
      "    return await retry(\n",
      "  File \"/srv/conda/envs/notebook/lib/python3.9/site-packages/distributed/utils_comm.py\", line 368, in retry\n",
      "    return await coro()\n",
      "  File \"/srv/conda/envs/notebook/lib/python3.9/site-packages/distributed/core.py\", line 1154, in send_recv_from_rpc\n",
      "    return await send_recv(comm=comm, op=key, **kwargs)\n",
      "  File \"/srv/conda/envs/notebook/lib/python3.9/site-packages/distributed/core.py\", line 919, in send_recv\n",
      "    response = await comm.read(deserializers=deserializers)\n",
      "  File \"/srv/conda/envs/notebook/lib/python3.9/site-packages/distributed/comm/tcp.py\", line 239, in read\n",
      "    convert_stream_closed_error(self, e)\n",
      "  File \"/srv/conda/envs/notebook/lib/python3.9/site-packages/distributed/comm/tcp.py\", line 144, in convert_stream_closed_error\n",
      "    raise CommClosedError(f\"in {obj}: {exc}\") from exc\n",
      "distributed.comm.core.CommClosedError: in <TCP (closed) ConnectionPool.heartbeat_worker local=tcp://127.0.0.1:40272 remote=tcp://127.0.0.1:34651>: Stream is closed\n"
     ]
    }
   ],
   "source": [
    "# To close at end of session\n",
    "client.close()"
   ]
  },
  {
   "cell_type": "code",
   "execution_count": 12,
   "id": "d02a10cc-6eeb-490b-a855-b41b584ed914",
   "metadata": {},
   "outputs": [
    {
     "name": "stdout",
     "output_type": "stream",
     "text": [
      "[]\n"
     ]
    }
   ],
   "source": [
    "#closing open \n",
    "clusters=gateway.list_clusters()\n",
    "print(clusters )\n",
    "for cluster in clusters :\n",
    "    cluster= gateway.connect(cluster.name)\n",
    "    print(cluster)\n",
    "    client = Client(cluster)\n",
    "    client.close()\n",
    "    cluster.shutdown()"
   ]
  },
  {
   "cell_type": "code",
   "execution_count": 6,
   "id": "9dad69d6-5dfa-45df-b66f-dc3c24cb0b5d",
   "metadata": {},
   "outputs": [
    {
     "name": "stderr",
     "output_type": "stream",
     "text": [
      "2022-11-09 06:31:07,491 - distributed.nanny - ERROR - Worker process died unexpectedly\n",
      "2022-11-09 06:31:07,492 - distributed.nanny - ERROR - Worker process died unexpectedly\n",
      "2022-11-09 06:31:07,492 - distributed.nanny - ERROR - Worker process died unexpectedly\n",
      "2022-11-09 06:31:07,533 - distributed.nanny - WARNING - Restarting worker\n",
      "2022-11-09 06:31:07,537 - distributed.nanny - WARNING - Restarting worker\n",
      "2022-11-09 06:31:07,561 - distributed.nanny - WARNING - Restarting worker\n",
      "2022-11-09 06:31:07,571 - distributed.nanny - WARNING - Restarting worker\n",
      "2022-11-09 06:31:07,667 - distributed.nanny - WARNING - Restarting worker\n",
      "2022-11-09 06:31:07,671 - distributed.nanny - WARNING - Restarting worker\n",
      "2022-11-09 06:31:07,695 - distributed.nanny - WARNING - Restarting worker\n",
      "2022-11-09 06:31:07,719 - distributed.nanny - WARNING - Restarting worker\n",
      "2022-11-09 06:31:07,800 - distributed.nanny - WARNING - Restarting worker\n",
      "2022-11-09 06:31:07,804 - distributed.nanny - WARNING - Restarting worker\n",
      "2022-11-09 06:31:07,826 - distributed.nanny - WARNING - Restarting worker\n",
      "2022-11-09 06:31:07,849 - distributed.nanny - WARNING - Restarting worker\n",
      "2022-11-09 06:31:08,109 - distributed.nanny - WARNING - Restarting worker\n",
      "2022-11-09 06:31:08,114 - distributed.nanny - WARNING - Restarting worker\n",
      "2022-11-09 06:31:08,135 - distributed.nanny - WARNING - Restarting worker\n",
      "2022-11-09 06:31:08,143 - distributed.nanny - WARNING - Restarting worker\n",
      "2022-11-09 06:31:09,126 - distributed.nanny - WARNING - Restarting worker\n",
      "2022-11-09 06:31:09,130 - distributed.nanny - WARNING - Restarting worker\n",
      "2022-11-09 06:31:09,134 - distributed.nanny - WARNING - Restarting worker\n",
      "2022-11-09 06:31:09,179 - distributed.nanny - WARNING - Restarting worker\n",
      "2022-11-09 06:31:09,765 - distributed.diskutils - INFO - Found stale lock file and directory '/tmp/dask-worker-space/worker-05wny0cj', purging\n",
      "2022-11-09 06:31:09,766 - distributed.diskutils - INFO - Found stale lock file and directory '/tmp/dask-worker-space/worker-7kfpuy0u', purging\n",
      "2022-11-09 06:31:09,766 - distributed.diskutils - INFO - Found stale lock file and directory '/tmp/dask-worker-space/worker-kp48uasb', purging\n"
     ]
    }
   ],
   "source": [
    "# To close at end of session\n",
    "client.close()"
   ]
  },
  {
   "cell_type": "code",
   "execution_count": null,
   "id": "aa84f2f5-076b-4b47-aa42-eda3998ed0e6",
   "metadata": {},
   "outputs": [],
   "source": [
    "cluster.shutdown()"
   ]
  },
  {
   "cell_type": "markdown",
   "id": "0b7db75c-a3c6-467b-847b-aaa20ba5f3a2",
   "metadata": {
    "tags": []
   },
   "source": [
    "## List files"
   ]
  },
  {
   "cell_type": "code",
   "execution_count": 5,
   "id": "be93018d-b860-4599-a3de-861485c2fdaf",
   "metadata": {},
   "outputs": [
    {
     "name": "stdout",
     "output_type": "stream",
     "text": [
      "escience2022/Antoine/AMSR-E_ASI_sea_ice_concentration/asi-n6250-20020601-v5.4.nc\n",
      "escience2022/Antoine/AMSR-E_ASI_sea_ice_concentration/asi-n6250-20111004-v5.4.nc\n"
     ]
    }
   ],
   "source": [
    "print(s3.ls('escience2022/Antoine/AMSR-E_ASI_sea_ice_concentration')[1])\n",
    "print(s3.ls('escience2022/Antoine/AMSR-E_ASI_sea_ice_concentration')[-2])"
   ]
  },
  {
   "cell_type": "code",
   "execution_count": 6,
   "id": "7c5395f5-c4d0-406e-a862-2a58b701f7db",
   "metadata": {},
   "outputs": [
    {
     "name": "stdout",
     "output_type": "stream",
     "text": [
      "escience2022/Antoine/AMSR2_ASI_sea_ice_concentration/asi-AMSR2-n6250-20120703-v5.4.nc\n",
      "escience2022/Antoine/AMSR2_ASI_sea_ice_concentration/asi-AMSR2-n6250-20191230-v5.4.nc\n"
     ]
    }
   ],
   "source": [
    "print(s3.ls('escience2022/Antoine/AMSR2_ASI_sea_ice_concentration')[1])\n",
    "print(s3.ls('escience2022/Antoine/AMSR2_ASI_sea_ice_concentration')[-2])"
   ]
  },
  {
   "cell_type": "markdown",
   "id": "f1f587a5-2aa6-4dd6-a941-10f8daa4278c",
   "metadata": {},
   "source": [
    "## Write Monthly files : AMSR2"
   ]
  },
  {
   "cell_type": "code",
   "execution_count": 8,
   "id": "112f9a11-3702-4566-99e7-5dc412dc63e6",
   "metadata": {},
   "outputs": [],
   "source": [
    "def paths_to_datetimeindex(paths):\n",
    "    return  [datetime.strptime(date.split('/')[-1].split('-')[3], '%Y%m%d') for date in paths]"
   ]
  },
  {
   "cell_type": "code",
   "execution_count": 9,
   "id": "93f86272-77e1-46ed-a6a7-ac0db3523d66",
   "metadata": {
    "tags": []
   },
   "outputs": [],
   "source": [
    "def read_daily_files(year):\n",
    "    print('year '+ str(year))\n",
    "    for month in range (1,13):\n",
    "        sf = 'data/SIC/AMSR2_ASI_sea_ice_concentration_%i%s.nc'%(year,str(month).zfill(2))\n",
    "        if os.path.isfile(sf): continue  \n",
    "        remote_files = 's3://escience2022/Antoine/AMSR2_ASI_sea_ice_concentration/asi-AMSR2-n6250-%i%s*.nc'%(year,str(month).zfill(2))\n",
    "        remote_files = s3.glob(remote_files)\n",
    "        fileset = [s3.open(file) for file in remote_files]\n",
    "        time_var = xr.Variable('time', paths_to_datetimeindex(remote_files))\n",
    "        try:\n",
    "            dset =xr.open_mfdataset(fileset, concat_dim=\"time\", combine = \"nested\")\n",
    "            dset = dset.assign_coords(time=time_var)\n",
    "            print('\\t saving to '+ sf)\n",
    "            dset.to_netcdf(sf)\n",
    "            del remote_files, dset, time_var\n",
    "        except OSError: \n",
    "            del time_var\n",
    "            pass\n",
    "        "
   ]
  },
  {
   "cell_type": "code",
   "execution_count": 10,
   "id": "e93652b3-697e-483e-8017-a2066f970a8f",
   "metadata": {},
   "outputs": [
    {
     "name": "stdout",
     "output_type": "stream",
     "text": [
      "year 2012\n",
      "year 2013\n",
      "year 2014\n",
      "year 2015\n",
      "year 2016\n",
      "year 2017\n",
      "year 2018\n",
      "year 2019\n"
     ]
    },
    {
     "data": {
      "text/plain": [
       "[None, None, None, None, None, None, None, None]"
      ]
     },
     "execution_count": 10,
     "metadata": {},
     "output_type": "execute_result"
    }
   ],
   "source": [
    "[read_daily_files(year) for year in range(2012,2020)]"
   ]
  },
  {
   "cell_type": "markdown",
   "id": "b1b1448f-ff4f-4f69-801d-42fb0b0f3734",
   "metadata": {},
   "source": [
    "## Write Monthly files : AMSR-E"
   ]
  },
  {
   "cell_type": "code",
   "execution_count": 9,
   "id": "44c09810-3680-46f2-ab7c-7cdfcb6f282e",
   "metadata": {},
   "outputs": [],
   "source": [
    "def paths_to_datetimeindex(paths):\n",
    "    return  [datetime.strptime(date.split('/')[-1].split('-')[2], '%Y%m%d') for date in paths]"
   ]
  },
  {
   "cell_type": "code",
   "execution_count": 10,
   "id": "fa78c3c9-d9f1-4d73-b490-2f9945dc13de",
   "metadata": {
    "tags": []
   },
   "outputs": [],
   "source": [
    "def read_daily_files(year):\n",
    "    print('year '+ str(year))\n",
    "    for month in range (1,13):\n",
    "        print('month '+ str(month))\n",
    "        remote_files = 's3://escience2022/Antoine/AMSR-E_ASI_sea_ice_concentration/asi-n6250-%i%s*.nc'%(year,str(month).zfill(2))\n",
    "        remote_files = s3.glob(remote_files)\n",
    "        fileset = [s3.open(file) for file in remote_files]\n",
    "        time_var = xr.Variable('time', paths_to_datetimeindex(remote_files))\n",
    "        try:\n",
    "            dset =xr.open_mfdataset(fileset, concat_dim=\"time\", combine = \"nested\")\n",
    "            dset = dset.assign_coords(time=time_var)\n",
    "            sf = 'data/SIC/AMSR-E_ASI_sea_ice_concentration_%i%s.nc'%(year,str(month).zfill(2))\n",
    "            print('\\t saving to '+ sf)\n",
    "            dset.to_netcdf(sf)\n",
    "            del remote_files, dset, time_var\n",
    "        except OSError: \n",
    "            del time_var\n",
    "            pass\n",
    "        "
   ]
  },
  {
   "cell_type": "code",
   "execution_count": null,
   "id": "880dc71f-2555-426a-93e4-d683aeab6563",
   "metadata": {},
   "outputs": [],
   "source": [
    "[read_daily_files(year) for year in range(2006,2012)]"
   ]
  },
  {
   "cell_type": "markdown",
   "id": "d853dee8-bac4-43c7-8ba0-dd7525903802",
   "metadata": {},
   "source": [
    "### check"
   ]
  },
  {
   "cell_type": "code",
   "execution_count": 16,
   "id": "c2fe65a0-0f5b-4a50-a489-2b55ba3eb51c",
   "metadata": {},
   "outputs": [
    {
     "data": {
      "text/html": [
       "<div><svg style=\"position: absolute; width: 0; height: 0; overflow: hidden\">\n",
       "<defs>\n",
       "<symbol id=\"icon-database\" viewBox=\"0 0 32 32\">\n",
       "<path d=\"M16 0c-8.837 0-16 2.239-16 5v4c0 2.761 7.163 5 16 5s16-2.239 16-5v-4c0-2.761-7.163-5-16-5z\"></path>\n",
       "<path d=\"M16 17c-8.837 0-16-2.239-16-5v6c0 2.761 7.163 5 16 5s16-2.239 16-5v-6c0 2.761-7.163 5-16 5z\"></path>\n",
       "<path d=\"M16 26c-8.837 0-16-2.239-16-5v6c0 2.761 7.163 5 16 5s16-2.239 16-5v-6c0 2.761-7.163 5-16 5z\"></path>\n",
       "</symbol>\n",
       "<symbol id=\"icon-file-text2\" viewBox=\"0 0 32 32\">\n",
       "<path d=\"M28.681 7.159c-0.694-0.947-1.662-2.053-2.724-3.116s-2.169-2.030-3.116-2.724c-1.612-1.182-2.393-1.319-2.841-1.319h-15.5c-1.378 0-2.5 1.121-2.5 2.5v27c0 1.378 1.122 2.5 2.5 2.5h23c1.378 0 2.5-1.122 2.5-2.5v-19.5c0-0.448-0.137-1.23-1.319-2.841zM24.543 5.457c0.959 0.959 1.712 1.825 2.268 2.543h-4.811v-4.811c0.718 0.556 1.584 1.309 2.543 2.268zM28 29.5c0 0.271-0.229 0.5-0.5 0.5h-23c-0.271 0-0.5-0.229-0.5-0.5v-27c0-0.271 0.229-0.5 0.5-0.5 0 0 15.499-0 15.5 0v7c0 0.552 0.448 1 1 1h7v19.5z\"></path>\n",
       "<path d=\"M23 26h-14c-0.552 0-1-0.448-1-1s0.448-1 1-1h14c0.552 0 1 0.448 1 1s-0.448 1-1 1z\"></path>\n",
       "<path d=\"M23 22h-14c-0.552 0-1-0.448-1-1s0.448-1 1-1h14c0.552 0 1 0.448 1 1s-0.448 1-1 1z\"></path>\n",
       "<path d=\"M23 18h-14c-0.552 0-1-0.448-1-1s0.448-1 1-1h14c0.552 0 1 0.448 1 1s-0.448 1-1 1z\"></path>\n",
       "</symbol>\n",
       "</defs>\n",
       "</svg>\n",
       "<style>/* CSS stylesheet for displaying xarray objects in jupyterlab.\n",
       " *\n",
       " */\n",
       "\n",
       ":root {\n",
       "  --xr-font-color0: var(--jp-content-font-color0, rgba(0, 0, 0, 1));\n",
       "  --xr-font-color2: var(--jp-content-font-color2, rgba(0, 0, 0, 0.54));\n",
       "  --xr-font-color3: var(--jp-content-font-color3, rgba(0, 0, 0, 0.38));\n",
       "  --xr-border-color: var(--jp-border-color2, #e0e0e0);\n",
       "  --xr-disabled-color: var(--jp-layout-color3, #bdbdbd);\n",
       "  --xr-background-color: var(--jp-layout-color0, white);\n",
       "  --xr-background-color-row-even: var(--jp-layout-color1, white);\n",
       "  --xr-background-color-row-odd: var(--jp-layout-color2, #eeeeee);\n",
       "}\n",
       "\n",
       "html[theme=dark],\n",
       "body[data-theme=dark],\n",
       "body.vscode-dark {\n",
       "  --xr-font-color0: rgba(255, 255, 255, 1);\n",
       "  --xr-font-color2: rgba(255, 255, 255, 0.54);\n",
       "  --xr-font-color3: rgba(255, 255, 255, 0.38);\n",
       "  --xr-border-color: #1F1F1F;\n",
       "  --xr-disabled-color: #515151;\n",
       "  --xr-background-color: #111111;\n",
       "  --xr-background-color-row-even: #111111;\n",
       "  --xr-background-color-row-odd: #313131;\n",
       "}\n",
       "\n",
       ".xr-wrap {\n",
       "  display: block !important;\n",
       "  min-width: 300px;\n",
       "  max-width: 700px;\n",
       "}\n",
       "\n",
       ".xr-text-repr-fallback {\n",
       "  /* fallback to plain text repr when CSS is not injected (untrusted notebook) */\n",
       "  display: none;\n",
       "}\n",
       "\n",
       ".xr-header {\n",
       "  padding-top: 6px;\n",
       "  padding-bottom: 6px;\n",
       "  margin-bottom: 4px;\n",
       "  border-bottom: solid 1px var(--xr-border-color);\n",
       "}\n",
       "\n",
       ".xr-header > div,\n",
       ".xr-header > ul {\n",
       "  display: inline;\n",
       "  margin-top: 0;\n",
       "  margin-bottom: 0;\n",
       "}\n",
       "\n",
       ".xr-obj-type,\n",
       ".xr-array-name {\n",
       "  margin-left: 2px;\n",
       "  margin-right: 10px;\n",
       "}\n",
       "\n",
       ".xr-obj-type {\n",
       "  color: var(--xr-font-color2);\n",
       "}\n",
       "\n",
       ".xr-sections {\n",
       "  padding-left: 0 !important;\n",
       "  display: grid;\n",
       "  grid-template-columns: 150px auto auto 1fr 20px 20px;\n",
       "}\n",
       "\n",
       ".xr-section-item {\n",
       "  display: contents;\n",
       "}\n",
       "\n",
       ".xr-section-item input {\n",
       "  display: none;\n",
       "}\n",
       "\n",
       ".xr-section-item input + label {\n",
       "  color: var(--xr-disabled-color);\n",
       "}\n",
       "\n",
       ".xr-section-item input:enabled + label {\n",
       "  cursor: pointer;\n",
       "  color: var(--xr-font-color2);\n",
       "}\n",
       "\n",
       ".xr-section-item input:enabled + label:hover {\n",
       "  color: var(--xr-font-color0);\n",
       "}\n",
       "\n",
       ".xr-section-summary {\n",
       "  grid-column: 1;\n",
       "  color: var(--xr-font-color2);\n",
       "  font-weight: 500;\n",
       "}\n",
       "\n",
       ".xr-section-summary > span {\n",
       "  display: inline-block;\n",
       "  padding-left: 0.5em;\n",
       "}\n",
       "\n",
       ".xr-section-summary-in:disabled + label {\n",
       "  color: var(--xr-font-color2);\n",
       "}\n",
       "\n",
       ".xr-section-summary-in + label:before {\n",
       "  display: inline-block;\n",
       "  content: '►';\n",
       "  font-size: 11px;\n",
       "  width: 15px;\n",
       "  text-align: center;\n",
       "}\n",
       "\n",
       ".xr-section-summary-in:disabled + label:before {\n",
       "  color: var(--xr-disabled-color);\n",
       "}\n",
       "\n",
       ".xr-section-summary-in:checked + label:before {\n",
       "  content: '▼';\n",
       "}\n",
       "\n",
       ".xr-section-summary-in:checked + label > span {\n",
       "  display: none;\n",
       "}\n",
       "\n",
       ".xr-section-summary,\n",
       ".xr-section-inline-details {\n",
       "  padding-top: 4px;\n",
       "  padding-bottom: 4px;\n",
       "}\n",
       "\n",
       ".xr-section-inline-details {\n",
       "  grid-column: 2 / -1;\n",
       "}\n",
       "\n",
       ".xr-section-details {\n",
       "  display: none;\n",
       "  grid-column: 1 / -1;\n",
       "  margin-bottom: 5px;\n",
       "}\n",
       "\n",
       ".xr-section-summary-in:checked ~ .xr-section-details {\n",
       "  display: contents;\n",
       "}\n",
       "\n",
       ".xr-array-wrap {\n",
       "  grid-column: 1 / -1;\n",
       "  display: grid;\n",
       "  grid-template-columns: 20px auto;\n",
       "}\n",
       "\n",
       ".xr-array-wrap > label {\n",
       "  grid-column: 1;\n",
       "  vertical-align: top;\n",
       "}\n",
       "\n",
       ".xr-preview {\n",
       "  color: var(--xr-font-color3);\n",
       "}\n",
       "\n",
       ".xr-array-preview,\n",
       ".xr-array-data {\n",
       "  padding: 0 5px !important;\n",
       "  grid-column: 2;\n",
       "}\n",
       "\n",
       ".xr-array-data,\n",
       ".xr-array-in:checked ~ .xr-array-preview {\n",
       "  display: none;\n",
       "}\n",
       "\n",
       ".xr-array-in:checked ~ .xr-array-data,\n",
       ".xr-array-preview {\n",
       "  display: inline-block;\n",
       "}\n",
       "\n",
       ".xr-dim-list {\n",
       "  display: inline-block !important;\n",
       "  list-style: none;\n",
       "  padding: 0 !important;\n",
       "  margin: 0;\n",
       "}\n",
       "\n",
       ".xr-dim-list li {\n",
       "  display: inline-block;\n",
       "  padding: 0;\n",
       "  margin: 0;\n",
       "}\n",
       "\n",
       ".xr-dim-list:before {\n",
       "  content: '(';\n",
       "}\n",
       "\n",
       ".xr-dim-list:after {\n",
       "  content: ')';\n",
       "}\n",
       "\n",
       ".xr-dim-list li:not(:last-child):after {\n",
       "  content: ',';\n",
       "  padding-right: 5px;\n",
       "}\n",
       "\n",
       ".xr-has-index {\n",
       "  font-weight: bold;\n",
       "}\n",
       "\n",
       ".xr-var-list,\n",
       ".xr-var-item {\n",
       "  display: contents;\n",
       "}\n",
       "\n",
       ".xr-var-item > div,\n",
       ".xr-var-item label,\n",
       ".xr-var-item > .xr-var-name span {\n",
       "  background-color: var(--xr-background-color-row-even);\n",
       "  margin-bottom: 0;\n",
       "}\n",
       "\n",
       ".xr-var-item > .xr-var-name:hover span {\n",
       "  padding-right: 5px;\n",
       "}\n",
       "\n",
       ".xr-var-list > li:nth-child(odd) > div,\n",
       ".xr-var-list > li:nth-child(odd) > label,\n",
       ".xr-var-list > li:nth-child(odd) > .xr-var-name span {\n",
       "  background-color: var(--xr-background-color-row-odd);\n",
       "}\n",
       "\n",
       ".xr-var-name {\n",
       "  grid-column: 1;\n",
       "}\n",
       "\n",
       ".xr-var-dims {\n",
       "  grid-column: 2;\n",
       "}\n",
       "\n",
       ".xr-var-dtype {\n",
       "  grid-column: 3;\n",
       "  text-align: right;\n",
       "  color: var(--xr-font-color2);\n",
       "}\n",
       "\n",
       ".xr-var-preview {\n",
       "  grid-column: 4;\n",
       "}\n",
       "\n",
       ".xr-var-name,\n",
       ".xr-var-dims,\n",
       ".xr-var-dtype,\n",
       ".xr-preview,\n",
       ".xr-attrs dt {\n",
       "  white-space: nowrap;\n",
       "  overflow: hidden;\n",
       "  text-overflow: ellipsis;\n",
       "  padding-right: 10px;\n",
       "}\n",
       "\n",
       ".xr-var-name:hover,\n",
       ".xr-var-dims:hover,\n",
       ".xr-var-dtype:hover,\n",
       ".xr-attrs dt:hover {\n",
       "  overflow: visible;\n",
       "  width: auto;\n",
       "  z-index: 1;\n",
       "}\n",
       "\n",
       ".xr-var-attrs,\n",
       ".xr-var-data {\n",
       "  display: none;\n",
       "  background-color: var(--xr-background-color) !important;\n",
       "  padding-bottom: 5px !important;\n",
       "}\n",
       "\n",
       ".xr-var-attrs-in:checked ~ .xr-var-attrs,\n",
       ".xr-var-data-in:checked ~ .xr-var-data {\n",
       "  display: block;\n",
       "}\n",
       "\n",
       ".xr-var-data > table {\n",
       "  float: right;\n",
       "}\n",
       "\n",
       ".xr-var-name span,\n",
       ".xr-var-data,\n",
       ".xr-attrs {\n",
       "  padding-left: 25px !important;\n",
       "}\n",
       "\n",
       ".xr-attrs,\n",
       ".xr-var-attrs,\n",
       ".xr-var-data {\n",
       "  grid-column: 1 / -1;\n",
       "}\n",
       "\n",
       "dl.xr-attrs {\n",
       "  padding: 0;\n",
       "  margin: 0;\n",
       "  display: grid;\n",
       "  grid-template-columns: 125px auto;\n",
       "}\n",
       "\n",
       ".xr-attrs dt,\n",
       ".xr-attrs dd {\n",
       "  padding: 0;\n",
       "  margin: 0;\n",
       "  float: left;\n",
       "  padding-right: 10px;\n",
       "  width: auto;\n",
       "}\n",
       "\n",
       ".xr-attrs dt {\n",
       "  font-weight: normal;\n",
       "  grid-column: 1;\n",
       "}\n",
       "\n",
       ".xr-attrs dt:hover span {\n",
       "  display: inline-block;\n",
       "  background: var(--xr-background-color);\n",
       "  padding-right: 10px;\n",
       "}\n",
       "\n",
       ".xr-attrs dd {\n",
       "  grid-column: 2;\n",
       "  white-space: pre-wrap;\n",
       "  word-break: break-all;\n",
       "}\n",
       "\n",
       ".xr-icon-database,\n",
       ".xr-icon-file-text2 {\n",
       "  display: inline-block;\n",
       "  vertical-align: middle;\n",
       "  width: 1em;\n",
       "  height: 1.5em !important;\n",
       "  stroke-width: 0;\n",
       "  stroke: currentColor;\n",
       "  fill: currentColor;\n",
       "}\n",
       "</style><pre class='xr-text-repr-fallback'>&lt;xarray.Dataset&gt;\n",
       "Dimensions:              (time: 30, x: 1216, y: 1792)\n",
       "Coordinates:\n",
       "  * x                    (x) float64 -3.847e+06 -3.841e+06 ... 3.747e+06\n",
       "  * y                    (y) float64 -5.347e+06 -5.341e+06 ... 5.847e+06\n",
       "  * time                 (time) datetime64[ns] 2012-07-02 ... 2012-07-31\n",
       "Data variables:\n",
       "    polar_stereographic  (time) |S1 b&#x27;&#x27; b&#x27;&#x27; b&#x27;&#x27; b&#x27;&#x27; b&#x27;&#x27; ... b&#x27;&#x27; b&#x27;&#x27; b&#x27;&#x27; b&#x27;&#x27; b&#x27;&#x27;\n",
       "    z                    (time, y, x) float32 ...\n",
       "Attributes:\n",
       "    author:       University of Bremen, Gunnar Spreen [gunnar.spreen@uni-brem...\n",
       "    Conventions:  CF-1.5\n",
       "    GMT_version:  5.2.1 (r15220) [64-bit] [MP]\n",
       "    history:      Mon Jan 21 18:50:27 2019: GDAL CreateCopy( /ssmi/www/htdocs...\n",
       "    info:         AMSR2 sea ice concentration based on the ASI algorithm (Spr...\n",
       "    title:        Produced by grdmath\n",
       "    GDAL:         GDAL 2.1.3, released 2017/20/01</pre><div class='xr-wrap' style='display:none'><div class='xr-header'><div class='xr-obj-type'>xarray.Dataset</div></div><ul class='xr-sections'><li class='xr-section-item'><input id='section-97e99be4-01b8-47ad-b320-fb2255534d5a' class='xr-section-summary-in' type='checkbox' disabled ><label for='section-97e99be4-01b8-47ad-b320-fb2255534d5a' class='xr-section-summary'  title='Expand/collapse section'>Dimensions:</label><div class='xr-section-inline-details'><ul class='xr-dim-list'><li><span class='xr-has-index'>time</span>: 30</li><li><span class='xr-has-index'>x</span>: 1216</li><li><span class='xr-has-index'>y</span>: 1792</li></ul></div><div class='xr-section-details'></div></li><li class='xr-section-item'><input id='section-4d6ee44d-abb9-4bc0-8dda-e22f7cb969a8' class='xr-section-summary-in' type='checkbox'  checked><label for='section-4d6ee44d-abb9-4bc0-8dda-e22f7cb969a8' class='xr-section-summary' >Coordinates: <span>(3)</span></label><div class='xr-section-inline-details'></div><div class='xr-section-details'><ul class='xr-var-list'><li class='xr-var-item'><div class='xr-var-name'><span class='xr-has-index'>x</span></div><div class='xr-var-dims'>(x)</div><div class='xr-var-dtype'>float64</div><div class='xr-var-preview xr-preview'>-3.847e+06 -3.841e+06 ... 3.747e+06</div><input id='attrs-1f031d00-726a-4b2d-b8a2-83aad71f0caf' class='xr-var-attrs-in' type='checkbox' ><label for='attrs-1f031d00-726a-4b2d-b8a2-83aad71f0caf' title='Show/Hide attributes'><svg class='icon xr-icon-file-text2'><use xlink:href='#icon-file-text2'></use></svg></label><input id='data-e4bd5649-5b0d-4855-8016-b89db0aae260' class='xr-var-data-in' type='checkbox'><label for='data-e4bd5649-5b0d-4855-8016-b89db0aae260' title='Show/Hide data repr'><svg class='icon xr-icon-database'><use xlink:href='#icon-database'></use></svg></label><div class='xr-var-attrs'><dl class='xr-attrs'><dt><span>standard_name :</span></dt><dd>projection_x_coordinate</dd><dt><span>long_name :</span></dt><dd>x coordinate of projection</dd><dt><span>units :</span></dt><dd>m</dd></dl></div><div class='xr-var-data'><pre>array([-3846875., -3840625., -3834375., ...,  3734375.,  3740625.,  3746875.])</pre></div></li><li class='xr-var-item'><div class='xr-var-name'><span class='xr-has-index'>y</span></div><div class='xr-var-dims'>(y)</div><div class='xr-var-dtype'>float64</div><div class='xr-var-preview xr-preview'>-5.347e+06 -5.341e+06 ... 5.847e+06</div><input id='attrs-028637af-65fd-4c9c-a7bb-22a139eec243' class='xr-var-attrs-in' type='checkbox' ><label for='attrs-028637af-65fd-4c9c-a7bb-22a139eec243' title='Show/Hide attributes'><svg class='icon xr-icon-file-text2'><use xlink:href='#icon-file-text2'></use></svg></label><input id='data-5cd155cb-5807-4f27-b02d-4ba040fdddde' class='xr-var-data-in' type='checkbox'><label for='data-5cd155cb-5807-4f27-b02d-4ba040fdddde' title='Show/Hide data repr'><svg class='icon xr-icon-database'><use xlink:href='#icon-database'></use></svg></label><div class='xr-var-attrs'><dl class='xr-attrs'><dt><span>standard_name :</span></dt><dd>projection_y_coordinate</dd><dt><span>long_name :</span></dt><dd>y coordinate of projection</dd><dt><span>units :</span></dt><dd>m</dd></dl></div><div class='xr-var-data'><pre>array([-5346875., -5340625., -5334375., ...,  5834375.,  5840625.,  5846875.])</pre></div></li><li class='xr-var-item'><div class='xr-var-name'><span class='xr-has-index'>time</span></div><div class='xr-var-dims'>(time)</div><div class='xr-var-dtype'>datetime64[ns]</div><div class='xr-var-preview xr-preview'>2012-07-02 ... 2012-07-31</div><input id='attrs-6f77c952-ee9d-49ec-ae9d-28dd7b085429' class='xr-var-attrs-in' type='checkbox' disabled><label for='attrs-6f77c952-ee9d-49ec-ae9d-28dd7b085429' title='Show/Hide attributes'><svg class='icon xr-icon-file-text2'><use xlink:href='#icon-file-text2'></use></svg></label><input id='data-a26492a3-8a27-4627-bf16-dae716c11bc2' class='xr-var-data-in' type='checkbox'><label for='data-a26492a3-8a27-4627-bf16-dae716c11bc2' title='Show/Hide data repr'><svg class='icon xr-icon-database'><use xlink:href='#icon-database'></use></svg></label><div class='xr-var-attrs'><dl class='xr-attrs'></dl></div><div class='xr-var-data'><pre>array([&#x27;2012-07-02T00:00:00.000000000&#x27;, &#x27;2012-07-03T00:00:00.000000000&#x27;,\n",
       "       &#x27;2012-07-04T00:00:00.000000000&#x27;, &#x27;2012-07-05T00:00:00.000000000&#x27;,\n",
       "       &#x27;2012-07-06T00:00:00.000000000&#x27;, &#x27;2012-07-07T00:00:00.000000000&#x27;,\n",
       "       &#x27;2012-07-08T00:00:00.000000000&#x27;, &#x27;2012-07-09T00:00:00.000000000&#x27;,\n",
       "       &#x27;2012-07-10T00:00:00.000000000&#x27;, &#x27;2012-07-11T00:00:00.000000000&#x27;,\n",
       "       &#x27;2012-07-12T00:00:00.000000000&#x27;, &#x27;2012-07-13T00:00:00.000000000&#x27;,\n",
       "       &#x27;2012-07-14T00:00:00.000000000&#x27;, &#x27;2012-07-15T00:00:00.000000000&#x27;,\n",
       "       &#x27;2012-07-16T00:00:00.000000000&#x27;, &#x27;2012-07-17T00:00:00.000000000&#x27;,\n",
       "       &#x27;2012-07-18T00:00:00.000000000&#x27;, &#x27;2012-07-19T00:00:00.000000000&#x27;,\n",
       "       &#x27;2012-07-20T00:00:00.000000000&#x27;, &#x27;2012-07-21T00:00:00.000000000&#x27;,\n",
       "       &#x27;2012-07-22T00:00:00.000000000&#x27;, &#x27;2012-07-23T00:00:00.000000000&#x27;,\n",
       "       &#x27;2012-07-24T00:00:00.000000000&#x27;, &#x27;2012-07-25T00:00:00.000000000&#x27;,\n",
       "       &#x27;2012-07-26T00:00:00.000000000&#x27;, &#x27;2012-07-27T00:00:00.000000000&#x27;,\n",
       "       &#x27;2012-07-28T00:00:00.000000000&#x27;, &#x27;2012-07-29T00:00:00.000000000&#x27;,\n",
       "       &#x27;2012-07-30T00:00:00.000000000&#x27;, &#x27;2012-07-31T00:00:00.000000000&#x27;],\n",
       "      dtype=&#x27;datetime64[ns]&#x27;)</pre></div></li></ul></div></li><li class='xr-section-item'><input id='section-571fbd19-be40-41d8-93a5-9600f872ced2' class='xr-section-summary-in' type='checkbox'  checked><label for='section-571fbd19-be40-41d8-93a5-9600f872ced2' class='xr-section-summary' >Data variables: <span>(2)</span></label><div class='xr-section-inline-details'></div><div class='xr-section-details'><ul class='xr-var-list'><li class='xr-var-item'><div class='xr-var-name'><span>polar_stereographic</span></div><div class='xr-var-dims'>(time)</div><div class='xr-var-dtype'>|S1</div><div class='xr-var-preview xr-preview'>...</div><input id='attrs-de5236a1-35b7-4857-900e-1b1fe83b1c89' class='xr-var-attrs-in' type='checkbox' ><label for='attrs-de5236a1-35b7-4857-900e-1b1fe83b1c89' title='Show/Hide attributes'><svg class='icon xr-icon-file-text2'><use xlink:href='#icon-file-text2'></use></svg></label><input id='data-7aaa31e3-922d-4357-a4e6-f512a9987e21' class='xr-var-data-in' type='checkbox'><label for='data-7aaa31e3-922d-4357-a4e6-f512a9987e21' title='Show/Hide data repr'><svg class='icon xr-icon-database'><use xlink:href='#icon-database'></use></svg></label><div class='xr-var-attrs'><dl class='xr-attrs'><dt><span>grid_mapping_name :</span></dt><dd>polar_stereographic</dd><dt><span>straight_vertical_longitude_from_pole :</span></dt><dd>-45.0</dd><dt><span>false_easting :</span></dt><dd>0.0</dd><dt><span>false_northing :</span></dt><dd>0.0</dd><dt><span>latitude_of_projection_origin :</span></dt><dd>90.0</dd><dt><span>standard_parallel :</span></dt><dd>70.0</dd><dt><span>long_name :</span></dt><dd>CRS definition</dd><dt><span>longitude_of_prime_meridian :</span></dt><dd>0.0</dd><dt><span>semi_major_axis :</span></dt><dd>6378273.0</dd><dt><span>inverse_flattening :</span></dt><dd>298.279411123064</dd><dt><span>spatial_ref :</span></dt><dd>PROJCS[&quot;NSIDC Sea Ice Polar Stereographic North&quot;,GEOGCS[&quot;Unspecified datum based upon the Hughes 1980 ellipsoid&quot;,DATUM[&quot;Not_specified_based_on_Hughes_1980_ellipsoid&quot;,SPHEROID[&quot;Hughes 1980&quot;,6378273,298.279411123064,AUTHORITY[&quot;EPSG&quot;,&quot;7058&quot;]],AUTHORITY[&quot;EPSG&quot;,&quot;6054&quot;]],PRIMEM[&quot;Greenwich&quot;,0,AUTHORITY[&quot;EPSG&quot;,&quot;8901&quot;]],UNIT[&quot;degree&quot;,0.0174532925199433,AUTHORITY[&quot;EPSG&quot;,&quot;9122&quot;]],AUTHORITY[&quot;EPSG&quot;,&quot;4054&quot;]],PROJECTION[&quot;Polar_Stereographic&quot;],PARAMETER[&quot;latitude_of_origin&quot;,70],PARAMETER[&quot;central_meridian&quot;,-45],PARAMETER[&quot;scale_factor&quot;,1],PARAMETER[&quot;false_easting&quot;,0],PARAMETER[&quot;false_northing&quot;,0],UNIT[&quot;metre&quot;,1,AUTHORITY[&quot;EPSG&quot;,&quot;9001&quot;]],AXIS[&quot;X&quot;,EAST],AXIS[&quot;Y&quot;,NORTH],AUTHORITY[&quot;EPSG&quot;,&quot;3411&quot;]]</dd><dt><span>GeoTransform :</span></dt><dd>-3850000 6250 0 5850000 0 -6250 </dd></dl></div><div class='xr-var-data'><pre>array([b&#x27;&#x27;, b&#x27;&#x27;, b&#x27;&#x27;, b&#x27;&#x27;, b&#x27;&#x27;, b&#x27;&#x27;, b&#x27;&#x27;, b&#x27;&#x27;, b&#x27;&#x27;, b&#x27;&#x27;, b&#x27;&#x27;, b&#x27;&#x27;, b&#x27;&#x27;, b&#x27;&#x27;,\n",
       "       b&#x27;&#x27;, b&#x27;&#x27;, b&#x27;&#x27;, b&#x27;&#x27;, b&#x27;&#x27;, b&#x27;&#x27;, b&#x27;&#x27;, b&#x27;&#x27;, b&#x27;&#x27;, b&#x27;&#x27;, b&#x27;&#x27;, b&#x27;&#x27;, b&#x27;&#x27;, b&#x27;&#x27;,\n",
       "       b&#x27;&#x27;, b&#x27;&#x27;], dtype=&#x27;|S1&#x27;)</pre></div></li><li class='xr-var-item'><div class='xr-var-name'><span>z</span></div><div class='xr-var-dims'>(time, y, x)</div><div class='xr-var-dtype'>float32</div><div class='xr-var-preview xr-preview'>...</div><input id='attrs-0cef6d85-3902-44ba-82dd-11cd97498b12' class='xr-var-attrs-in' type='checkbox' ><label for='attrs-0cef6d85-3902-44ba-82dd-11cd97498b12' title='Show/Hide attributes'><svg class='icon xr-icon-file-text2'><use xlink:href='#icon-file-text2'></use></svg></label><input id='data-69d009f1-eb34-45f4-8de7-04b2b1f51358' class='xr-var-data-in' type='checkbox'><label for='data-69d009f1-eb34-45f4-8de7-04b2b1f51358' title='Show/Hide data repr'><svg class='icon xr-icon-database'><use xlink:href='#icon-database'></use></svg></label><div class='xr-var-attrs'><dl class='xr-attrs'><dt><span>long_name :</span></dt><dd>z</dd><dt><span>actual_range :</span></dt><dd>[  0 100]</dd><dt><span>grid_mapping :</span></dt><dd>polar_stereographic</dd></dl></div><div class='xr-var-data'><pre>[65372160 values with dtype=float32]</pre></div></li></ul></div></li><li class='xr-section-item'><input id='section-6ebfd64f-be22-4aed-938f-9dda1aa22b28' class='xr-section-summary-in' type='checkbox'  checked><label for='section-6ebfd64f-be22-4aed-938f-9dda1aa22b28' class='xr-section-summary' >Attributes: <span>(7)</span></label><div class='xr-section-inline-details'></div><div class='xr-section-details'><dl class='xr-attrs'><dt><span>author :</span></dt><dd>University of Bremen, Gunnar Spreen [gunnar.spreen@uni-bremen.de], Christian Melsheimer [melsheim@uni-bremen.de]</dd><dt><span>Conventions :</span></dt><dd>CF-1.5</dd><dt><span>GMT_version :</span></dt><dd>5.2.1 (r15220) [64-bit] [MP]</dd><dt><span>history :</span></dt><dd>Mon Jan 21 18:50:27 2019: GDAL CreateCopy( /ssmi/www/htdocs/data/amsr2/asi_daygrid_swath/netcdf/2012/asi-AMSR2-n6250-20120702-v5.4.nc, ... )\n",
       "grdmath ../n6250/2012/jul/Arctic/asi-AMSR2-n6250-20120702-v5.4.hdf FLIPUD = tmp1.nc</dd><dt><span>info :</span></dt><dd>AMSR2 sea ice concentration based on the ASI algorithm (Spreen et al., 2008).</dd><dt><span>title :</span></dt><dd>Produced by grdmath</dd><dt><span>GDAL :</span></dt><dd>GDAL 2.1.3, released 2017/20/01</dd></dl></div></li></ul></div></div>"
      ],
      "text/plain": [
       "<xarray.Dataset>\n",
       "Dimensions:              (time: 30, x: 1216, y: 1792)\n",
       "Coordinates:\n",
       "  * x                    (x) float64 -3.847e+06 -3.841e+06 ... 3.747e+06\n",
       "  * y                    (y) float64 -5.347e+06 -5.341e+06 ... 5.847e+06\n",
       "  * time                 (time) datetime64[ns] 2012-07-02 ... 2012-07-31\n",
       "Data variables:\n",
       "    polar_stereographic  (time) |S1 ...\n",
       "    z                    (time, y, x) float32 ...\n",
       "Attributes:\n",
       "    author:       University of Bremen, Gunnar Spreen [gunnar.spreen@uni-brem...\n",
       "    Conventions:  CF-1.5\n",
       "    GMT_version:  5.2.1 (r15220) [64-bit] [MP]\n",
       "    history:      Mon Jan 21 18:50:27 2019: GDAL CreateCopy( /ssmi/www/htdocs...\n",
       "    info:         AMSR2 sea ice concentration based on the ASI algorithm (Spr...\n",
       "    title:        Produced by grdmath\n",
       "    GDAL:         GDAL 2.1.3, released 2017/20/01"
      ]
     },
     "execution_count": 16,
     "metadata": {},
     "output_type": "execute_result"
    }
   ],
   "source": [
    "ds=xr.open_dataset('data/SIC/AMSR2_ASI_sea_ice_concentration_201207.nc')\n",
    "ds\n",
    "# ds.sel(time='20120702').z.plot()"
   ]
  },
  {
   "cell_type": "code",
   "execution_count": 13,
   "id": "346f6835-6624-4e62-909f-58fbba555793",
   "metadata": {},
   "outputs": [
    {
     "data": {
      "text/plain": [
       "datetime.datetime(2012, 7, 3, 0, 0)"
      ]
     },
     "execution_count": 13,
     "metadata": {},
     "output_type": "execute_result"
    }
   ],
   "source": [
    "date = 'escience2022/Antoine/AMSR2_ASI_sea_ice_concentration/asi-AMSR2-n6250-20120703-v5.4.nc'\n",
    "datetime.strptime(date.split('/')[-1].split('-')[3], '%Y%m%d') "
   ]
  },
  {
   "cell_type": "code",
   "execution_count": 4,
   "id": "711b1d55-f97f-4d35-be0a-a40c32878716",
   "metadata": {},
   "outputs": [
    {
     "data": {
      "text/plain": [
       "True"
      ]
     },
     "execution_count": 4,
     "metadata": {},
     "output_type": "execute_result"
    }
   ],
   "source": [
    "f = 'data/SIC/AMSR2_ASI_sea_ice_concentration_201207.nc'\n"
   ]
  },
  {
   "cell_type": "code",
   "execution_count": null,
   "id": "e96da011-2e7a-42b5-b45a-bd207a234e7e",
   "metadata": {},
   "outputs": [],
   "source": []
  }
 ],
 "metadata": {
  "kernelspec": {
   "display_name": "Python [conda env:notebook] *",
   "language": "python",
   "name": "conda-env-notebook-py"
  },
  "language_info": {
   "codemirror_mode": {
    "name": "ipython",
    "version": 3
   },
   "file_extension": ".py",
   "mimetype": "text/x-python",
   "name": "python",
   "nbconvert_exporter": "python",
   "pygments_lexer": "ipython3",
   "version": "3.9.13"
  }
 },
 "nbformat": 4,
 "nbformat_minor": 5
}
