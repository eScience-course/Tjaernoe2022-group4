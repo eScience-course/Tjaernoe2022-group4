{
 "cells": [
  {
   "cell_type": "code",
   "execution_count": 2,
   "id": "adf20831-ebb6-40fb-bb0f-6f402fe095a8",
   "metadata": {},
   "outputs": [
    {
     "name": "stdout",
     "output_type": "stream",
     "text": [
      "hello Maher\n"
     ]
    }
   ],
   "source": [
    "print (\"hello Maher\")\n"
   ]
  },
  {
   "cell_type": "code",
   "execution_count": null,
   "id": "393e7997-1e59-445d-8436-1f75a6c69360",
   "metadata": {},
   "outputs": [],
   "source": []
  }
 ],
 "metadata": {
  "kernelspec": {
   "display_name": "Python 3 (ipykernel)",
   "language": "python",
   "name": "python3"
  },
  "language_info": {
   "codemirror_mode": {
    "name": "ipython",
    "version": 3
   },
   "file_extension": ".py",
   "mimetype": "text/x-python",
   "name": "python",
   "nbconvert_exporter": "python",
   "pygments_lexer": "ipython3",
   "version": "3.9.13"
  }
 },
 "nbformat": 4,
 "nbformat_minor": 5
}
