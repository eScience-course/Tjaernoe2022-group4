{
 "cells": [
  {
   "cell_type": "markdown",
   "id": "cb549d68-6d72-4834-a3e0-1a1ace382b57",
   "metadata": {},
   "source": [
    "#### Useful Notes about DMS for the report\n",
    "- Dimethylsulfide (DMS), a gas produced by marine microbial food webs.\n",
    "- In details DMS is produced through microbial decomposition of dimethylsulfoniopropionate (DMSP), a compound synthesized in variable amounts by different phytoplankton groups. \n",
    "- DMS promotes aerosol formation in pristine atmospheres, \n",
    "- -> altering cloud radiative forcing and precipitation.\n",
    "- In Gali et al 2019 observed that EDMS from ice-free waters increased at a mean rate of 13.3 ± 6.7 Gg S decade−1 (∼33% decade−1) north of 70°N between 1998 and 2016. \n",
    "- This trend, mostly explained by the reduction in sea-ice extent, is consistent with independent atmospheric measurements showing an increasing trend of methane sulfonic acid, a DMS oxidation product.\n",
    "- Previous estimates of Arctic Ocean EDMS have been made using either sea-surface DMS climatologies (16), produced through interpolation of sparse in situ data, or prognostic models (20, 21). Both types of estimates depict the Arctic as a region with relatively low sea–air DMS flux per unit area (FDMS) on an annual basis (mean FDMS lower than 2 μmol m−2·d−1) compared to temperate and tropical oceans (mean FDMS of about 4–5 μmol m−2·s−1) (16,20). However, Arctic FDMS is concentrated in the short productive\n",
    "- "
   ]
  },
  {
   "cell_type": "markdown",
   "id": "404d1e73-a335-42aa-94f7-d9331414fd49",
   "metadata": {},
   "source": [
    "## Research Questions\n",
    "- How DMS concentrations in the Arctic regions are represented in different climate Models (historical + future projections)\n",
    "- How DMS concentration is represented in observations and how these concentrations are biased from models (matching periods 2003-2014 for Modis Aqua and 1998-2007 for SeaWifs) \n",
    "- How sea ice and ice-melting with the consequent potential changes in slainity would impact DMS concentration and their fluxes into the atmpsphere?  \n",
    "- For Models, we are looking at CMIP6 data from CNRM and UKESM\n",
    "- Here we choose two different contrasting areas, i.e. Greenland Sea and laptev Sea\n"
   ]
  },
  {
   "cell_type": "code",
   "execution_count": null,
   "id": "0762b05c-871a-4b64-85dc-3f5e634c5db1",
   "metadata": {},
   "outputs": [],
   "source": []
  },
  {
   "cell_type": "code",
   "execution_count": null,
   "id": "61235a50-5e17-4b18-ae32-36d7e6f55a8c",
   "metadata": {},
   "outputs": [],
   "source": []
  }
 ],
 "metadata": {
  "kernelspec": {
   "display_name": "Python 3 (ipykernel)",
   "language": "python",
   "name": "python3"
  },
  "language_info": {
   "codemirror_mode": {
    "name": "ipython",
    "version": 3
   },
   "file_extension": ".py",
   "mimetype": "text/x-python",
   "name": "python",
   "nbconvert_exporter": "python",
   "pygments_lexer": "ipython3",
   "version": "3.9.13"
  }
 },
 "nbformat": 4,
 "nbformat_minor": 5
}
