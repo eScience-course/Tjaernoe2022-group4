{
 "cells": [
  {
   "cell_type": "markdown",
   "id": "d966c4e1-3deb-43cb-996c-e6f873998386",
   "metadata": {},
   "source": [
    "## CMIP6 model data using Pangeo catalog"
   ]
  },
  {
   "cell_type": "code",
   "execution_count": 65,
   "id": "9a3fb87e-7a20-4e42-98e3-9e4b25e1e5ce",
   "metadata": {},
   "outputs": [],
   "source": [
    "# load useful packages\n",
    "import xarray as xr\n",
    "xr.set_options(display_style='html')\n",
    "import intake\n",
    "import cftime\n",
    "import matplotlib.pyplot as plt\n",
    "import cartopy.crs as ccrs\n",
    "import cartopy\n",
    "%matplotlib inline"
   ]
  },
  {
   "cell_type": "code",
   "execution_count": 8,
   "id": "90b8042b-91ad-4274-81c8-a13d351f19ab",
   "metadata": {},
   "outputs": [
    {
     "data": {
      "text/html": [
       "<p><strong>pangeo-cmip6 catalog with 7674 dataset(s) from 514818 asset(s)</strong>:</p> <div>\n",
       "<style scoped>\n",
       "    .dataframe tbody tr th:only-of-type {\n",
       "        vertical-align: middle;\n",
       "    }\n",
       "\n",
       "    .dataframe tbody tr th {\n",
       "        vertical-align: top;\n",
       "    }\n",
       "\n",
       "    .dataframe thead th {\n",
       "        text-align: right;\n",
       "    }\n",
       "</style>\n",
       "<table border=\"1\" class=\"dataframe\">\n",
       "  <thead>\n",
       "    <tr style=\"text-align: right;\">\n",
       "      <th></th>\n",
       "      <th>unique</th>\n",
       "    </tr>\n",
       "  </thead>\n",
       "  <tbody>\n",
       "    <tr>\n",
       "      <th>activity_id</th>\n",
       "      <td>18</td>\n",
       "    </tr>\n",
       "    <tr>\n",
       "      <th>institution_id</th>\n",
       "      <td>36</td>\n",
       "    </tr>\n",
       "    <tr>\n",
       "      <th>source_id</th>\n",
       "      <td>88</td>\n",
       "    </tr>\n",
       "    <tr>\n",
       "      <th>experiment_id</th>\n",
       "      <td>170</td>\n",
       "    </tr>\n",
       "    <tr>\n",
       "      <th>member_id</th>\n",
       "      <td>657</td>\n",
       "    </tr>\n",
       "    <tr>\n",
       "      <th>table_id</th>\n",
       "      <td>37</td>\n",
       "    </tr>\n",
       "    <tr>\n",
       "      <th>variable_id</th>\n",
       "      <td>700</td>\n",
       "    </tr>\n",
       "    <tr>\n",
       "      <th>grid_label</th>\n",
       "      <td>10</td>\n",
       "    </tr>\n",
       "    <tr>\n",
       "      <th>zstore</th>\n",
       "      <td>514818</td>\n",
       "    </tr>\n",
       "    <tr>\n",
       "      <th>dcpp_init_year</th>\n",
       "      <td>60</td>\n",
       "    </tr>\n",
       "    <tr>\n",
       "      <th>version</th>\n",
       "      <td>736</td>\n",
       "    </tr>\n",
       "  </tbody>\n",
       "</table>\n",
       "</div>"
      ],
      "text/plain": [
       "<IPython.core.display.HTML object>"
      ]
     },
     "metadata": {},
     "output_type": "display_data"
    }
   ],
   "source": [
    "# open cmip6 online catalogue\n",
    "cat_url = \"https://storage.googleapis.com/cmip6/pangeo-cmip6.json\"\n",
    "col = intake.open_esm_datastore(cat_url)\n",
    "col"
   ]
  },
  {
   "cell_type": "code",
   "execution_count": 20,
   "id": "81b68989-df79-4377-b4f8-2935b81cbcf6",
   "metadata": {},
   "outputs": [
    {
     "data": {
      "text/html": [
       "<div>\n",
       "<style scoped>\n",
       "    .dataframe tbody tr th:only-of-type {\n",
       "        vertical-align: middle;\n",
       "    }\n",
       "\n",
       "    .dataframe tbody tr th {\n",
       "        vertical-align: top;\n",
       "    }\n",
       "\n",
       "    .dataframe thead th {\n",
       "        text-align: right;\n",
       "    }\n",
       "</style>\n",
       "<table border=\"1\" class=\"dataframe\">\n",
       "  <thead>\n",
       "    <tr style=\"text-align: right;\">\n",
       "      <th></th>\n",
       "      <th>activity_id</th>\n",
       "      <th>institution_id</th>\n",
       "      <th>source_id</th>\n",
       "      <th>experiment_id</th>\n",
       "      <th>member_id</th>\n",
       "      <th>table_id</th>\n",
       "      <th>variable_id</th>\n",
       "      <th>grid_label</th>\n",
       "      <th>zstore</th>\n",
       "      <th>dcpp_init_year</th>\n",
       "      <th>version</th>\n",
       "    </tr>\n",
       "  </thead>\n",
       "  <tbody>\n",
       "    <tr>\n",
       "      <th>0</th>\n",
       "      <td>CMIP</td>\n",
       "      <td>CNRM-CERFACS</td>\n",
       "      <td>CNRM-ESM2-1</td>\n",
       "      <td>historical</td>\n",
       "      <td>r1i1p1f2</td>\n",
       "      <td>SImon</td>\n",
       "      <td>siconc</td>\n",
       "      <td>gn</td>\n",
       "      <td>gs://cmip6/CMIP6/CMIP/CNRM-CERFACS/CNRM-ESM2-1...</td>\n",
       "      <td>NaN</td>\n",
       "      <td>20181206</td>\n",
       "    </tr>\n",
       "    <tr>\n",
       "      <th>1</th>\n",
       "      <td>CMIP</td>\n",
       "      <td>CNRM-CERFACS</td>\n",
       "      <td>CNRM-ESM2-1</td>\n",
       "      <td>historical</td>\n",
       "      <td>r1i1p1f2</td>\n",
       "      <td>Omon</td>\n",
       "      <td>no3</td>\n",
       "      <td>gn</td>\n",
       "      <td>gs://cmip6/CMIP6/CMIP/CNRM-CERFACS/CNRM-ESM2-1...</td>\n",
       "      <td>NaN</td>\n",
       "      <td>20181206</td>\n",
       "    </tr>\n",
       "    <tr>\n",
       "      <th>2</th>\n",
       "      <td>CMIP</td>\n",
       "      <td>CNRM-CERFACS</td>\n",
       "      <td>CNRM-ESM2-1</td>\n",
       "      <td>historical</td>\n",
       "      <td>r3i1p1f2</td>\n",
       "      <td>SImon</td>\n",
       "      <td>siconc</td>\n",
       "      <td>gn</td>\n",
       "      <td>gs://cmip6/CMIP6/CMIP/CNRM-CERFACS/CNRM-ESM2-1...</td>\n",
       "      <td>NaN</td>\n",
       "      <td>20190125</td>\n",
       "    </tr>\n",
       "    <tr>\n",
       "      <th>3</th>\n",
       "      <td>CMIP</td>\n",
       "      <td>CNRM-CERFACS</td>\n",
       "      <td>CNRM-ESM2-1</td>\n",
       "      <td>historical</td>\n",
       "      <td>r3i1p1f2</td>\n",
       "      <td>Omon</td>\n",
       "      <td>no3</td>\n",
       "      <td>gn</td>\n",
       "      <td>gs://cmip6/CMIP6/CMIP/CNRM-CERFACS/CNRM-ESM2-1...</td>\n",
       "      <td>NaN</td>\n",
       "      <td>20190125</td>\n",
       "    </tr>\n",
       "    <tr>\n",
       "      <th>4</th>\n",
       "      <td>CMIP</td>\n",
       "      <td>CNRM-CERFACS</td>\n",
       "      <td>CNRM-ESM2-1</td>\n",
       "      <td>historical</td>\n",
       "      <td>r4i1p1f2</td>\n",
       "      <td>SImon</td>\n",
       "      <td>siconc</td>\n",
       "      <td>gn</td>\n",
       "      <td>gs://cmip6/CMIP6/CMIP/CNRM-CERFACS/CNRM-ESM2-1...</td>\n",
       "      <td>NaN</td>\n",
       "      <td>20190125</td>\n",
       "    </tr>\n",
       "    <tr>\n",
       "      <th>5</th>\n",
       "      <td>CMIP</td>\n",
       "      <td>CNRM-CERFACS</td>\n",
       "      <td>CNRM-ESM2-1</td>\n",
       "      <td>historical</td>\n",
       "      <td>r2i1p1f2</td>\n",
       "      <td>Omon</td>\n",
       "      <td>no3</td>\n",
       "      <td>gn</td>\n",
       "      <td>gs://cmip6/CMIP6/CMIP/CNRM-CERFACS/CNRM-ESM2-1...</td>\n",
       "      <td>NaN</td>\n",
       "      <td>20190125</td>\n",
       "    </tr>\n",
       "    <tr>\n",
       "      <th>6</th>\n",
       "      <td>CMIP</td>\n",
       "      <td>CNRM-CERFACS</td>\n",
       "      <td>CNRM-ESM2-1</td>\n",
       "      <td>historical</td>\n",
       "      <td>r5i1p1f2</td>\n",
       "      <td>SImon</td>\n",
       "      <td>siconc</td>\n",
       "      <td>gn</td>\n",
       "      <td>gs://cmip6/CMIP6/CMIP/CNRM-CERFACS/CNRM-ESM2-1...</td>\n",
       "      <td>NaN</td>\n",
       "      <td>20190125</td>\n",
       "    </tr>\n",
       "    <tr>\n",
       "      <th>7</th>\n",
       "      <td>CMIP</td>\n",
       "      <td>CNRM-CERFACS</td>\n",
       "      <td>CNRM-ESM2-1</td>\n",
       "      <td>historical</td>\n",
       "      <td>r5i1p1f2</td>\n",
       "      <td>Omon</td>\n",
       "      <td>no3</td>\n",
       "      <td>gn</td>\n",
       "      <td>gs://cmip6/CMIP6/CMIP/CNRM-CERFACS/CNRM-ESM2-1...</td>\n",
       "      <td>NaN</td>\n",
       "      <td>20190125</td>\n",
       "    </tr>\n",
       "    <tr>\n",
       "      <th>8</th>\n",
       "      <td>CMIP</td>\n",
       "      <td>CNRM-CERFACS</td>\n",
       "      <td>CNRM-ESM2-1</td>\n",
       "      <td>historical</td>\n",
       "      <td>r2i1p1f2</td>\n",
       "      <td>SImon</td>\n",
       "      <td>siconc</td>\n",
       "      <td>gn</td>\n",
       "      <td>gs://cmip6/CMIP6/CMIP/CNRM-CERFACS/CNRM-ESM2-1...</td>\n",
       "      <td>NaN</td>\n",
       "      <td>20190125</td>\n",
       "    </tr>\n",
       "    <tr>\n",
       "      <th>9</th>\n",
       "      <td>CMIP</td>\n",
       "      <td>CNRM-CERFACS</td>\n",
       "      <td>CNRM-ESM2-1</td>\n",
       "      <td>historical</td>\n",
       "      <td>r4i1p1f2</td>\n",
       "      <td>Omon</td>\n",
       "      <td>no3</td>\n",
       "      <td>gn</td>\n",
       "      <td>gs://cmip6/CMIP6/CMIP/CNRM-CERFACS/CNRM-ESM2-1...</td>\n",
       "      <td>NaN</td>\n",
       "      <td>20190125</td>\n",
       "    </tr>\n",
       "    <tr>\n",
       "      <th>10</th>\n",
       "      <td>CMIP</td>\n",
       "      <td>CNRM-CERFACS</td>\n",
       "      <td>CNRM-ESM2-1</td>\n",
       "      <td>historical</td>\n",
       "      <td>r10i1p1f2</td>\n",
       "      <td>Omon</td>\n",
       "      <td>no3</td>\n",
       "      <td>gn</td>\n",
       "      <td>gs://cmip6/CMIP6/CMIP/CNRM-CERFACS/CNRM-ESM2-1...</td>\n",
       "      <td>NaN</td>\n",
       "      <td>20200117</td>\n",
       "    </tr>\n",
       "    <tr>\n",
       "      <th>11</th>\n",
       "      <td>CMIP</td>\n",
       "      <td>CNRM-CERFACS</td>\n",
       "      <td>CNRM-ESM2-1</td>\n",
       "      <td>historical</td>\n",
       "      <td>r9i1p1f2</td>\n",
       "      <td>Omon</td>\n",
       "      <td>no3</td>\n",
       "      <td>gn</td>\n",
       "      <td>gs://cmip6/CMIP6/CMIP/CNRM-CERFACS/CNRM-ESM2-1...</td>\n",
       "      <td>NaN</td>\n",
       "      <td>20200117</td>\n",
       "    </tr>\n",
       "    <tr>\n",
       "      <th>12</th>\n",
       "      <td>CMIP</td>\n",
       "      <td>CNRM-CERFACS</td>\n",
       "      <td>CNRM-ESM2-1</td>\n",
       "      <td>historical</td>\n",
       "      <td>r8i1p1f2</td>\n",
       "      <td>Omon</td>\n",
       "      <td>no3</td>\n",
       "      <td>gn</td>\n",
       "      <td>gs://cmip6/CMIP6/CMIP/CNRM-CERFACS/CNRM-ESM2-1...</td>\n",
       "      <td>NaN</td>\n",
       "      <td>20200117</td>\n",
       "    </tr>\n",
       "    <tr>\n",
       "      <th>13</th>\n",
       "      <td>CMIP</td>\n",
       "      <td>CNRM-CERFACS</td>\n",
       "      <td>CNRM-ESM2-1</td>\n",
       "      <td>historical</td>\n",
       "      <td>r7i1p1f2</td>\n",
       "      <td>Omon</td>\n",
       "      <td>no3</td>\n",
       "      <td>gn</td>\n",
       "      <td>gs://cmip6/CMIP6/CMIP/CNRM-CERFACS/CNRM-ESM2-1...</td>\n",
       "      <td>NaN</td>\n",
       "      <td>20200117</td>\n",
       "    </tr>\n",
       "    <tr>\n",
       "      <th>14</th>\n",
       "      <td>CMIP</td>\n",
       "      <td>CNRM-CERFACS</td>\n",
       "      <td>CNRM-ESM2-1</td>\n",
       "      <td>historical</td>\n",
       "      <td>r6i1p1f2</td>\n",
       "      <td>Omon</td>\n",
       "      <td>no3</td>\n",
       "      <td>gn</td>\n",
       "      <td>gs://cmip6/CMIP6/CMIP/CNRM-CERFACS/CNRM-ESM2-1...</td>\n",
       "      <td>NaN</td>\n",
       "      <td>20200117</td>\n",
       "    </tr>\n",
       "    <tr>\n",
       "      <th>15</th>\n",
       "      <td>CMIP</td>\n",
       "      <td>CNRM-CERFACS</td>\n",
       "      <td>CNRM-ESM2-1</td>\n",
       "      <td>historical</td>\n",
       "      <td>r11i1p1f2</td>\n",
       "      <td>SImon</td>\n",
       "      <td>siconc</td>\n",
       "      <td>gn</td>\n",
       "      <td>gs://cmip6/CMIP6/CMIP/CNRM-CERFACS/CNRM-ESM2-1...</td>\n",
       "      <td>NaN</td>\n",
       "      <td>20200408</td>\n",
       "    </tr>\n",
       "    <tr>\n",
       "      <th>16</th>\n",
       "      <td>CMIP</td>\n",
       "      <td>CNRM-CERFACS</td>\n",
       "      <td>CNRM-ESM2-1</td>\n",
       "      <td>historical</td>\n",
       "      <td>r11i1p1f2</td>\n",
       "      <td>Omon</td>\n",
       "      <td>no3</td>\n",
       "      <td>gn</td>\n",
       "      <td>gs://cmip6/CMIP6/CMIP/CNRM-CERFACS/CNRM-ESM2-1...</td>\n",
       "      <td>NaN</td>\n",
       "      <td>20200408</td>\n",
       "    </tr>\n",
       "  </tbody>\n",
       "</table>\n",
       "</div>"
      ],
      "text/plain": [
       "   activity_id institution_id    source_id experiment_id  member_id table_id  \\\n",
       "0         CMIP   CNRM-CERFACS  CNRM-ESM2-1    historical   r1i1p1f2    SImon   \n",
       "1         CMIP   CNRM-CERFACS  CNRM-ESM2-1    historical   r1i1p1f2     Omon   \n",
       "2         CMIP   CNRM-CERFACS  CNRM-ESM2-1    historical   r3i1p1f2    SImon   \n",
       "3         CMIP   CNRM-CERFACS  CNRM-ESM2-1    historical   r3i1p1f2     Omon   \n",
       "4         CMIP   CNRM-CERFACS  CNRM-ESM2-1    historical   r4i1p1f2    SImon   \n",
       "5         CMIP   CNRM-CERFACS  CNRM-ESM2-1    historical   r2i1p1f2     Omon   \n",
       "6         CMIP   CNRM-CERFACS  CNRM-ESM2-1    historical   r5i1p1f2    SImon   \n",
       "7         CMIP   CNRM-CERFACS  CNRM-ESM2-1    historical   r5i1p1f2     Omon   \n",
       "8         CMIP   CNRM-CERFACS  CNRM-ESM2-1    historical   r2i1p1f2    SImon   \n",
       "9         CMIP   CNRM-CERFACS  CNRM-ESM2-1    historical   r4i1p1f2     Omon   \n",
       "10        CMIP   CNRM-CERFACS  CNRM-ESM2-1    historical  r10i1p1f2     Omon   \n",
       "11        CMIP   CNRM-CERFACS  CNRM-ESM2-1    historical   r9i1p1f2     Omon   \n",
       "12        CMIP   CNRM-CERFACS  CNRM-ESM2-1    historical   r8i1p1f2     Omon   \n",
       "13        CMIP   CNRM-CERFACS  CNRM-ESM2-1    historical   r7i1p1f2     Omon   \n",
       "14        CMIP   CNRM-CERFACS  CNRM-ESM2-1    historical   r6i1p1f2     Omon   \n",
       "15        CMIP   CNRM-CERFACS  CNRM-ESM2-1    historical  r11i1p1f2    SImon   \n",
       "16        CMIP   CNRM-CERFACS  CNRM-ESM2-1    historical  r11i1p1f2     Omon   \n",
       "\n",
       "   variable_id grid_label                                             zstore  \\\n",
       "0       siconc         gn  gs://cmip6/CMIP6/CMIP/CNRM-CERFACS/CNRM-ESM2-1...   \n",
       "1          no3         gn  gs://cmip6/CMIP6/CMIP/CNRM-CERFACS/CNRM-ESM2-1...   \n",
       "2       siconc         gn  gs://cmip6/CMIP6/CMIP/CNRM-CERFACS/CNRM-ESM2-1...   \n",
       "3          no3         gn  gs://cmip6/CMIP6/CMIP/CNRM-CERFACS/CNRM-ESM2-1...   \n",
       "4       siconc         gn  gs://cmip6/CMIP6/CMIP/CNRM-CERFACS/CNRM-ESM2-1...   \n",
       "5          no3         gn  gs://cmip6/CMIP6/CMIP/CNRM-CERFACS/CNRM-ESM2-1...   \n",
       "6       siconc         gn  gs://cmip6/CMIP6/CMIP/CNRM-CERFACS/CNRM-ESM2-1...   \n",
       "7          no3         gn  gs://cmip6/CMIP6/CMIP/CNRM-CERFACS/CNRM-ESM2-1...   \n",
       "8       siconc         gn  gs://cmip6/CMIP6/CMIP/CNRM-CERFACS/CNRM-ESM2-1...   \n",
       "9          no3         gn  gs://cmip6/CMIP6/CMIP/CNRM-CERFACS/CNRM-ESM2-1...   \n",
       "10         no3         gn  gs://cmip6/CMIP6/CMIP/CNRM-CERFACS/CNRM-ESM2-1...   \n",
       "11         no3         gn  gs://cmip6/CMIP6/CMIP/CNRM-CERFACS/CNRM-ESM2-1...   \n",
       "12         no3         gn  gs://cmip6/CMIP6/CMIP/CNRM-CERFACS/CNRM-ESM2-1...   \n",
       "13         no3         gn  gs://cmip6/CMIP6/CMIP/CNRM-CERFACS/CNRM-ESM2-1...   \n",
       "14         no3         gn  gs://cmip6/CMIP6/CMIP/CNRM-CERFACS/CNRM-ESM2-1...   \n",
       "15      siconc         gn  gs://cmip6/CMIP6/CMIP/CNRM-CERFACS/CNRM-ESM2-1...   \n",
       "16         no3         gn  gs://cmip6/CMIP6/CMIP/CNRM-CERFACS/CNRM-ESM2-1...   \n",
       "\n",
       "    dcpp_init_year   version  \n",
       "0              NaN  20181206  \n",
       "1              NaN  20181206  \n",
       "2              NaN  20190125  \n",
       "3              NaN  20190125  \n",
       "4              NaN  20190125  \n",
       "5              NaN  20190125  \n",
       "6              NaN  20190125  \n",
       "7              NaN  20190125  \n",
       "8              NaN  20190125  \n",
       "9              NaN  20190125  \n",
       "10             NaN  20200117  \n",
       "11             NaN  20200117  \n",
       "12             NaN  20200117  \n",
       "13             NaN  20200117  \n",
       "14             NaN  20200117  \n",
       "15             NaN  20200408  \n",
       "16             NaN  20200408  "
      ]
     },
     "execution_count": 20,
     "metadata": {},
     "output_type": "execute_result"
    }
   ],
   "source": [
    "cat = col.search(source_id=['CNRM-ESM2-1'], \n",
    "                 experiment_id=['historical'], table_id=['Omon','SImon'], \n",
    "                 #grid_label=['gr1'],\n",
    "                 variable_id=['siconc','no3','areacello']) \n",
    "                 #member_id=['r1i1p1f1'])\n",
    "cat.df"
   ]
  },
  {
   "cell_type": "code",
   "execution_count": 47,
   "id": "97e458f4-aec6-4146-a066-039c64d52c39",
   "metadata": {},
   "outputs": [
    {
     "name": "stdout",
     "output_type": "stream",
     "text": [
      "\n",
      "--> The keys in the returned dictionary of datasets are constructed as follows:\n",
      "\t'activity_id.institution_id.source_id.experiment_id.table_id.grid_label'\n"
     ]
    },
    {
     "data": {
      "text/html": [
       "\n",
       "<style>\n",
       "    /* Turns off some styling */\n",
       "    progress {\n",
       "        /* gets rid of default border in Firefox and Opera. */\n",
       "        border: none;\n",
       "        /* Needs to be in here for Safari polyfill so background images work as expected. */\n",
       "        background-size: auto;\n",
       "    }\n",
       "    progress:not([value]), progress:not([value])::-webkit-progress-bar {\n",
       "        background: repeating-linear-gradient(45deg, #7e7e7e, #7e7e7e 10px, #5c5c5c 10px, #5c5c5c 20px);\n",
       "    }\n",
       "    .progress-bar-interrupted, .progress-bar-interrupted::-webkit-progress-bar {\n",
       "        background: #F44336;\n",
       "    }\n",
       "</style>\n"
      ],
      "text/plain": [
       "<IPython.core.display.HTML object>"
      ]
     },
     "metadata": {},
     "output_type": "display_data"
    },
    {
     "data": {
      "text/html": [
       "\n",
       "    <div>\n",
       "      <progress value='2' class='' max='2' style='width:300px; height:20px; vertical-align: middle;'></progress>\n",
       "      100.00% [2/2 00:00&lt;00:00]\n",
       "    </div>\n",
       "    "
      ],
      "text/plain": [
       "<IPython.core.display.HTML object>"
      ]
     },
     "metadata": {},
     "output_type": "display_data"
    }
   ],
   "source": [
    "# Create dictionary from the list of datasets we found\n",
    "dset_dict = cat.to_dataset_dict(zarr_kwargs={'use_cftime':True})"
   ]
  },
  {
   "cell_type": "code",
   "execution_count": 48,
   "id": "4db7c247-3eaa-45e4-b71b-6218239d08e2",
   "metadata": {},
   "outputs": [
    {
     "data": {
      "text/plain": [
       "['CMIP.CNRM-CERFACS.CNRM-ESM2-1.historical.SImon.gn',\n",
       " 'CMIP.CNRM-CERFACS.CNRM-ESM2-1.historical.Omon.gn']"
      ]
     },
     "execution_count": 48,
     "metadata": {},
     "output_type": "execute_result"
    }
   ],
   "source": [
    "list(dset_dict.keys())"
   ]
  },
  {
   "cell_type": "code",
   "execution_count": 49,
   "id": "a8235e0e-ae98-46de-a4d0-139fb8b05c4f",
   "metadata": {},
   "outputs": [],
   "source": [
    "si = dset_dict['CMIP.CNRM-CERFACS.CNRM-ESM2-1.historical.SImon.gn']"
   ]
  },
  {
   "cell_type": "code",
   "execution_count": null,
   "id": "4c56ae29-d5ba-48d8-a962-4dcff656fcf8",
   "metadata": {},
   "outputs": [],
   "source": [
    "si"
   ]
  },
  {
   "cell_type": "code",
   "execution_count": 50,
   "id": "7cb34dc3-fbf6-48ff-a151-c6bfd02974b5",
   "metadata": {},
   "outputs": [],
   "source": [
    "no3 = dset_dict['CMIP.CNRM-CERFACS.CNRM-ESM2-1.historical.Omon.gn']"
   ]
  },
  {
   "cell_type": "code",
   "execution_count": 59,
   "id": "b47a62e8-d337-42cd-8c02-58aa6c40b1a5",
   "metadata": {},
   "outputs": [
    {
     "data": {
      "text/plain": [
       "array([cftime.DatetimeGregorian(1850, 1, 16, 12, 0, 0, 0, has_year_zero=False),\n",
       "       cftime.DatetimeGregorian(1850, 2, 15, 0, 0, 0, 0, has_year_zero=False),\n",
       "       cftime.DatetimeGregorian(1850, 3, 16, 12, 0, 0, 0, has_year_zero=False),\n",
       "       ...,\n",
       "       cftime.DatetimeGregorian(2014, 10, 16, 12, 0, 0, 0, has_year_zero=False),\n",
       "       cftime.DatetimeGregorian(2014, 11, 16, 0, 0, 0, 0, has_year_zero=False),\n",
       "       cftime.DatetimeGregorian(2014, 12, 16, 12, 0, 0, 0, has_year_zero=False)],\n",
       "      dtype=object)"
      ]
     },
     "execution_count": 59,
     "metadata": {},
     "output_type": "execute_result"
    }
   ],
   "source": [
    "no3.time.values"
   ]
  },
  {
   "cell_type": "code",
   "execution_count": 64,
   "id": "e53203ac-903d-453a-911b-a2a6e03df3a0",
   "metadata": {},
   "outputs": [
    {
     "data": {
      "text/plain": [
       "<matplotlib.contour.QuadContourSet at 0x7f3dee63f910>"
      ]
     },
     "execution_count": 64,
     "metadata": {},
     "output_type": "execute_result"
    },
    {
     "data": {
      "image/png": "[encoded data removed]",
      "text/plain": [
       "<Figure size 640x480 with 2 Axes>"
      ]
     },
     "metadata": {},
     "output_type": "display_data"
    }
   ],
   "source": [
    "# select a specific time\n",
    "si.siconc.isel(member_id=0).sel(time = cftime.DatetimeGregorian(1850, 1, 16), method = 'nearest').squeeze().plot.contourf()\n",
    "#si['siconc'].sel(time=cftime.DatetimeGregorian(1850, 1, 16, 12, 0, 0, 0)).plot(cmap = 'coolwarm')'"
   ]
  },
  {
   "cell_type": "code",
   "execution_count": null,
   "id": "beebd49e-4605-4f4b-b1b6-48ae6c530e07",
   "metadata": {},
   "outputs": [],
   "source": [
    "fig = plt.figure(1, figsize=[10,10])\n",
    "\n",
    "# Set the projection to use for plotting\n",
    "ax = plt.subplot(1, 1, 1, projection=ccrs.PlateCarree())\n",
    "ax.coastlines()\n",
    "\n",
    "# Pass ax as an argument when plotting. Here we assume data is in the same coordinate reference system than the projection chosen for plotting\n",
    "# isel allows to select by indices instead of the time values\n",
    "#dset['tas'].isel(time=0).squeeze().plot.pcolormesh(ax=ax, cmap='coolwarm')\n",
    "si.siconc.isel(member_id=0).sel(\n",
    "    time = cftime.DatetimeGregorian(1850, 1, 16), method = 'nearest'\n",
    ").squeeze().plot.pcolormesh(\n",
    "    ax=ax, \n",
    "    cmap='coolwarm',\n",
    "    transform = ccrs.PlateCarree()\n",
    ")\n"
   ]
  },
  {
   "cell_type": "code",
   "execution_count": 39,
   "id": "13cbe844-8caa-4c3d-bcbc-17fbe5e49cf2",
   "metadata": {},
   "outputs": [],
   "source": [
    "for m in dset_dict:\n",
    "    _ds = dset_dict[m]\n",
    "    _ds = _ds.sel(time= slice('1850-01-01','2014-12-01'))\n",
    "   # _ds = _ds.where(_ds.lat>= 70, drop = True)\n",
    "    dset_dict[m] = _ds"
   ]
  },
  {
   "cell_type": "code",
   "execution_count": 42,
   "id": "d5dc82f9-3d4a-495d-9a22-47ba2f8660f7",
   "metadata": {},
   "outputs": [
    {
     "data": {
      "text/plain": [
       "array([[62.01823807, 62.31846619, 62.61601257, ..., 62.61601257,\n",
       "        62.31846619, 62.01823807],\n",
       "       [62.39691162, 62.70273972, 63.00589752, ..., 63.00589752,\n",
       "        62.70273972, 62.39691162],\n",
       "       [62.77043915, 63.0818367 , 63.39058685, ..., 63.39058685,\n",
       "        63.0818367 , 62.77043915],\n",
       "       ...,\n",
       "       [70.43422699, 70.88079071, 71.32794952, ..., 71.32794952,\n",
       "        70.88079071, 70.43422699],\n",
       "       [70.44381714, 70.89059448, 71.33796692, ..., 71.33796692,\n",
       "        70.89059448, 70.44381714],\n",
       "       [70.44381714, 70.89059448, 71.33796692, ..., 71.33796692,\n",
       "        70.89059448, 70.44381714]])"
      ]
     },
     "execution_count": 42,
     "metadata": {},
     "output_type": "execute_result"
    }
   ],
   "source": [
    "dset_dict['CMIP.CNRM-CERFACS.CNRM-ESM2-1.historical.SImon.gn'].lat.values"
   ]
  },
  {
   "cell_type": "code",
   "execution_count": 46,
   "id": "e47c913a-e281-4e8a-b9ea-c2607ba79cff",
   "metadata": {},
   "outputs": [
    {
     "data": {
      "text/plain": [
       "<matplotlib.contour.QuadContourSet at 0x7f3e8843edc0>"
      ]
     },
     "execution_count": 46,
     "metadata": {},
     "output_type": "execute_result"
    },
    {
     "data": {
      "image/png": "[encoded data removed]",
      "text/plain": [
       "<Figure size 640x480 with 2 Axes>"
      ]
     },
     "metadata": {},
     "output_type": "display_data"
    }
   ],
   "source": [
    "dset_dict['CMIP.CNRM-CERFACS.CNRM-ESM2-1.historical.SImon.gn'].siconc.isel(member_id=0).sel(time='2010-01-16').squeeze().plot.contourf()\n"
   ]
  }
 ],
 "metadata": {
  "kernelspec": {
   "display_name": "Python 3 (ipykernel)",
   "language": "python",
   "name": "python3"
  },
  "language_info": {
   "codemirror_mode": {
    "name": "ipython",
    "version": 3
   },
   "file_extension": ".py",
   "mimetype": "text/x-python",
   "name": "python",
   "nbconvert_exporter": "python",
   "pygments_lexer": "ipython3",
   "version": "3.9.13"
  }
 },
 "nbformat": 4,
 "nbformat_minor": 5
}
