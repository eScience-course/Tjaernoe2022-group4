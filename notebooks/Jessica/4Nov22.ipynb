{
 "cells": [
  {
   "cell_type": "code",
   "execution_count": 3,
   "id": "3355ba9c-ced9-4625-9951-1ad531a08d75",
   "metadata": {},
   "outputs": [],
   "source": [
    "import xarray as xr\n",
    "import s3fs\n",
    "import matplotlib.pyplot as plt\n",
    "import pandas as pd\n",
    "import cartopy.crs as ccrs\n",
    "from datetime import datetime\n",
    "import numpy as np"
   ]
  },
  {
   "cell_type": "code",
   "execution_count": 4,
   "id": "bef751db-ffb4-4882-801b-b4858b489288",
   "metadata": {},
   "outputs": [],
   "source": [
    "s3 = s3fs.S3FileSystem(key=\"K1CQ7M1DMTLUFK182APD\", secret=\"3JuZAQm5I03jtpijCpHOdkAsJDNLNfZxBpM15Pi0\", client_kwargs=dict(endpoint_url=\"https://rgw.met.no\"))"
   ]
  },
  {
   "cell_type": "code",
   "execution_count": 5,
   "id": "3d575df7-030d-4b88-837b-ed65d1f4e41f",
   "metadata": {},
   "outputs": [],
   "source": [
    "def paths_to_datetimeindex(paths):\n",
    "    return  [datetime.strptime(date.split('/')[-1].split('-')[3], '%Y%m%d') for date in paths]"
   ]
  },
  {
   "cell_type": "code",
   "execution_count": 6,
   "id": "ec72ddfe-ab3c-4e5b-9d84-b52859312603",
   "metadata": {},
   "outputs": [],
   "source": [
    "def read_daily_files(year):\n",
    "    for month in range (9,10):\n",
    "        remote_files = 's3://escience2022/Antoine/AMSR2_ASI_sea_ice_concentration/asi-AMSR2-n6250-%i%s*.nc'%(year,str(month).zfill(2))\n",
    "        remote_files = s3.glob(remote_files)\n",
    "        fileset = [s3.open(file) for file in remote_files]\n",
    "        time_var = xr.Variable('time', paths_to_datetimeindex(remote_files))\n",
    "        dset =xr.open_mfdataset(fileset, concat_dim=\"time\", combine = \"nested\")\n",
    "        dset = dset.assign_coords(time=time_var)\n",
    "        dset.to_netcdf('AMSR2_ASI_sea_ice_concentration_%i%s.nc'%(year,str(month).zfill(2)))\n",
    "        del remote_files, dset, time_var"
   ]
  },
  {
   "cell_type": "code",
   "execution_count": 7,
   "id": "d2ed64ee-ee20-4e61-8b4f-79bf04fc7de6",
   "metadata": {},
   "outputs": [
    {
     "data": {
      "text/plain": [
       "[None, None, None, None, None, None, None, None]"
      ]
     },
     "execution_count": 7,
     "metadata": {},
     "output_type": "execute_result"
    }
   ],
   "source": [
    "[read_daily_files(year) for year in range(2012,2020)]"
   ]
  },
  {
   "cell_type": "code",
   "execution_count": null,
   "id": "ca216e67-6f42-40ea-8c13-f24735852478",
   "metadata": {},
   "outputs": [],
   "source": []
  }
 ],
 "metadata": {
  "kernelspec": {
   "display_name": "Python 3 (ipykernel)",
   "language": "python",
   "name": "python3"
  },
  "language_info": {
   "codemirror_mode": {
    "name": "ipython",
    "version": 3
   },
   "file_extension": ".py",
   "mimetype": "text/x-python",
   "name": "python",
   "nbconvert_exporter": "python",
   "pygments_lexer": "ipython3",
   "version": "3.9.13"
  }
 },
 "nbformat": 4,
 "nbformat_minor": 5
}
