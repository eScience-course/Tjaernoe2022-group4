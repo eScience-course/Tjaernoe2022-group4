{
 "cells": [
  {
   "cell_type": "code",
   "execution_count": 1,
   "id": "40443cc2-bd0c-4834-8c30-d5ee883c765b",
   "metadata": {},
   "outputs": [],
   "source": [
    "import xarray as xr\n",
    "import s3fs\n",
    "import matplotlib.pyplot as plt\n",
    "import pandas as pd\n",
    "import cartopy.crs as ccrs\n",
    "from datetime import datetime\n",
    "import numpy as np\n",
    "from dask.distributed import Client, LocalCluster"
   ]
  },
  {
   "cell_type": "code",
   "execution_count": 2,
   "id": "be7b7c25-b29d-4183-a021-f3d677a8607e",
   "metadata": {},
   "outputs": [],
   "source": [
    "s3 = s3fs.S3FileSystem(key=\"K1CQ7M1DMTLUFK182APD\", secret=\"3JuZAQm5I03jtpijCpHOdkAsJDNLNfZxBpM15Pi0\", client_kwargs=dict(endpoint_url=\"https://rgw.met.no\"))"
   ]
  },
  {
   "cell_type": "code",
   "execution_count": 3,
   "id": "112f9a11-3702-4566-99e7-5dc412dc63e6",
   "metadata": {},
   "outputs": [],
   "source": [
    "def paths_to_datetimeindex(paths):\n",
    "    return  [datetime.strptime(date.split('/')[-1].split('-')[3], '%Y%m%d') for date in paths]"
   ]
  },
  {
   "cell_type": "code",
   "execution_count": 5,
   "id": "93f86272-77e1-46ed-a6a7-ac0db3523d66",
   "metadata": {},
   "outputs": [],
   "source": [
    "def read_daily_files(year):\n",
    "    for month in range (1,13):\n",
    "        remote_files = 's3://escience2022/Antoine/AMSR2_ASI_sea_ice_concentration/asi-AMSR2-n6250-%i%s*.nc'%(year,str(month).zfill(2))\n",
    "        remote_files = s3.glob(remote_files)\n",
    "        fileset = [s3.open(file) for file in remote_files]\n",
    "        time_var = xr.Variable('time', paths_to_datetimeindex(remote_files))\n",
    "        dset =xr.open_mfdataset(fileset, concat_dim=\"time\", combine = \"nested\")\n",
    "        dset = dset.assign_coords(time=time_var)\n",
    "        dset.to_netcdf('AMSR2_ASI_sea_ice_concentration_%i%s.nc'%(year,str(month).zfill(2)))\n",
    "        del remote_files, dset, time_var"
   ]
  },
  {
   "cell_type": "code",
   "execution_count": 6,
   "id": "e93652b3-697e-483e-8017-a2066f970a8f",
   "metadata": {},
   "outputs": [
    {
     "name": "stderr",
     "output_type": "stream",
     "text": [
      "\n",
      "KeyboardInterrupt\n",
      "\n"
     ]
    }
   ],
   "source": [
    "[read_daily_files(year) for year in range(2012,2020)]"
   ]
  },
  {
   "cell_type": "code",
   "execution_count": null,
   "id": "44b6361a-0f46-460e-b8f8-60f9d2b6462b",
   "metadata": {},
   "outputs": [],
   "source": []
  }
 ],
 "metadata": {
  "kernelspec": {
   "display_name": "Python 3 (ipykernel)",
   "language": "python",
   "name": "python3"
  },
  "language_info": {
   "codemirror_mode": {
    "name": "ipython",
    "version": 3
   },
   "file_extension": ".py",
   "mimetype": "text/x-python",
   "name": "python",
   "nbconvert_exporter": "python",
   "pygments_lexer": "ipython3",
   "version": "3.9.13"
  }
 },
 "nbformat": 4,
 "nbformat_minor": 5
}
