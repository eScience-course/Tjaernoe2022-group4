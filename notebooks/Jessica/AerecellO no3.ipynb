{
 "cells": [
  {
   "cell_type": "markdown",
   "id": "bf8683b1-5081-4871-b0e5-adfe8e345b6d",
   "metadata": {
    "tags": []
   },
   "source": [
    "## Load useful packages"
   ]
  },
  {
   "cell_type": "code",
   "execution_count": 1,
   "id": "d64322f6-f951-4e12-bfe1-d9da32cc8d1f",
   "metadata": {},
   "outputs": [],
   "source": [
    "# load useful packages\n",
    "import xarray as xr\n",
    "xr.set_options(display_style='html')\n",
    "import intake\n",
    "import cftime\n",
    "import matplotlib.pyplot as plt\n",
    "import cartopy.crs as ccrs\n",
    "import cartopy\n",
    "%matplotlib inline"
   ]
  },
  {
   "cell_type": "markdown",
   "id": "f63ab67c-9b2e-4d3c-b531-4f0eb8c1c814",
   "metadata": {
    "jp-MarkdownHeadingCollapsed": true,
    "tags": []
   },
   "source": [
    "## CMIP6 online catalogue"
   ]
  },
  {
   "cell_type": "code",
   "execution_count": 2,
   "id": "ca19c358-bc03-4df6-8ada-4fbbcb26f2be",
   "metadata": {},
   "outputs": [
    {
     "data": {
      "text/html": [
       "<p><strong>pangeo-cmip6 catalog with 7674 dataset(s) from 514818 asset(s)</strong>:</p> <div>\n",
       "<style scoped>\n",
       "    .dataframe tbody tr th:only-of-type {\n",
       "        vertical-align: middle;\n",
       "    }\n",
       "\n",
       "    .dataframe tbody tr th {\n",
       "        vertical-align: top;\n",
       "    }\n",
       "\n",
       "    .dataframe thead th {\n",
       "        text-align: right;\n",
       "    }\n",
       "</style>\n",
       "<table border=\"1\" class=\"dataframe\">\n",
       "  <thead>\n",
       "    <tr style=\"text-align: right;\">\n",
       "      <th></th>\n",
       "      <th>unique</th>\n",
       "    </tr>\n",
       "  </thead>\n",
       "  <tbody>\n",
       "    <tr>\n",
       "      <th>activity_id</th>\n",
       "      <td>18</td>\n",
       "    </tr>\n",
       "    <tr>\n",
       "      <th>institution_id</th>\n",
       "      <td>36</td>\n",
       "    </tr>\n",
       "    <tr>\n",
       "      <th>source_id</th>\n",
       "      <td>88</td>\n",
       "    </tr>\n",
       "    <tr>\n",
       "      <th>experiment_id</th>\n",
       "      <td>170</td>\n",
       "    </tr>\n",
       "    <tr>\n",
       "      <th>member_id</th>\n",
       "      <td>657</td>\n",
       "    </tr>\n",
       "    <tr>\n",
       "      <th>table_id</th>\n",
       "      <td>37</td>\n",
       "    </tr>\n",
       "    <tr>\n",
       "      <th>variable_id</th>\n",
       "      <td>700</td>\n",
       "    </tr>\n",
       "    <tr>\n",
       "      <th>grid_label</th>\n",
       "      <td>10</td>\n",
       "    </tr>\n",
       "    <tr>\n",
       "      <th>zstore</th>\n",
       "      <td>514818</td>\n",
       "    </tr>\n",
       "    <tr>\n",
       "      <th>dcpp_init_year</th>\n",
       "      <td>60</td>\n",
       "    </tr>\n",
       "    <tr>\n",
       "      <th>version</th>\n",
       "      <td>736</td>\n",
       "    </tr>\n",
       "  </tbody>\n",
       "</table>\n",
       "</div>"
      ],
      "text/plain": [
       "<IPython.core.display.HTML object>"
      ]
     },
     "metadata": {},
     "output_type": "display_data"
    }
   ],
   "source": [
    "# open cmip6 online catalogue\n",
    "cat_url = \"https://storage.googleapis.com/cmip6/pangeo-cmip6.json\"\n",
    "col = intake.open_esm_datastore(cat_url)\n",
    "col"
   ]
  },
  {
   "cell_type": "code",
   "execution_count": 3,
   "id": "2654f215-e9a4-4752-91c8-0bf5d174b6ed",
   "metadata": {},
   "outputs": [
    {
     "data": {
      "text/html": [
       "<div>\n",
       "<style scoped>\n",
       "    .dataframe tbody tr th:only-of-type {\n",
       "        vertical-align: middle;\n",
       "    }\n",
       "\n",
       "    .dataframe tbody tr th {\n",
       "        vertical-align: top;\n",
       "    }\n",
       "\n",
       "    .dataframe thead th {\n",
       "        text-align: right;\n",
       "    }\n",
       "</style>\n",
       "<table border=\"1\" class=\"dataframe\">\n",
       "  <thead>\n",
       "    <tr style=\"text-align: right;\">\n",
       "      <th></th>\n",
       "      <th>activity_id</th>\n",
       "      <th>institution_id</th>\n",
       "      <th>source_id</th>\n",
       "      <th>experiment_id</th>\n",
       "      <th>member_id</th>\n",
       "      <th>table_id</th>\n",
       "      <th>variable_id</th>\n",
       "      <th>grid_label</th>\n",
       "      <th>zstore</th>\n",
       "      <th>dcpp_init_year</th>\n",
       "      <th>version</th>\n",
       "    </tr>\n",
       "  </thead>\n",
       "  <tbody>\n",
       "    <tr>\n",
       "      <th>0</th>\n",
       "      <td>CMIP</td>\n",
       "      <td>CNRM-CERFACS</td>\n",
       "      <td>CNRM-ESM2-1</td>\n",
       "      <td>historical</td>\n",
       "      <td>r1i1p1f2</td>\n",
       "      <td>Ofx</td>\n",
       "      <td>areacello</td>\n",
       "      <td>gn</td>\n",
       "      <td>gs://cmip6/CMIP6/CMIP/CNRM-CERFACS/CNRM-ESM2-1...</td>\n",
       "      <td>NaN</td>\n",
       "      <td>20181206</td>\n",
       "    </tr>\n",
       "    <tr>\n",
       "      <th>1</th>\n",
       "      <td>CMIP</td>\n",
       "      <td>CNRM-CERFACS</td>\n",
       "      <td>CNRM-ESM2-1</td>\n",
       "      <td>historical</td>\n",
       "      <td>r5i1p1f2</td>\n",
       "      <td>Ofx</td>\n",
       "      <td>areacello</td>\n",
       "      <td>gn</td>\n",
       "      <td>gs://cmip6/CMIP6/CMIP/CNRM-CERFACS/CNRM-ESM2-1...</td>\n",
       "      <td>NaN</td>\n",
       "      <td>20190125</td>\n",
       "    </tr>\n",
       "    <tr>\n",
       "      <th>2</th>\n",
       "      <td>CMIP</td>\n",
       "      <td>CNRM-CERFACS</td>\n",
       "      <td>CNRM-ESM2-1</td>\n",
       "      <td>historical</td>\n",
       "      <td>r3i1p1f2</td>\n",
       "      <td>Ofx</td>\n",
       "      <td>areacello</td>\n",
       "      <td>gn</td>\n",
       "      <td>gs://cmip6/CMIP6/CMIP/CNRM-CERFACS/CNRM-ESM2-1...</td>\n",
       "      <td>NaN</td>\n",
       "      <td>20190125</td>\n",
       "    </tr>\n",
       "    <tr>\n",
       "      <th>3</th>\n",
       "      <td>CMIP</td>\n",
       "      <td>CNRM-CERFACS</td>\n",
       "      <td>CNRM-ESM2-1</td>\n",
       "      <td>historical</td>\n",
       "      <td>r2i1p1f2</td>\n",
       "      <td>Ofx</td>\n",
       "      <td>areacello</td>\n",
       "      <td>gn</td>\n",
       "      <td>gs://cmip6/CMIP6/CMIP/CNRM-CERFACS/CNRM-ESM2-1...</td>\n",
       "      <td>NaN</td>\n",
       "      <td>20190125</td>\n",
       "    </tr>\n",
       "    <tr>\n",
       "      <th>4</th>\n",
       "      <td>CMIP</td>\n",
       "      <td>CNRM-CERFACS</td>\n",
       "      <td>CNRM-ESM2-1</td>\n",
       "      <td>historical</td>\n",
       "      <td>r4i1p1f2</td>\n",
       "      <td>Ofx</td>\n",
       "      <td>areacello</td>\n",
       "      <td>gn</td>\n",
       "      <td>gs://cmip6/CMIP6/CMIP/CNRM-CERFACS/CNRM-ESM2-1...</td>\n",
       "      <td>NaN</td>\n",
       "      <td>20190125</td>\n",
       "    </tr>\n",
       "    <tr>\n",
       "      <th>5</th>\n",
       "      <td>CMIP</td>\n",
       "      <td>CNRM-CERFACS</td>\n",
       "      <td>CNRM-ESM2-1</td>\n",
       "      <td>historical</td>\n",
       "      <td>r10i1p1f2</td>\n",
       "      <td>Ofx</td>\n",
       "      <td>areacello</td>\n",
       "      <td>gn</td>\n",
       "      <td>gs://cmip6/CMIP6/CMIP/CNRM-CERFACS/CNRM-ESM2-1...</td>\n",
       "      <td>NaN</td>\n",
       "      <td>20200117</td>\n",
       "    </tr>\n",
       "    <tr>\n",
       "      <th>6</th>\n",
       "      <td>CMIP</td>\n",
       "      <td>CNRM-CERFACS</td>\n",
       "      <td>CNRM-ESM2-1</td>\n",
       "      <td>historical</td>\n",
       "      <td>r9i1p1f2</td>\n",
       "      <td>Ofx</td>\n",
       "      <td>areacello</td>\n",
       "      <td>gn</td>\n",
       "      <td>gs://cmip6/CMIP6/CMIP/CNRM-CERFACS/CNRM-ESM2-1...</td>\n",
       "      <td>NaN</td>\n",
       "      <td>20200117</td>\n",
       "    </tr>\n",
       "    <tr>\n",
       "      <th>7</th>\n",
       "      <td>CMIP</td>\n",
       "      <td>CNRM-CERFACS</td>\n",
       "      <td>CNRM-ESM2-1</td>\n",
       "      <td>historical</td>\n",
       "      <td>r8i1p1f2</td>\n",
       "      <td>Ofx</td>\n",
       "      <td>areacello</td>\n",
       "      <td>gn</td>\n",
       "      <td>gs://cmip6/CMIP6/CMIP/CNRM-CERFACS/CNRM-ESM2-1...</td>\n",
       "      <td>NaN</td>\n",
       "      <td>20200117</td>\n",
       "    </tr>\n",
       "    <tr>\n",
       "      <th>8</th>\n",
       "      <td>CMIP</td>\n",
       "      <td>CNRM-CERFACS</td>\n",
       "      <td>CNRM-ESM2-1</td>\n",
       "      <td>historical</td>\n",
       "      <td>r6i1p1f2</td>\n",
       "      <td>Ofx</td>\n",
       "      <td>areacello</td>\n",
       "      <td>gn</td>\n",
       "      <td>gs://cmip6/CMIP6/CMIP/CNRM-CERFACS/CNRM-ESM2-1...</td>\n",
       "      <td>NaN</td>\n",
       "      <td>20200117</td>\n",
       "    </tr>\n",
       "    <tr>\n",
       "      <th>9</th>\n",
       "      <td>CMIP</td>\n",
       "      <td>CNRM-CERFACS</td>\n",
       "      <td>CNRM-ESM2-1</td>\n",
       "      <td>historical</td>\n",
       "      <td>r11i1p1f2</td>\n",
       "      <td>Ofx</td>\n",
       "      <td>areacello</td>\n",
       "      <td>gn</td>\n",
       "      <td>gs://cmip6/CMIP6/CMIP/CNRM-CERFACS/CNRM-ESM2-1...</td>\n",
       "      <td>NaN</td>\n",
       "      <td>20200408</td>\n",
       "    </tr>\n",
       "  </tbody>\n",
       "</table>\n",
       "</div>"
      ],
      "text/plain": [
       "  activity_id institution_id    source_id experiment_id  member_id table_id  \\\n",
       "0        CMIP   CNRM-CERFACS  CNRM-ESM2-1    historical   r1i1p1f2      Ofx   \n",
       "1        CMIP   CNRM-CERFACS  CNRM-ESM2-1    historical   r5i1p1f2      Ofx   \n",
       "2        CMIP   CNRM-CERFACS  CNRM-ESM2-1    historical   r3i1p1f2      Ofx   \n",
       "3        CMIP   CNRM-CERFACS  CNRM-ESM2-1    historical   r2i1p1f2      Ofx   \n",
       "4        CMIP   CNRM-CERFACS  CNRM-ESM2-1    historical   r4i1p1f2      Ofx   \n",
       "5        CMIP   CNRM-CERFACS  CNRM-ESM2-1    historical  r10i1p1f2      Ofx   \n",
       "6        CMIP   CNRM-CERFACS  CNRM-ESM2-1    historical   r9i1p1f2      Ofx   \n",
       "7        CMIP   CNRM-CERFACS  CNRM-ESM2-1    historical   r8i1p1f2      Ofx   \n",
       "8        CMIP   CNRM-CERFACS  CNRM-ESM2-1    historical   r6i1p1f2      Ofx   \n",
       "9        CMIP   CNRM-CERFACS  CNRM-ESM2-1    historical  r11i1p1f2      Ofx   \n",
       "\n",
       "  variable_id grid_label                                             zstore  \\\n",
       "0   areacello         gn  gs://cmip6/CMIP6/CMIP/CNRM-CERFACS/CNRM-ESM2-1...   \n",
       "1   areacello         gn  gs://cmip6/CMIP6/CMIP/CNRM-CERFACS/CNRM-ESM2-1...   \n",
       "2   areacello         gn  gs://cmip6/CMIP6/CMIP/CNRM-CERFACS/CNRM-ESM2-1...   \n",
       "3   areacello         gn  gs://cmip6/CMIP6/CMIP/CNRM-CERFACS/CNRM-ESM2-1...   \n",
       "4   areacello         gn  gs://cmip6/CMIP6/CMIP/CNRM-CERFACS/CNRM-ESM2-1...   \n",
       "5   areacello         gn  gs://cmip6/CMIP6/CMIP/CNRM-CERFACS/CNRM-ESM2-1...   \n",
       "6   areacello         gn  gs://cmip6/CMIP6/CMIP/CNRM-CERFACS/CNRM-ESM2-1...   \n",
       "7   areacello         gn  gs://cmip6/CMIP6/CMIP/CNRM-CERFACS/CNRM-ESM2-1...   \n",
       "8   areacello         gn  gs://cmip6/CMIP6/CMIP/CNRM-CERFACS/CNRM-ESM2-1...   \n",
       "9   areacello         gn  gs://cmip6/CMIP6/CMIP/CNRM-CERFACS/CNRM-ESM2-1...   \n",
       "\n",
       "   dcpp_init_year   version  \n",
       "0             NaN  20181206  \n",
       "1             NaN  20190125  \n",
       "2             NaN  20190125  \n",
       "3             NaN  20190125  \n",
       "4             NaN  20190125  \n",
       "5             NaN  20200117  \n",
       "6             NaN  20200117  \n",
       "7             NaN  20200117  \n",
       "8             NaN  20200117  \n",
       "9             NaN  20200408  "
      ]
     },
     "execution_count": 3,
     "metadata": {},
     "output_type": "execute_result"
    }
   ],
   "source": [
    "cat = col.search(source_id=['CNRM-ESM2-1'], \n",
    "                 experiment_id=['historical'], table_id=['Ofx'], \n",
    "                 variable_id=['areacello']) \n",
    "                 #member_id=['r1i1p1f1'])\n",
    "cat.df"
   ]
  },
  {
   "cell_type": "code",
   "execution_count": 5,
   "id": "478ca94a-2de0-4dd8-beee-be4c094e4f65",
   "metadata": {},
   "outputs": [
    {
     "name": "stdout",
     "output_type": "stream",
     "text": [
      "\n",
      "--> The keys in the returned dictionary of datasets are constructed as follows:\n",
      "\t'activity_id.institution_id.source_id.experiment_id.table_id.grid_label'\n"
     ]
    },
    {
     "data": {
      "text/html": [
       "\n",
       "<style>\n",
       "    /* Turns off some styling */\n",
       "    progress {\n",
       "        /* gets rid of default border in Firefox and Opera. */\n",
       "        border: none;\n",
       "        /* Needs to be in here for Safari polyfill so background images work as expected. */\n",
       "        background-size: auto;\n",
       "    }\n",
       "    progress:not([value]), progress:not([value])::-webkit-progress-bar {\n",
       "        background: repeating-linear-gradient(45deg, #7e7e7e, #7e7e7e 10px, #5c5c5c 10px, #5c5c5c 20px);\n",
       "    }\n",
       "    .progress-bar-interrupted, .progress-bar-interrupted::-webkit-progress-bar {\n",
       "        background: #F44336;\n",
       "    }\n",
       "</style>\n"
      ],
      "text/plain": [
       "<IPython.core.display.HTML object>"
      ]
     },
     "metadata": {},
     "output_type": "display_data"
    },
    {
     "data": {
      "text/html": [
       "\n",
       "    <div>\n",
       "      <progress value='1' class='' max='1' style='width:300px; height:20px; vertical-align: middle;'></progress>\n",
       "      100.00% [1/1 00:00&lt;00:00]\n",
       "    </div>\n",
       "    "
      ],
      "text/plain": [
       "<IPython.core.display.HTML object>"
      ]
     },
     "metadata": {},
     "output_type": "display_data"
    }
   ],
   "source": [
    "# Create dictionary from the list of datasets we found\n",
    "dset_dict = cat.to_dataset_dict(zarr_kwargs={'use_cftime':True})"
   ]
  },
  {
   "cell_type": "code",
   "execution_count": 9,
   "id": "07193b49-80eb-4242-9bf9-5337b37776d5",
   "metadata": {},
   "outputs": [],
   "source": [
    "areacello = dset_dict[list(dset_dict.keys())[0]]"
   ]
  },
  {
   "cell_type": "code",
   "execution_count": 10,
   "id": "3fa9caa1-81fc-4336-a0fc-25292aa493b4",
   "metadata": {},
   "outputs": [],
   "source": [
    "# choose one member_id\n",
    "areacello = areacello.isel(member_id = 0).squeeze()\n"
   ]
  },
  {
   "cell_type": "markdown",
   "id": "d6500703-53ea-4072-b653-bc8316cf3ffb",
   "metadata": {
    "jp-MarkdownHeadingCollapsed": true,
    "tags": []
   },
   "source": [
    "## Select only the Greenland Sea area"
   ]
  },
  {
   "cell_type": "code",
   "execution_count": 11,
   "id": "7f6a9f1d-9f34-4fee-bf89-70ee6735ad82",
   "metadata": {},
   "outputs": [],
   "source": [
    "GLarea = areacello.areacello.where((areacello.lat>=70) & (areacello.lat<=85) & (areacello.lon <= 10) & (areacello.lon >= -10), drop = True)"
   ]
  },
  {
   "cell_type": "markdown",
   "id": "196a5343-1070-47d0-b78c-cd19c21efb0e",
   "metadata": {
    "jp-MarkdownHeadingCollapsed": true,
    "tags": []
   },
   "source": [
    "## Import NO3 concentration data"
   ]
  },
  {
   "cell_type": "code",
   "execution_count": 12,
   "id": "aad71c14-b917-44d6-964f-35b2442e599e",
   "metadata": {},
   "outputs": [
    {
     "data": {
      "text/html": [
       "<div>\n",
       "<style scoped>\n",
       "    .dataframe tbody tr th:only-of-type {\n",
       "        vertical-align: middle;\n",
       "    }\n",
       "\n",
       "    .dataframe tbody tr th {\n",
       "        vertical-align: top;\n",
       "    }\n",
       "\n",
       "    .dataframe thead th {\n",
       "        text-align: right;\n",
       "    }\n",
       "</style>\n",
       "<table border=\"1\" class=\"dataframe\">\n",
       "  <thead>\n",
       "    <tr style=\"text-align: right;\">\n",
       "      <th></th>\n",
       "      <th>activity_id</th>\n",
       "      <th>institution_id</th>\n",
       "      <th>source_id</th>\n",
       "      <th>experiment_id</th>\n",
       "      <th>member_id</th>\n",
       "      <th>table_id</th>\n",
       "      <th>variable_id</th>\n",
       "      <th>grid_label</th>\n",
       "      <th>zstore</th>\n",
       "      <th>dcpp_init_year</th>\n",
       "      <th>version</th>\n",
       "    </tr>\n",
       "  </thead>\n",
       "  <tbody>\n",
       "    <tr>\n",
       "      <th>0</th>\n",
       "      <td>CMIP</td>\n",
       "      <td>CNRM-CERFACS</td>\n",
       "      <td>CNRM-ESM2-1</td>\n",
       "      <td>historical</td>\n",
       "      <td>r1i1p1f2</td>\n",
       "      <td>Omon</td>\n",
       "      <td>no3</td>\n",
       "      <td>gn</td>\n",
       "      <td>gs://cmip6/CMIP6/CMIP/CNRM-CERFACS/CNRM-ESM2-1...</td>\n",
       "      <td>NaN</td>\n",
       "      <td>20181206</td>\n",
       "    </tr>\n",
       "    <tr>\n",
       "      <th>1</th>\n",
       "      <td>CMIP</td>\n",
       "      <td>CNRM-CERFACS</td>\n",
       "      <td>CNRM-ESM2-1</td>\n",
       "      <td>historical</td>\n",
       "      <td>r3i1p1f2</td>\n",
       "      <td>Omon</td>\n",
       "      <td>no3</td>\n",
       "      <td>gn</td>\n",
       "      <td>gs://cmip6/CMIP6/CMIP/CNRM-CERFACS/CNRM-ESM2-1...</td>\n",
       "      <td>NaN</td>\n",
       "      <td>20190125</td>\n",
       "    </tr>\n",
       "    <tr>\n",
       "      <th>2</th>\n",
       "      <td>CMIP</td>\n",
       "      <td>CNRM-CERFACS</td>\n",
       "      <td>CNRM-ESM2-1</td>\n",
       "      <td>historical</td>\n",
       "      <td>r2i1p1f2</td>\n",
       "      <td>Omon</td>\n",
       "      <td>no3</td>\n",
       "      <td>gn</td>\n",
       "      <td>gs://cmip6/CMIP6/CMIP/CNRM-CERFACS/CNRM-ESM2-1...</td>\n",
       "      <td>NaN</td>\n",
       "      <td>20190125</td>\n",
       "    </tr>\n",
       "    <tr>\n",
       "      <th>3</th>\n",
       "      <td>CMIP</td>\n",
       "      <td>CNRM-CERFACS</td>\n",
       "      <td>CNRM-ESM2-1</td>\n",
       "      <td>historical</td>\n",
       "      <td>r5i1p1f2</td>\n",
       "      <td>Omon</td>\n",
       "      <td>no3</td>\n",
       "      <td>gn</td>\n",
       "      <td>gs://cmip6/CMIP6/CMIP/CNRM-CERFACS/CNRM-ESM2-1...</td>\n",
       "      <td>NaN</td>\n",
       "      <td>20190125</td>\n",
       "    </tr>\n",
       "    <tr>\n",
       "      <th>4</th>\n",
       "      <td>CMIP</td>\n",
       "      <td>CNRM-CERFACS</td>\n",
       "      <td>CNRM-ESM2-1</td>\n",
       "      <td>historical</td>\n",
       "      <td>r4i1p1f2</td>\n",
       "      <td>Omon</td>\n",
       "      <td>no3</td>\n",
       "      <td>gn</td>\n",
       "      <td>gs://cmip6/CMIP6/CMIP/CNRM-CERFACS/CNRM-ESM2-1...</td>\n",
       "      <td>NaN</td>\n",
       "      <td>20190125</td>\n",
       "    </tr>\n",
       "    <tr>\n",
       "      <th>5</th>\n",
       "      <td>CMIP</td>\n",
       "      <td>CNRM-CERFACS</td>\n",
       "      <td>CNRM-ESM2-1</td>\n",
       "      <td>historical</td>\n",
       "      <td>r10i1p1f2</td>\n",
       "      <td>Omon</td>\n",
       "      <td>no3</td>\n",
       "      <td>gn</td>\n",
       "      <td>gs://cmip6/CMIP6/CMIP/CNRM-CERFACS/CNRM-ESM2-1...</td>\n",
       "      <td>NaN</td>\n",
       "      <td>20200117</td>\n",
       "    </tr>\n",
       "    <tr>\n",
       "      <th>6</th>\n",
       "      <td>CMIP</td>\n",
       "      <td>CNRM-CERFACS</td>\n",
       "      <td>CNRM-ESM2-1</td>\n",
       "      <td>historical</td>\n",
       "      <td>r9i1p1f2</td>\n",
       "      <td>Omon</td>\n",
       "      <td>no3</td>\n",
       "      <td>gn</td>\n",
       "      <td>gs://cmip6/CMIP6/CMIP/CNRM-CERFACS/CNRM-ESM2-1...</td>\n",
       "      <td>NaN</td>\n",
       "      <td>20200117</td>\n",
       "    </tr>\n",
       "    <tr>\n",
       "      <th>7</th>\n",
       "      <td>CMIP</td>\n",
       "      <td>CNRM-CERFACS</td>\n",
       "      <td>CNRM-ESM2-1</td>\n",
       "      <td>historical</td>\n",
       "      <td>r8i1p1f2</td>\n",
       "      <td>Omon</td>\n",
       "      <td>no3</td>\n",
       "      <td>gn</td>\n",
       "      <td>gs://cmip6/CMIP6/CMIP/CNRM-CERFACS/CNRM-ESM2-1...</td>\n",
       "      <td>NaN</td>\n",
       "      <td>20200117</td>\n",
       "    </tr>\n",
       "    <tr>\n",
       "      <th>8</th>\n",
       "      <td>CMIP</td>\n",
       "      <td>CNRM-CERFACS</td>\n",
       "      <td>CNRM-ESM2-1</td>\n",
       "      <td>historical</td>\n",
       "      <td>r7i1p1f2</td>\n",
       "      <td>Omon</td>\n",
       "      <td>no3</td>\n",
       "      <td>gn</td>\n",
       "      <td>gs://cmip6/CMIP6/CMIP/CNRM-CERFACS/CNRM-ESM2-1...</td>\n",
       "      <td>NaN</td>\n",
       "      <td>20200117</td>\n",
       "    </tr>\n",
       "    <tr>\n",
       "      <th>9</th>\n",
       "      <td>CMIP</td>\n",
       "      <td>CNRM-CERFACS</td>\n",
       "      <td>CNRM-ESM2-1</td>\n",
       "      <td>historical</td>\n",
       "      <td>r6i1p1f2</td>\n",
       "      <td>Omon</td>\n",
       "      <td>no3</td>\n",
       "      <td>gn</td>\n",
       "      <td>gs://cmip6/CMIP6/CMIP/CNRM-CERFACS/CNRM-ESM2-1...</td>\n",
       "      <td>NaN</td>\n",
       "      <td>20200117</td>\n",
       "    </tr>\n",
       "    <tr>\n",
       "      <th>10</th>\n",
       "      <td>CMIP</td>\n",
       "      <td>CNRM-CERFACS</td>\n",
       "      <td>CNRM-ESM2-1</td>\n",
       "      <td>historical</td>\n",
       "      <td>r11i1p1f2</td>\n",
       "      <td>Omon</td>\n",
       "      <td>no3</td>\n",
       "      <td>gn</td>\n",
       "      <td>gs://cmip6/CMIP6/CMIP/CNRM-CERFACS/CNRM-ESM2-1...</td>\n",
       "      <td>NaN</td>\n",
       "      <td>20200408</td>\n",
       "    </tr>\n",
       "  </tbody>\n",
       "</table>\n",
       "</div>"
      ],
      "text/plain": [
       "   activity_id institution_id    source_id experiment_id  member_id table_id  \\\n",
       "0         CMIP   CNRM-CERFACS  CNRM-ESM2-1    historical   r1i1p1f2     Omon   \n",
       "1         CMIP   CNRM-CERFACS  CNRM-ESM2-1    historical   r3i1p1f2     Omon   \n",
       "2         CMIP   CNRM-CERFACS  CNRM-ESM2-1    historical   r2i1p1f2     Omon   \n",
       "3         CMIP   CNRM-CERFACS  CNRM-ESM2-1    historical   r5i1p1f2     Omon   \n",
       "4         CMIP   CNRM-CERFACS  CNRM-ESM2-1    historical   r4i1p1f2     Omon   \n",
       "5         CMIP   CNRM-CERFACS  CNRM-ESM2-1    historical  r10i1p1f2     Omon   \n",
       "6         CMIP   CNRM-CERFACS  CNRM-ESM2-1    historical   r9i1p1f2     Omon   \n",
       "7         CMIP   CNRM-CERFACS  CNRM-ESM2-1    historical   r8i1p1f2     Omon   \n",
       "8         CMIP   CNRM-CERFACS  CNRM-ESM2-1    historical   r7i1p1f2     Omon   \n",
       "9         CMIP   CNRM-CERFACS  CNRM-ESM2-1    historical   r6i1p1f2     Omon   \n",
       "10        CMIP   CNRM-CERFACS  CNRM-ESM2-1    historical  r11i1p1f2     Omon   \n",
       "\n",
       "   variable_id grid_label                                             zstore  \\\n",
       "0          no3         gn  gs://cmip6/CMIP6/CMIP/CNRM-CERFACS/CNRM-ESM2-1...   \n",
       "1          no3         gn  gs://cmip6/CMIP6/CMIP/CNRM-CERFACS/CNRM-ESM2-1...   \n",
       "2          no3         gn  gs://cmip6/CMIP6/CMIP/CNRM-CERFACS/CNRM-ESM2-1...   \n",
       "3          no3         gn  gs://cmip6/CMIP6/CMIP/CNRM-CERFACS/CNRM-ESM2-1...   \n",
       "4          no3         gn  gs://cmip6/CMIP6/CMIP/CNRM-CERFACS/CNRM-ESM2-1...   \n",
       "5          no3         gn  gs://cmip6/CMIP6/CMIP/CNRM-CERFACS/CNRM-ESM2-1...   \n",
       "6          no3         gn  gs://cmip6/CMIP6/CMIP/CNRM-CERFACS/CNRM-ESM2-1...   \n",
       "7          no3         gn  gs://cmip6/CMIP6/CMIP/CNRM-CERFACS/CNRM-ESM2-1...   \n",
       "8          no3         gn  gs://cmip6/CMIP6/CMIP/CNRM-CERFACS/CNRM-ESM2-1...   \n",
       "9          no3         gn  gs://cmip6/CMIP6/CMIP/CNRM-CERFACS/CNRM-ESM2-1...   \n",
       "10         no3         gn  gs://cmip6/CMIP6/CMIP/CNRM-CERFACS/CNRM-ESM2-1...   \n",
       "\n",
       "    dcpp_init_year   version  \n",
       "0              NaN  20181206  \n",
       "1              NaN  20190125  \n",
       "2              NaN  20190125  \n",
       "3              NaN  20190125  \n",
       "4              NaN  20190125  \n",
       "5              NaN  20200117  \n",
       "6              NaN  20200117  \n",
       "7              NaN  20200117  \n",
       "8              NaN  20200117  \n",
       "9              NaN  20200117  \n",
       "10             NaN  20200408  "
      ]
     },
     "execution_count": 12,
     "metadata": {},
     "output_type": "execute_result"
    }
   ],
   "source": [
    "cat2 = col.search(source_id=['CNRM-ESM2-1'], \n",
    "                 experiment_id=['historical'], table_id=['Omon'], \n",
    "                 variable_id=['no3']) \n",
    "                 \n",
    "cat2.df"
   ]
  },
  {
   "cell_type": "code",
   "execution_count": 13,
   "id": "b8168747-5fd4-4db0-ad3f-24bef0c963c7",
   "metadata": {},
   "outputs": [
    {
     "name": "stdout",
     "output_type": "stream",
     "text": [
      "\n",
      "--> The keys in the returned dictionary of datasets are constructed as follows:\n",
      "\t'activity_id.institution_id.source_id.experiment_id.table_id.grid_label'\n"
     ]
    },
    {
     "data": {
      "text/html": [
       "\n",
       "<style>\n",
       "    /* Turns off some styling */\n",
       "    progress {\n",
       "        /* gets rid of default border in Firefox and Opera. */\n",
       "        border: none;\n",
       "        /* Needs to be in here for Safari polyfill so background images work as expected. */\n",
       "        background-size: auto;\n",
       "    }\n",
       "    progress:not([value]), progress:not([value])::-webkit-progress-bar {\n",
       "        background: repeating-linear-gradient(45deg, #7e7e7e, #7e7e7e 10px, #5c5c5c 10px, #5c5c5c 20px);\n",
       "    }\n",
       "    .progress-bar-interrupted, .progress-bar-interrupted::-webkit-progress-bar {\n",
       "        background: #F44336;\n",
       "    }\n",
       "</style>\n"
      ],
      "text/plain": [
       "<IPython.core.display.HTML object>"
      ]
     },
     "metadata": {},
     "output_type": "display_data"
    },
    {
     "data": {
      "text/html": [
       "\n",
       "    <div>\n",
       "      <progress value='1' class='' max='1' style='width:300px; height:20px; vertical-align: middle;'></progress>\n",
       "      100.00% [1/1 00:00&lt;00:00]\n",
       "    </div>\n",
       "    "
      ],
      "text/plain": [
       "<IPython.core.display.HTML object>"
      ]
     },
     "metadata": {},
     "output_type": "display_data"
    }
   ],
   "source": [
    "# Create dictionary from the list of datasets we found\n",
    "dsi_dict = cat2.to_dataset_dict(zarr_kwargs={'use_cftime':True})"
   ]
  },
  {
   "cell_type": "code",
   "execution_count": 14,
   "id": "9e17e25f-46a2-4f4c-b69a-b08b51594bdf",
   "metadata": {},
   "outputs": [],
   "source": [
    "no3 = dsi_dict[list(dsi_dict.keys())[0]]"
   ]
  },
  {
   "cell_type": "markdown",
   "id": "1ba6f40f-ec3f-4e48-a88a-8311312ce86b",
   "metadata": {
    "tags": []
   },
   "source": [
    "## Average over ensemble means"
   ]
  },
  {
   "cell_type": "code",
   "execution_count": 15,
   "id": "e7cd867e-5f49-4ef3-8444-c4065819e7d6",
   "metadata": {},
   "outputs": [],
   "source": [
    "no3 = no3.isel(lev = 0)"
   ]
  },
  {
   "cell_type": "code",
   "execution_count": 16,
   "id": "c7f44626-202e-44f1-baad-8a68a154ec19",
   "metadata": {},
   "outputs": [],
   "source": [
    "# average over the ensemble means\n",
    "no3_mean = no3.mean(dim = ['member_id'], keep_attrs=True)"
   ]
  },
  {
   "cell_type": "code",
   "execution_count": 17,
   "id": "8b24b888-411d-4d40-8f08-848842d9f613",
   "metadata": {},
   "outputs": [],
   "source": [
    "no3_GL = no3_mean.where((no3_mean.lon>=-10) & (no3_mean.lon<=10) & (no3_mean.lat <=85 )  & (no3_mean.lat >= 70),drop = True)"
   ]
  },
  {
   "cell_type": "code",
   "execution_count": 18,
   "id": "4009f9bb-ce10-4b74-a80b-c95606d586e3",
   "metadata": {},
   "outputs": [],
   "source": [
    "no3_weighted = (GLarea*no3_GL).sum(dim=('x','y'))/GLarea.sum(dim=('x','y'))"
   ]
  },
  {
   "cell_type": "code",
   "execution_count": 20,
   "id": "f2eb0fa6-90fd-4f9d-bc9c-ef1a6c87fd4f",
   "metadata": {},
   "outputs": [
    {
     "name": "stdout",
     "output_type": "stream",
     "text": [
      "[########################################] | 100% Completed | 10m 54s\n"
     ]
    }
   ],
   "source": [
    "from dask.diagnostics import ProgressBar\n",
    "\n",
    "with ProgressBar():\n",
    "    no3_monthly = no3_weighted['no3'].groupby('time.month').mean(dim = [\"time\"],keep_attrs=True).compute()"
   ]
  },
  {
   "cell_type": "code",
   "execution_count": 21,
   "id": "171988e8-e45d-4554-b38f-f358236c09ad",
   "metadata": {},
   "outputs": [
    {
     "data": {
      "text/plain": [
       "[<matplotlib.lines.Line2D at 0x7fe360322c70>]"
      ]
     },
     "execution_count": 21,
     "metadata": {},
     "output_type": "execute_result"
    },
    {
     "data": {
      "image/png": "[encoded data removed]",
      "text/plain": [
       "<Figure size 640x480 with 1 Axes>"
      ]
     },
     "metadata": {},
     "output_type": "display_data"
    }
   ],
   "source": [
    "no3_monthly.plot()"
   ]
  },
  {
   "cell_type": "code",
   "execution_count": 25,
   "id": "5bbe09a7-9ff1-476b-a594-2d57fb9fffae",
   "metadata": {},
   "outputs": [
    {
     "name": "stdout",
     "output_type": "stream",
     "text": [
      "[########################################] | 100% Completed | 10m 47s\n"
     ]
    }
   ],
   "source": [
    "with ProgressBar():\n",
    "    no3_yearly = no3_weighted['no3'].groupby('time.year').mean(dim = [\"time\"],keep_attrs=True).compute()"
   ]
  },
  {
   "cell_type": "code",
   "execution_count": 26,
   "id": "87abbbda-1a1a-4557-b462-d992dfe48725",
   "metadata": {},
   "outputs": [
    {
     "data": {
      "text/plain": [
       "[<matplotlib.lines.Line2D at 0x7fe3621fac10>]"
      ]
     },
     "execution_count": 26,
     "metadata": {},
     "output_type": "execute_result"
    },
    {
     "data": {
      "image/png": "[encoded data removed]",
      "text/plain": [
       "<Figure size 640x480 with 1 Axes>"
      ]
     },
     "metadata": {},
     "output_type": "display_data"
    }
   ],
   "source": [
    "no3_yearly.plot()"
   ]
  }
 ],
 "metadata": {
  "kernelspec": {
   "display_name": "Python 3 (ipykernel)",
   "language": "python",
   "name": "python3"
  },
  "language_info": {
   "codemirror_mode": {
    "name": "ipython",
    "version": 3
   },
   "file_extension": ".py",
   "mimetype": "text/x-python",
   "name": "python",
   "nbconvert_exporter": "python",
   "pygments_lexer": "ipython3",
   "version": "3.9.13"
  }
 },
 "nbformat": 4,
 "nbformat_minor": 5
}
