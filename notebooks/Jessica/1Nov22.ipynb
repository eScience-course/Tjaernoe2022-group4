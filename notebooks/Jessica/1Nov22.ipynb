{
 "cells": [
  {
   "cell_type": "markdown",
   "id": "96091d9b-fd31-4758-9079-438fe2e503a0",
   "metadata": {},
   "source": [
    "## eScience Course 2022"
   ]
  }
 ],
 "metadata": {
  "kernelspec": {
   "display_name": "Python 3 (ipykernel)",
   "language": "python",
   "name": "python3"
  },
  "language_info": {
   "codemirror_mode": {
    "name": "ipython",
    "version": 3
   },
   "file_extension": ".py",
   "mimetype": "text/x-python",
   "name": "python",
   "nbconvert_exporter": "python",
   "pygments_lexer": "ipython3",
   "version": "3.9.13"
  }
 },
 "nbformat": 4,
 "nbformat_minor": 5
}
