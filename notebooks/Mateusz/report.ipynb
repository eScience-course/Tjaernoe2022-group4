{
 "cells": [
  {
   "cell_type": "code",
   "execution_count": 10,
   "id": "7712fb64-00e6-426c-8051-9c60dc263275",
   "metadata": {},
   "outputs": [],
   "source": [
    "import functions as f\n",
    "import xarray as xr\n",
    "import cartopy\n",
    "import cartopy.crs as ccrs\n",
    "import matplotlib.pyplot as plt"
   ]
  },
  {
   "cell_type": "code",
   "execution_count": 11,
   "id": "259a08de-5e09-4d53-84fb-a18f6b277f8b",
   "metadata": {},
   "outputs": [
    {
     "name": "stdout",
     "output_type": "stream",
     "text": [
      "<xarray.DataArray 'sss' (y: 432, x: 432)>\n",
      "[186624 values with dtype=float32]\n",
      "Coordinates:\n",
      "    time     datetime64[ns] 2011-07-17T11:48:00\n",
      "  * y        (y) float32 -5.388e+03 -5.362e+03 ... 5.362e+03 5.388e+03\n",
      "  * x        (x) float32 -5.388e+03 -5.362e+03 ... 5.362e+03 5.388e+03\n",
      "    lat      (y, x) float32 ...\n",
      "    lon      (y, x) float32 ...\n",
      "Attributes:\n",
      "    units:          1\n",
      "    standard_name:  sea_surface_salinity\n",
      "    long_name:      Sea Surface Salinity\n",
      "    description:    Sea Surface Salinity [psu]\n",
      "    grid_mapping:   crs\n",
      "    valid_min:      0.0\n",
      "    valid_max:      50.0\n"
     ]
    }
   ],
   "source": [
    "sat_files = f.read_satellite_data_9D(num_years=2)\n",
    "dat = xr.open_dataset(sat_files[2011][0]).squeeze()\n",
    "sat_proj = ccrs.NorthPolarStereo()\n",
    "sss = dat['sss']\n",
    "print(sss)"
   ]
  },
  {
   "cell_type": "code",
   "execution_count": 12,
   "id": "3fa38dac-c5f6-4662-bf35-9c0c54e7f303",
   "metadata": {},
   "outputs": [
    {
     "ename": "NameError",
     "evalue": "name 'plt' is not defined",
     "output_type": "error",
     "traceback": [
      "\u001b[0;31m---------------------------------------------------------------------------\u001b[0m",
      "\u001b[0;31mNameError\u001b[0m                                 Traceback (most recent call last)",
      "Cell \u001b[0;32mIn [12], line 1\u001b[0m\n\u001b[0;32m----> 1\u001b[0m \u001b[43mf\u001b[49m\u001b[38;5;241;43m.\u001b[39;49m\u001b[43mplot_sss_sat\u001b[49m\u001b[43m(\u001b[49m\u001b[43msss\u001b[49m\u001b[43m)\u001b[49m\n",
      "File \u001b[0;32m~/Skole/Tjaernoe2022-group4/notebooks/Mateusz/functions.py:33\u001b[0m, in \u001b[0;36mplot_sss_sat\u001b[0;34m(sss)\u001b[0m\n\u001b[1;32m     27\u001b[0m \u001b[38;5;28;01mdef\u001b[39;00m \u001b[38;5;21mplot_sss_sat\u001b[39m(sss):\n\u001b[1;32m     28\u001b[0m     \u001b[38;5;124;03m'''\u001b[39;00m\n\u001b[1;32m     29\u001b[0m \u001b[38;5;124;03m        Plots the sea surface salinity from satellite data\u001b[39;00m\n\u001b[1;32m     30\u001b[0m \u001b[38;5;124;03m    Args:\u001b[39;00m\n\u001b[1;32m     31\u001b[0m \u001b[38;5;124;03m        sss\u001b[39;00m\n\u001b[1;32m     32\u001b[0m \u001b[38;5;124;03m    '''\u001b[39;00m\n\u001b[0;32m---> 33\u001b[0m     fig, ax \u001b[38;5;241m=\u001b[39m \u001b[43mplt\u001b[49m\u001b[38;5;241m.\u001b[39msubplots(figsize\u001b[38;5;241m=\u001b[39m(\u001b[38;5;241m10\u001b[39m,\u001b[38;5;241m10\u001b[39m),subplot_kw\u001b[38;5;241m=\u001b[39m{\u001b[38;5;124m'\u001b[39m\u001b[38;5;124mprojection\u001b[39m\u001b[38;5;124m'\u001b[39m:sat_proj})\n\u001b[1;32m     34\u001b[0m     sss\u001b[38;5;241m.\u001b[39mplot\u001b[38;5;241m.\u001b[39mpcolormesh(\n\u001b[1;32m     35\u001b[0m         ax \u001b[38;5;241m=\u001b[39m ax,\n\u001b[1;32m     36\u001b[0m         cbar_kwargs\u001b[38;5;241m=\u001b[39m{\n\u001b[0;32m   (...)\u001b[0m\n\u001b[1;32m     41\u001b[0m         levels\u001b[38;5;241m=\u001b[39m\u001b[38;5;241m10\u001b[39m,\n\u001b[1;32m     42\u001b[0m         )\n\u001b[1;32m     43\u001b[0m     ax\u001b[38;5;241m.\u001b[39mgridlines(draw_labels\u001b[38;5;241m=\u001b[39m\u001b[38;5;28;01mTrue\u001b[39;00m)\n",
      "\u001b[0;31mNameError\u001b[0m: name 'plt' is not defined"
     ]
    }
   ],
   "source": [
    "f.plot_sss_sat(sss)"
   ]
  },
  {
   "cell_type": "code",
   "execution_count": null,
   "id": "36291c15-2028-4b9d-8432-6537e2f41962",
   "metadata": {},
   "outputs": [],
   "source": []
  }
 ],
 "metadata": {
  "kernelspec": {
   "display_name": "Python 3 (ipykernel)",
   "language": "python",
   "name": "python3"
  },
  "language_info": {
   "codemirror_mode": {
    "name": "ipython",
    "version": 3
   },
   "file_extension": ".py",
   "mimetype": "text/x-python",
   "name": "python",
   "nbconvert_exporter": "python",
   "pygments_lexer": "ipython3",
   "version": "3.10.6"
  }
 },
 "nbformat": 4,
 "nbformat_minor": 5
}
