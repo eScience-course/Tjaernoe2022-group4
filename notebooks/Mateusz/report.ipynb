{
 "cells": [
  {
   "cell_type": "code",
   "execution_count": 1,
   "id": "7712fb64-00e6-426c-8051-9c60dc263275",
   "metadata": {},
   "outputs": [],
   "source": [
    "import functions as f\n",
    "import xarray as xr\n",
    "import cartopy\n",
    "import cartopy.crs as ccrs\n",
    "import matplotlib.pyplot as plt\n",
    "import s3fs\n",
    "import cftime\n",
    "import intake"
   ]
  },
  {
   "cell_type": "code",
   "execution_count": 2,
   "id": "259a08de-5e09-4d53-84fb-a18f6b277f8b",
   "metadata": {},
   "outputs": [],
   "source": [
    "s3 = s3fs.S3FileSystem(key=\"K1CQ7M1DMTLUFK182APD\", secret=\"3JuZAQm5I03jtpijCpHOdkAsJDNLNfZxBpM15Pi0\", client_kwargs=dict(endpoint_url=\"https://rgw.met.no\"))\n",
    "path='escience2022/Antoine/ESA_SMOS_Arctic_Sea_Surface_Salinity/'\n",
    "\n",
    "sat_files = f.read_satellite_data(num_years=10, path=path)\n",
    "dat = xr.open_dataset(s3.open(sat_files[2011][0])).squeeze()\n",
    "dat['y'] = dat['y']*1000\n",
    "dat['x'] = dat['x']*1000\n",
    "sss = dat['sss']\n"
   ]
  },
  {
   "cell_type": "code",
   "execution_count": null,
   "id": "3fa38dac-c5f6-4662-bf35-9c0c54e7f303",
   "metadata": {},
   "outputs": [],
   "source": [
    "f.plot_sss_sat(sss, levels=50)"
   ]
  },
  {
   "cell_type": "code",
   "execution_count": null,
   "id": "36291c15-2028-4b9d-8432-6537e2f41962",
   "metadata": {},
   "outputs": [],
   "source": [
    "cat = col.search(source_id=['CESM2'], experiment_id=['historical'], table_id=['Amon'], variable_id=['tas'], member_id=['r1i1p1f1'])\n",
    "dset_dict = cat.to_dataset_dict(zarr_kwargs={'use_cftime':True})"
   ]
  },
  {
   "cell_type": "code",
   "execution_count": null,
   "id": "8eb05472-8c5a-41be-b739-cb3337a146ef",
   "metadata": {},
   "outputs": [],
   "source": [
    "dataset_list = list(dset_dict.keys())\n",
    "dset = dset_dict[dataset_list[0]]\n",
    "print(dset['tas'])\n",
    "\n",
    "dset['tas'].plot()"
   ]
  },
  {
   "cell_type": "code",
   "execution_count": null,
   "id": "8dccf9ad-205d-431e-9bb6-b23bc312cbf4",
   "metadata": {},
   "outputs": [],
   "source": [
    "ctd = xr.open_dataset('3901598_prof.nc')\n",
    "#print(ctd.variables)\n",
    "\n",
    "ctd['LATITUDE']"
   ]
  },
  {
   "cell_type": "code",
   "execution_count": null,
   "id": "f19afd82-c19f-4c77-bf3d-07d2ace4c5a9",
   "metadata": {},
   "outputs": [],
   "source": [
    "ctd['LONGITUDE']"
   ]
  },
  {
   "cell_type": "code",
   "execution_count": null,
   "id": "c0015a2a-f4cf-4617-923e-17f308d84bd3",
   "metadata": {},
   "outputs": [],
   "source": [
    "fig = plt.figure(figsize=(20,20))\n",
    "ax = plt.axes(projection=ccrs.NorthPolarStereo())\n",
    "st = ctd.isel(ctd['LONGITUDE'] == -3.9, method='nearest')\n",
    "#specific_station = [ctd['LONGITUDE'].sel(-3.9, method='nearest'), ctd['latitude'].sel(70, method='nearest')]\n",
    "ax.scatter(ctd['LONGITUDE'][:], ctd['LATITUDE'][:], transform=ccrs.PlateCarree())\n",
    "ax.scatter(specific_station[0], specific_station[1], c='r')\n",
    "ax.coastlines()\n",
    "ax.gridlines(draw_labels=True)"
   ]
  },
  {
   "cell_type": "code",
   "execution_count": null,
   "id": "17938044-9c3d-4591-bf06-e90d52ef915e",
   "metadata": {},
   "outputs": [],
   "source": []
  },
  {
   "cell_type": "code",
   "execution_count": null,
   "id": "9ca6bbd8-e626-45f9-bff0-a52edae23cd6",
   "metadata": {},
   "outputs": [],
   "source": []
  },
  {
   "cell_type": "code",
   "execution_count": null,
   "id": "fbcae8e8-58cb-49ff-a668-f9ef6c9d5448",
   "metadata": {},
   "outputs": [],
   "source": []
  }
 ],
 "metadata": {
  "kernelspec": {
   "display_name": "Python 3 (ipykernel)",
   "language": "python",
   "name": "python3"
  },
  "language_info": {
   "codemirror_mode": {
    "name": "ipython",
    "version": 3
   },
   "file_extension": ".py",
   "mimetype": "text/x-python",
   "name": "python",
   "nbconvert_exporter": "python",
   "pygments_lexer": "ipython3",
   "version": "3.9.13"
  }
 },
 "nbformat": 4,
 "nbformat_minor": 5
}
